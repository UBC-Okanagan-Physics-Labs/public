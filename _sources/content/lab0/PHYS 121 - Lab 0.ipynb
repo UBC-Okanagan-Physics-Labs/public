{
 "cells": [
  {
   "cell_type": "markdown",
   "id": "41ffb51a",
   "metadata": {
    "deletable": false,
    "editable": false,
    "tags": []
   },
   "source": [
    "# <div style=\"background-color:rgba(204, 229, 255, 0.5); text-align:center; vertical-align: middle; padding:40px 0; margin-top:30px\"><span style=\"color:rgba(0, 76, 153, 1);\">**PHYS 121 Lab #0**<span style=\"color:red\"> $\\to$ (15 possible marks)</span> </span></div> \n",
    "\n",
    "<p>\n",
    "<center>\n",
    "<img src=\"https://raw.githubusercontent.com/UBC-Okanagan-Physics-Labs/PHYS-121-images/main/Lab-0/gifs/PHYS121.gif\" alt=\"image info\" style=\"width: 85%; height: auto;\" />\n",
    "</center>\n",
    "</p>\n",
    "\n",
    "<font size =\"4\"><span style=\"color:purple\">We recommend that you complete this notebook using either the [Google Chrome](https://www.google.com/intl/en_ca/chrome/) or [Mozilla Firefox](https://www.mozilla.org/en-CA/firefox/new/) browser.  Chrome and Firefox are both available for Windows, Mac, and Linux operating systems.  The PHYS 121 Jupyter notebooks should work in other browsers, but we have specifically verfied that they work well in both Chrome and Firefox.</span></font>"
   ]
  },
  {
   "cell_type": "markdown",
   "id": "c527380a",
   "metadata": {
    "deletable": false,
    "editable": false,
    "tags": []
   },
   "source": [
    "***\n",
    "## Lab Learning Outcomes:\n",
    "By the end of the PHYS 121 lab, the successful student will be able to:\n",
    "* <b><span style=\"color:rgba(0, 153, 76, 1);\">Take familiar concepts and techniques used to solve a problem in one field physics and use them to gain insights about problems from other, seemingly unrelated, fields of physics.</span></b>\n",
    "* <b><span style=\"color:rgba(0, 153, 76, 1);\">Use basic/inexpensive equipment to conduct careful physics experiments that produce meaningful results that uncover something about the behaviour of nature.</span></b>\n",
    "* <b><span style=\"color:rgba(0, 153, 76, 1);\">Revise and repeat experiments using improved measurement techniques to collect precision data that uncovers new insights about the physical system being studied.</span></b>\n",
    "* <b><span style=\"color:rgba(0, 153, 76, 1);\">Use Python and Jupyter Notebooks to analyze the experimental data that you collect.</span></b>\n",
    "\n",
    "## Lab Manuals:\n",
    "The PHYS 121 lab manuals have been created using interactive **Jupyter Notebooks** (https://en.wikipedia.org/wiki/Project_Jupyter).  These notebooks, which have an **.ipynb** extension, allow one to enter, analyze/process, and display experimental data.  You will be provided with links that will open the electronic notebook/lab manual.  You will enter your data and do your analysis within these notebooks.  At the end of each lab, you will upload a **.zip** file to the PHYS 121 Lab Canvas page.  The .zip file will be generated for you, and it will contain the .ipynb file that you filled in with your data and anaylsis and a pdf file with some of the results from your analysis. \n",
    "\n",
    "Jupter notebooks have \"cells\" that are used to enter text, do calculations, and/or analyze data.  To execute a Juyter cell, place your cursor within the cell and then hit SHIFT + ENTER (hold down SHIFT and then press ENTER).  Each cell can contain more than one line of text/code.  To start a new line, simply hit ENTER (without holding down the SHIFT key).\n",
    "\n",
    "The Jupyter Notebooks that we will use in PHYS 121 will execute code written in the Python programming language (https://en.wikipedia.org/wiki/Python_(programming_language)).  You do **NOT** need to know Python or have any programming experience to successfully complete the PHYS 121 labs.  We will provide you with the code needed to complete the lab exercises.  Comments can be entered into a code cell by preceeding the comment with '#'.  Any text following the comment tag will not be executed as code when the user hits SHIFT + ENTER."
   ]
  },
  {
   "cell_type": "markdown",
   "id": "0210ab21",
   "metadata": {
    "deletable": false,
    "editable": false,
    "tags": []
   },
   "source": [
    "# <div style=\"background-color:rgba(255, 204, 255, 0.5); text-align:center; vertical-align: middle; padding:40px 0; margin-top:30px\"><span style=\"color:rgba(102, 0, 204, 1);\">Part 1 - Installing & Importing Packages (10 minutes)</span></div>\n",
    "\n",
    "## The 'PHYS121.Installer()' Function:\n",
    "\n",
    "**Part 1** of this introductory lab is used to install and import some packages that we will use throughout PHYS 121.  The installation will be done by calling a function called 'Installer()' which is contained within the file 'PHYS121.py'.  In order to use 'PHYS121.py', the file must be located in the same directory as the active Jupyter notebook (i.e. the .ipynb file) and then it must be imported into the notebook.  The 'PHYS121.py' file should already be among the files listed in the frame along the left-hand side of the screen.  The file can be imported using the following syntax:\n",
    "```python\n",
    "import PHYS121\n",
    "```\n",
    "The 'Installer()' function can then be called using:\n",
    "```python\n",
    "PHYS121.Installer()\n",
    "```\n",
    "These two line of code have already been entered into the cell below.  \n",
    "\n",
    "'PHYS121.Installer()' checks to see if some required Python packages/modules are already installed.  If they are, then the function outputs a message saying that its okay to proceed.  If one or more of the packages are missing, the function attempts to install them and then outputs a message that says the user should exectute the PHYS121.Installer() cell a second time.  The second time the installer function is run, it should simply confirm that the required packages are already installed.  \n",
    "\n",
    "If necessary, the user can \"restart the kernel\" start with a fresh notebook in which no cells have been executed.  To restart the kernel, select **Kernel** $\\to$ **Restart Kernel** from the menu options at to the top of the page.  Here is a <a href = \"https://raw.githubusercontent.com/UBC-Okanagan-Physics-Labs/PHYS-121-images/main/general/gifs/restartKernel.gif\">GIF</a> showing how to restart the kernel."
   ]
  },
  {
   "cell_type": "markdown",
   "id": "2ed81461",
   "metadata": {
    "deletable": false,
    "editable": false,
    "tags": []
   },
   "source": [
    "Run 'PHYS121.Installer()' by placing you're cursor inside the code cell below and then hitting 'Shift'+'Enter'."
   ]
  },
  {
   "cell_type": "code",
   "execution_count": null,
   "id": "7818464d",
   "metadata": {
    "deletable": false,
    "editable": false,
    "tags": []
   },
   "outputs": [],
   "source": [
    "import PHYS121\n",
    "PHYS121.Installer()"
   ]
  },
  {
   "cell_type": "markdown",
   "id": "e331b34f",
   "metadata": {
    "deletable": false,
    "editable": false,
    "tags": []
   },
   "source": [
    "## Importing Packages/Modules:\n",
    "\n",
    "Once the packages are installed, they can be imported using the notation:\n",
    "```python\n",
    "import packageName\n",
    "```\n",
    "where 'packageName' is the name of the package to be imported.  In the cell below, we import some of the packages that were installed by 'PHYS121.Installer()' and others that are preinstalled within UBC's Open Jupyter.\n",
    "\n",
    "Execute the import statements below by placing your cursor within the code cell and hitting 'Shift' + 'Enter'."
   ]
  },
  {
   "cell_type": "code",
   "execution_count": null,
   "id": "9178d9fe",
   "metadata": {
    "tags": []
   },
   "outputs": [],
   "source": [
    "# Import required and commonly-used modules\n",
    "import numpy as np\n",
    "import matplotlib.pyplot as plt\n",
    "import uncertainties"
   ]
  },
  {
   "cell_type": "markdown",
   "id": "44256195",
   "metadata": {
    "deletable": false,
    "editable": false,
    "tags": []
   },
   "source": [
    "# <div style=\"background-color:rgba(255, 204, 255, 0.5); text-align:center; vertical-align: middle; padding:40px 0; margin-top:30px\"><span style=\"color:rgba(102, 0, 204, 1);\">Part 2 - Auto-Grading (5 minutes)</span></div>\n",
    "\n",
    "The PHYS 121 Pre-Lab Assignments and Lab Notebooks will make use of both auto-graded questions and manually-graded questions.  In order to facilitate the auto-grading and generate the files for manual grading, the 'otter' package has to be imported and then initiallized using the commands:\n",
    "```python\n",
    "import otter\n",
    "grader = otter.Notebook(\"PHYS 121 - Lab 0.ipynb\")\n",
    "```\n",
    "Execute the cell below (SHIFT + ENTER) to import and initialize the auot-grading. "
   ]
  },
  {
   "cell_type": "code",
   "execution_count": null,
   "id": "e766b1c5",
   "metadata": {
    "deletable": false,
    "editable": false,
    "tags": []
   },
   "outputs": [],
   "source": [
    "# Import Otter for the purposes of autograding\n",
    "import otter\n",
    "\n",
    "# Initialize Otter (for the purposes of auto-grading some cells)\n",
    "grader = otter.Notebook(\"PHYS 121 - Lab 0.ipynb\")"
   ]
  },
  {
   "cell_type": "markdown",
   "id": "da1cdba2",
   "metadata": {
    "deletable": false,
    "editable": false,
    "tags": []
   },
   "source": [
    "# <div style=\"background-color:rgba(255, 204, 255, 0.5); text-align:center; vertical-align: middle; padding:40px 0; margin-top:30px\"><span style=\"color:rgba(102, 0, 204, 1);\">Part 3 - Lab Logistics (10 minutes)</span></div>  \n",
    "\n",
    "In the PHYS 121 lab, most of you will be working with a partner.  **If you are working with a partner, you only need to upload a single copy of the zip file to Canvas when submitting your work.**  The zip file can be uploaded to either your Canvas shell or your partner's Canvas shell.  Once the submission has been graded, the same mark will be entered for both you and your partner.  Note that you need to complete the **pre-lab assignments independently**.  The pre-labs will also be completed using Jupyter notebooks.  For the pre-labs, every student in the PHYS 121 lab must upload their own zip file to Canvas.\n",
    "\n",
    "To ensure that both you and your partner receive credit for you lab work, both your name and student number and your partner's name and student number need to appear in the notebooks used during the labs.  In the cells below this text, enter your name and student number and your partner's name and student number.\n",
    "\n",
    "After your names and student numbers have been entered, execute the cells containing\n",
    "```python\n",
    "grader.check(\"name_and_student_number_1\")\n",
    "```\n",
    "and\n",
    "```python\n",
    "grader.check(\"name_and_student_number_2\")\n",
    "```\n",
    "These fucntions are part of the auto-grader and are desiged to check for errors in the data that you entered.  For example, the student number should be a string (enclosed in single or double quotes) of exactly 8 characters and all of the characters have to be integers.  If the data that you entered is okay, you should get a message indicating that all of the checks have passed.  If anything fails, you should search for the **message** in the output and use it to fix the error(s) in the values that you entered.\n",
    "\n",
    "Examples of valid entries are:\n",
    "```python\n",
    "last_name_1 = 'Doe'\n",
    "first_name_1 = 'Jane'\n",
    "student_number_1 = '12345678'\n",
    "```\n",
    "and\n",
    "```python\n",
    "last_name_1 = \"Doe\"\n",
    "first_name_1 = \"John\"\n",
    "student_number_1 = \"12345678\"\n",
    "```"
   ]
  },
  {
   "cell_type": "markdown",
   "id": "43aca448",
   "metadata": {
    "deletable": false,
    "editable": false,
    "tags": []
   },
   "source": [
    "<!-- BEGIN QUESTION -->\n",
    "\n",
    "***\n",
    "### **<span style=\"color:blue\">Partner #1</span>** **<span style=\"color:red\">(0.5 marks)</span>** "
   ]
  },
  {
   "cell_type": "code",
   "execution_count": null,
   "id": "e8128af0",
   "metadata": {
    "tags": []
   },
   "outputs": [],
   "source": [
    "# Enter LAST name of partner 1.  Delete the ... below and type your entry between the single quotes.\n",
    "# Once you've completed your entry, press SHIFT + ENTER to execute the cell.\n",
    "# *** Please do not change anything to the left of the equals sign. ***\n",
    "last_name_1 = ..."
   ]
  },
  {
   "cell_type": "code",
   "execution_count": null,
   "id": "fb39d88c",
   "metadata": {
    "tags": []
   },
   "outputs": [],
   "source": [
    "# Enter FIRST name of partner 1.  Delete the ... below and type your entry between the single quotes.\n",
    "# Once you've completed your entry, press SHIFT + ENTER to execute the cell.\n",
    "# *** Please do not change anything to the left of the equals sign. ***\n",
    "first_name_1 = ..."
   ]
  },
  {
   "cell_type": "code",
   "execution_count": null,
   "id": "a77c5e11",
   "metadata": {
    "tags": []
   },
   "outputs": [],
   "source": [
    "# Enter STUDENT NUMBER of partner 1.  Delete the ... below and type your entry between the single quotes.\n",
    "# Once you've completed your entry, press SHIFT + ENTER to execute the cell.\n",
    "# *** Please do not change anything to the left of the equals sign. ***\n",
    "student_number_1 = ..."
   ]
  },
  {
   "cell_type": "code",
   "execution_count": null,
   "id": "40b6c6a7",
   "metadata": {
    "deletable": false,
    "editable": false
   },
   "outputs": [],
   "source": [
    "grader.check(\"name_and_student_number_1\")"
   ]
  },
  {
   "cell_type": "markdown",
   "id": "6134f245",
   "metadata": {
    "deletable": false,
    "editable": false,
    "tags": []
   },
   "source": [
    "<!-- END QUESTION -->\n",
    "\n",
    "<!-- BEGIN QUESTION -->\n",
    "\n",
    "***\n",
    "### **<span style=\"color:blue\">Partner #2</span>** **<span style=\"color:red\">(0.5 marks)</span>** \n",
    "If you are working on your own, leave all of last_name_2, first_name_2, and student_number_2 as ...  Please still exectute these cells and then run the 'grader.check(\"name_and_student_number_2\")' cell."
   ]
  },
  {
   "cell_type": "code",
   "execution_count": null,
   "id": "72c894ef",
   "metadata": {
    "tags": []
   },
   "outputs": [],
   "source": [
    "# Enter LAST name of partner 2.  Delete the ... below and type your entry between the single quotes.\n",
    "# Once you've completed your entry, press SHIFT + ENTER to execute the cell.\n",
    "# *** Please do not change anything to the left of the equals sign. ***\n",
    "last_name_2 = ..."
   ]
  },
  {
   "cell_type": "code",
   "execution_count": null,
   "id": "87ceab51",
   "metadata": {
    "tags": []
   },
   "outputs": [],
   "source": [
    "# Enter FIRST name of partner 2.  Delete the ... below and type your entry between the single quotes.\n",
    "# Once you've completed your entry, press SHIFT + ENTER to execute the cell.\n",
    "# *** Please do not change anything to the left of the equals sign. ***\n",
    "first_name_2 = ..."
   ]
  },
  {
   "cell_type": "code",
   "execution_count": null,
   "id": "0894e3d9",
   "metadata": {
    "tags": []
   },
   "outputs": [],
   "source": [
    "# Enter STUDENT NUMBER of partner 2.  Delete the ... below and type your entry between the single quotes.\n",
    "# Once you've completed your entry, press SHIFT + ENTER to execute the cell.\n",
    "# *** Please do not change anything to the left of the equals sign. ***\n",
    "student_number_2 = ..."
   ]
  },
  {
   "cell_type": "code",
   "execution_count": null,
   "id": "977e94f8",
   "metadata": {
    "deletable": false,
    "editable": false
   },
   "outputs": [],
   "source": [
    "grader.check(\"name_and_student_number_2\")"
   ]
  },
  {
   "cell_type": "markdown",
   "id": "6a7d9015",
   "metadata": {
    "deletable": false,
    "editable": false,
    "tags": []
   },
   "source": [
    "<!-- END QUESTION -->\n",
    "\n",
    "# <div style=\"background-color:rgba(255, 204, 255, 0.5); text-align:center; vertical-align: middle; padding:40px 0; margin-top:30px\"><span style=\"color:rgba(102, 0, 204, 1);\">Part 4 Quiz (45 minutes)</span></div>\n",
    "\n",
    "In order for you to get familiar with the Jupyter Notebook lab manuals and the PHYS 121 policies, you will complete the short quiz below.\n",
    "\n",
    "First, access the PHYS 121 Lab Canvas page.  Navigate the to \"Lab 0\" folder within the \"Modules\" section of Canvas and read the pdf documents there.  These documents contain the answers to most of the questions in the quiz.\n",
    "\n",
    "To enter a response to the quiz questions, replace the dots (...) with the your answer (keep the answer within the singe quotes ' ').  Text inside of single quotes (' ') or double quotes (\" \") are called strings.  The autograder expects your answers to be enter as strings."
   ]
  },
  {
   "cell_type": "markdown",
   "id": "81a9209c",
   "metadata": {
    "deletable": false,
    "editable": false,
    "tags": []
   },
   "source": [
    "***\n",
    "**<span style=\"color:blue\">Question 4.1</span>** **<span style=\"color:red\">(1 mark)</span>**  \n",
    "What is a passing grade for the PHYS 121 lab?\n",
    "- (a) 35%\n",
    "- (b) 40%\n",
    "- (c) 50%\n",
    "- (d) 60%\n",
    "- (e) 65%"
   ]
  },
  {
   "cell_type": "markdown",
   "id": "1ce394a0",
   "metadata": {
    "deletable": false,
    "editable": false,
    "tags": []
   },
   "source": [
    "**<span style=\"color:blue\">Answer 4.1</span>**  \n",
    "Replace the ... in the cell below with your answer.  Your answer should be a single character (a, b, c, d, or e) between single or double quotes.  \n",
    "*** Please do not change anything to the left of the equals sign. ***"
   ]
  },
  {
   "cell_type": "code",
   "execution_count": null,
   "id": "733221f8",
   "metadata": {
    "tags": []
   },
   "outputs": [],
   "source": [
    "a4_1 = ..."
   ]
  },
  {
   "cell_type": "code",
   "execution_count": null,
   "id": "b6858fe6",
   "metadata": {
    "deletable": false,
    "editable": false
   },
   "outputs": [],
   "source": [
    "grader.check(\"Q4.1\")"
   ]
  },
  {
   "cell_type": "markdown",
   "id": "17c70719",
   "metadata": {
    "deletable": false,
    "editable": false,
    "tags": []
   },
   "source": [
    "***\n",
    "**<span style=\"color:blue\">Question 4.2</span>** **<span style=\"color:red\">(1 mark)</span>**  \n",
    "There are no exemptions for the PHYS 121 lab.\n",
    "- (a) True\n",
    "- (b) False"
   ]
  },
  {
   "cell_type": "markdown",
   "id": "e152b9be",
   "metadata": {
    "deletable": false,
    "editable": false,
    "tags": []
   },
   "source": [
    "**<span style=\"color:blue\">Answer 4.2</span>**  \n",
    "Replace the ... in the cell below with your answer.  Your answer should be a single character (a, b, t, or f) between single or double quotes.  \n",
    "*** Please do not change anything to the left of the equals sign. ***"
   ]
  },
  {
   "cell_type": "code",
   "execution_count": null,
   "id": "c65fe60e",
   "metadata": {
    "tags": []
   },
   "outputs": [],
   "source": [
    "a4_2 = ..."
   ]
  },
  {
   "cell_type": "code",
   "execution_count": null,
   "id": "70dd7bea",
   "metadata": {
    "deletable": false,
    "editable": false
   },
   "outputs": [],
   "source": [
    "grader.check(\"Q4.2\")"
   ]
  },
  {
   "cell_type": "markdown",
   "id": "76ddb811",
   "metadata": {
    "deletable": false,
    "editable": false,
    "tags": []
   },
   "source": [
    "***\n",
    "**<span style=\"color:blue\">Question 4.3</span>** **<span style=\"color:red\">(1 mark)</span>**  \n",
    "I am not required to attend every lab in person.\n",
    "- (a) True\n",
    "- (b) False"
   ]
  },
  {
   "cell_type": "markdown",
   "id": "e3a7900c",
   "metadata": {
    "deletable": false,
    "editable": false,
    "tags": []
   },
   "source": [
    "**<span style=\"color:blue\">Answer 4.3</span>**  \n",
    "Replace the ... in the cell below with your answer.  Your answer should be a single character (a, b, t or f) between single or double quotes.  \n",
    "*** Please do not change anything to the left of the equals sign. ***"
   ]
  },
  {
   "cell_type": "code",
   "execution_count": null,
   "id": "0c9220d2",
   "metadata": {
    "tags": []
   },
   "outputs": [],
   "source": [
    "a4_3 = ..."
   ]
  },
  {
   "cell_type": "code",
   "execution_count": null,
   "id": "e5203eb7",
   "metadata": {
    "deletable": false,
    "editable": false
   },
   "outputs": [],
   "source": [
    "grader.check(\"Q4.3\")"
   ]
  },
  {
   "cell_type": "markdown",
   "id": "c93a1ca1",
   "metadata": {
    "deletable": false,
    "editable": false,
    "tags": []
   },
   "source": [
    "***\n",
    "**<span style=\"color:blue\">Question 4.4</span>** **<span style=\"color:red\">(1 mark)</span>**  \n",
    "What is the due date and time for this lab?\n",
    "- (a) 1 hour after the start of the lab.\n",
    "- (b) 3 hours after the start of the lab.\n",
    "- (c) 15 minutes after the end of the lab.\n",
    "- (d) 23:59 the day before the next lab starts.\n",
    "- (e) By the end of the term."
   ]
  },
  {
   "cell_type": "markdown",
   "id": "0e6af951",
   "metadata": {
    "deletable": false,
    "editable": false,
    "tags": []
   },
   "source": [
    "**<span style=\"color:blue\">Answer 4.4</span>**  \n",
    "Replace the ... in the cell below with your answer.  Your answer should be a single character (a, b, c, d, or e) between single or double quotes.  \n",
    "*** Please do not change anything to the left of the equals sign. ***"
   ]
  },
  {
   "cell_type": "code",
   "execution_count": null,
   "id": "ba2d3912",
   "metadata": {
    "tags": []
   },
   "outputs": [],
   "source": [
    "a4_4 = ..."
   ]
  },
  {
   "cell_type": "code",
   "execution_count": null,
   "id": "0e575a4c",
   "metadata": {
    "deletable": false,
    "editable": false
   },
   "outputs": [],
   "source": [
    "grader.check(\"Q4.4\")"
   ]
  },
  {
   "cell_type": "markdown",
   "id": "75ca6445",
   "metadata": {
    "deletable": false,
    "editable": false,
    "tags": []
   },
   "source": [
    "***\n",
    "**<span style=\"color:blue\">Question 4.5</span>** **<span style=\"color:red\">(1 mark)</span>**  \n",
    "To make special arrangements with your TA or the Physics Lab Team, I should:\n",
    "- (a) make the arrangements verbally.\n",
    "- (b) ask my friend.\n",
    "- (c) have my mom or dad contact the university.\n",
    "- (d) use the Qualtrics form ([Link to Form](https://ubc.ca1.qualtrics.com/jfe/form/SV_bNJfeDCS8TW0FwO)).\n",
    "- (e) Special arrangements are not needed.  I can just show up to another lab section."
   ]
  },
  {
   "cell_type": "markdown",
   "id": "a34e0aa4",
   "metadata": {
    "deletable": false,
    "editable": false,
    "tags": []
   },
   "source": [
    "**<span style=\"color:blue\">Answer 4.5</span>**  \n",
    "Replace the ... in the cell below with your answer.  Your answer should be a single character (a, b, c, d, or e) between single or double quotes.  \n",
    "*** Please do not change anything to the left of the equals sign. ***"
   ]
  },
  {
   "cell_type": "code",
   "execution_count": null,
   "id": "43d62130",
   "metadata": {
    "tags": []
   },
   "outputs": [],
   "source": [
    "a4_5 = ..."
   ]
  },
  {
   "cell_type": "code",
   "execution_count": null,
   "id": "dcdd6714",
   "metadata": {
    "deletable": false,
    "editable": false
   },
   "outputs": [],
   "source": [
    "grader.check(\"Q4.5\")"
   ]
  },
  {
   "cell_type": "markdown",
   "id": "b3fd6504",
   "metadata": {
    "deletable": false,
    "editable": false,
    "tags": []
   },
   "source": [
    "***\n",
    "**<span style=\"color:blue\">Question 4.6</span>** **<span style=\"color:red\">(1 mark)</span>**  \n",
    "For each calendar day that a lab is submitted late, there is late penalty deduction of:\n",
    "- (a) 0%\n",
    "- (b) 10%\n",
    "- (c) 15%\n",
    "- (d) 20%\n",
    "- (e) 25%"
   ]
  },
  {
   "cell_type": "markdown",
   "id": "3aa6034f",
   "metadata": {
    "deletable": false,
    "editable": false,
    "tags": []
   },
   "source": [
    "**<span style=\"color:blue\">Answer 4.6</span>**  \n",
    "Replace the ... in the cell below with your answer.  Your answer should be a single character (a, b, c, d, or e) between single or double quotes.  \n",
    "*** Please do not change anything to the left of the equals sign. ***"
   ]
  },
  {
   "cell_type": "code",
   "execution_count": null,
   "id": "964659bd",
   "metadata": {
    "tags": []
   },
   "outputs": [],
   "source": [
    "a4_6 = ..."
   ]
  },
  {
   "cell_type": "code",
   "execution_count": null,
   "id": "ee3cf30a",
   "metadata": {
    "deletable": false,
    "editable": false
   },
   "outputs": [],
   "source": [
    "grader.check(\"Q4.6\")"
   ]
  },
  {
   "cell_type": "markdown",
   "id": "78bb7a45",
   "metadata": {
    "deletable": false,
    "editable": false,
    "tags": []
   },
   "source": [
    "***\n",
    "**<span style=\"color:blue\">Question 4.7</span>** **<span style=\"color:red\">(1 mark)</span>**  \n",
    "To be considered for a make-up lab, when you miss a lab you must declare your absence using the Qualtrics form ([Link to Form](https://ubc.ca1.qualtrics.com/jfe/form/SV_bNJfeDCS8TW0FwO)) within how many calendar days from the date of the lab that you missed?\n",
    "- (a) 1 day\n",
    "- (b) 2 days\n",
    "- (c) 3 days\n",
    "- (d) 4 days\n",
    "- (e) 5 days"
   ]
  },
  {
   "cell_type": "markdown",
   "id": "732f91ed",
   "metadata": {
    "deletable": false,
    "editable": false,
    "tags": []
   },
   "source": [
    "**<span style=\"color:blue\">Answer 4.7</span>**  \n",
    "Replace the ... in the cell below with your answer.  Your answer should be a single character (a, b, c, d, or e) between single or double quotes.  \n",
    "*** Please do not change anything to the left of the equals sign. ***"
   ]
  },
  {
   "cell_type": "code",
   "execution_count": null,
   "id": "8307796a",
   "metadata": {
    "tags": []
   },
   "outputs": [],
   "source": [
    "a4_7 = ..."
   ]
  },
  {
   "cell_type": "code",
   "execution_count": null,
   "id": "0a4bb276",
   "metadata": {
    "deletable": false,
    "editable": false
   },
   "outputs": [],
   "source": [
    "grader.check(\"Q4.7\")"
   ]
  },
  {
   "cell_type": "markdown",
   "id": "c340ef38",
   "metadata": {
    "deletable": false,
    "editable": false,
    "tags": []
   },
   "source": [
    "***\n",
    "**<span style=\"color:blue\">Question 4.8</span>** **<span style=\"color:red\">(1 mark)</span>**  \n",
    "An act of dishonesty (such as plagiarism) is not allowed. For this reason, it may result in a failing grade or mark of zero on the assignment or in the course. Cases of academic dishonesty will be reported to the Dean's office.\n",
    "- (a) True\n",
    "- (b) False"
   ]
  },
  {
   "cell_type": "markdown",
   "id": "43e5ae3b",
   "metadata": {
    "deletable": false,
    "editable": false,
    "tags": []
   },
   "source": [
    "**<span style=\"color:blue\">Answer 4.8</span>**  \n",
    "Replace the ... in the cell below with your answer.  Your answer should be a single character (a, b, t, or f) between single or double quotes.  \n",
    "*** Please do not change anything to the left of the equals sign. ***"
   ]
  },
  {
   "cell_type": "code",
   "execution_count": null,
   "id": "51efc73d",
   "metadata": {
    "tags": []
   },
   "outputs": [],
   "source": [
    "a4_8 = ..."
   ]
  },
  {
   "cell_type": "code",
   "execution_count": null,
   "id": "e0cce40b",
   "metadata": {
    "deletable": false,
    "editable": false
   },
   "outputs": [],
   "source": [
    "grader.check(\"Q4.8\")"
   ]
  },
  {
   "cell_type": "markdown",
   "id": "b0d84003",
   "metadata": {
    "deletable": false,
    "editable": false,
    "tags": []
   },
   "source": [
    "***\n",
    "**<span style=\"color:blue\">Question 4.9</span>** **<span style=\"color:red\">(1 mark)</span>**  \n",
    "The due date for finalizing lab grades is April 9. You must talk to your TAs to discuss any issues related to the lab marks before this date. We will not discuss it after the finalizing date.\n",
    "- (a) True\n",
    "- (b) False"
   ]
  },
  {
   "cell_type": "markdown",
   "id": "186c5abe",
   "metadata": {
    "deletable": false,
    "editable": false,
    "tags": []
   },
   "source": [
    "**<span style=\"color:blue\">Answer 4.9</span>**  \n",
    "Replace the ... in the cell below with your answer.  Your answer should be a single character (a, b, t, or f) between single or double quotes.  \n",
    "*** Please do not change anything to the left of the equals sign. ***"
   ]
  },
  {
   "cell_type": "code",
   "execution_count": null,
   "id": "cf3e1cfb",
   "metadata": {
    "tags": []
   },
   "outputs": [],
   "source": [
    "a4_9 = ..."
   ]
  },
  {
   "cell_type": "code",
   "execution_count": null,
   "id": "258776cd",
   "metadata": {
    "deletable": false,
    "editable": false
   },
   "outputs": [],
   "source": [
    "grader.check(\"Q4.9\")"
   ]
  },
  {
   "cell_type": "markdown",
   "id": "536d276b",
   "metadata": {
    "deletable": false,
    "editable": false,
    "tags": []
   },
   "source": [
    "***\n",
    "**<span style=\"color:blue\">Question 4.10</span>** **<span style=\"color:red\">(1 mark)</span>**  \n",
    "I am able to make a special arrangement at the end of term so that I can submit assignments that I did not hand earlier in the term to increase my grade just enough to pass the lab component of PHYS 121.\n",
    "- (a) True\n",
    "- (b) False"
   ]
  },
  {
   "cell_type": "markdown",
   "id": "655cba5e",
   "metadata": {
    "deletable": false,
    "editable": false,
    "tags": []
   },
   "source": [
    "**<span style=\"color:blue\">Answer 4.10</span>**  \n",
    "Replace the ... in the cell below with your answer.  Your answer should be a single character (a, b, t, or f) between single or double quotes.  \n",
    "*** Please do not change anything to the left of the equals sign. ***"
   ]
  },
  {
   "cell_type": "code",
   "execution_count": null,
   "id": "dfe0d00c",
   "metadata": {
    "tags": []
   },
   "outputs": [],
   "source": [
    "a4_10 = ..."
   ]
  },
  {
   "cell_type": "code",
   "execution_count": null,
   "id": "bdc74cb0",
   "metadata": {
    "deletable": false,
    "editable": false
   },
   "outputs": [],
   "source": [
    "grader.check(\"Q4.10\")"
   ]
  },
  {
   "cell_type": "markdown",
   "id": "3ec4a1cd",
   "metadata": {
    "deletable": false,
    "editable": false,
    "tags": []
   },
   "source": [
    "<!-- BEGIN QUESTION -->\n",
    "\n",
    "***\n",
    "**<span style=\"color:blue\">Question 4.11</span>** **<span style=\"color:red\">(1 mark)</span>**  \n",
    "Enter the lab section that you are registered in."
   ]
  },
  {
   "cell_type": "markdown",
   "id": "507e8b89",
   "metadata": {
    "deletable": false,
    "editable": false,
    "tags": []
   },
   "source": [
    "**<span style=\"color:blue\">Answer 4.11</span>**  \n",
    "Replace the ... in the cell below with your answer.  Your answer should be a string of 3 characters ('L04', for example).  \n",
    "*** Please do not change anything to the left of the equals sign. ***"
   ]
  },
  {
   "cell_type": "code",
   "execution_count": null,
   "id": "62e8e513",
   "metadata": {
    "tags": []
   },
   "outputs": [],
   "source": [
    "a4_11 = ..."
   ]
  },
  {
   "cell_type": "code",
   "execution_count": null,
   "id": "2b193613",
   "metadata": {
    "deletable": false,
    "editable": false
   },
   "outputs": [],
   "source": [
    "grader.check(\"Q4.11\")"
   ]
  },
  {
   "cell_type": "markdown",
   "id": "ab37e301",
   "metadata": {
    "deletable": false,
    "editable": false,
    "tags": []
   },
   "source": [
    "<!-- END QUESTION -->\n",
    "\n",
    "<!-- BEGIN QUESTION -->\n",
    "\n",
    "***\n",
    "**<span style=\"color:blue\">Question 4.12</span>** **<span style=\"color:red\">(1 mark)</span>**  \n",
    "Enter your TAs first and last name."
   ]
  },
  {
   "cell_type": "markdown",
   "id": "dcfed9ab",
   "metadata": {
    "deletable": false,
    "editable": false,
    "tags": []
   },
   "source": [
    "**<span style=\"color:blue\">Answer 4.12</span>**  \n",
    "Replace the ... in the cell below with your answers.  Your answers should be strings (i.e. between single or double quotes).  \n",
    "*** Please do not change anything to the left of the equals signs. ***"
   ]
  },
  {
   "cell_type": "code",
   "execution_count": null,
   "id": "faf13d38",
   "metadata": {
    "tags": []
   },
   "outputs": [],
   "source": [
    "TA_FIRST_name = ...\n",
    "TA_LAST_name = ..."
   ]
  },
  {
   "cell_type": "code",
   "execution_count": null,
   "id": "d5ae08be",
   "metadata": {
    "deletable": false,
    "editable": false
   },
   "outputs": [],
   "source": [
    "grader.check(\"Q4.12\")"
   ]
  },
  {
   "cell_type": "markdown",
   "id": "932f5b52",
   "metadata": {
    "deletable": false,
    "editable": false,
    "tags": []
   },
   "source": [
    "<!-- END QUESTION -->\n",
    "\n",
    "# <div style=\"background-color:rgba(255, 204, 255, 0.5); text-align:center; vertical-align: middle; padding:40px 0; margin-top:30px\"><span style=\"color:rgba(102, 0, 204, 1);\">Part 5 - Mathematical Operations in Python (30 minutes)</span></div>\n",
    "\n",
    "In Python, you can evaluate most basic mathematical operations in the way that you'd expect.  For example, try executing the cells below. "
   ]
  },
  {
   "cell_type": "code",
   "execution_count": null,
   "id": "2e077776",
   "metadata": {},
   "outputs": [],
   "source": [
    "2 + 3"
   ]
  },
  {
   "cell_type": "code",
   "execution_count": null,
   "id": "4230f973",
   "metadata": {},
   "outputs": [],
   "source": [
    "2*3"
   ]
  },
  {
   "cell_type": "code",
   "execution_count": null,
   "id": "ff4824e1",
   "metadata": {},
   "outputs": [],
   "source": [
    "2/3"
   ]
  },
  {
   "cell_type": "markdown",
   "id": "e59a513b",
   "metadata": {
    "deletable": false,
    "editable": false,
    "tags": []
   },
   "source": [
    "In many programming languages (and on Texas Instruments graphing calculators), a number is raised to a power using the notation $x\\hat{}y$.  For example, $2\\hat{}3$ would imply $2^3 = 8$.  In Python, however, a number is raised to a power by repeating the multiplication symbol as in:\n",
    "```python\n",
    "x**y\n",
    "```\n",
    "Confirm this behaviour by executing the cell below."
   ]
  },
  {
   "cell_type": "code",
   "execution_count": null,
   "id": "296095e2",
   "metadata": {},
   "outputs": [],
   "source": [
    "2**3"
   ]
  },
  {
   "cell_type": "markdown",
   "id": "29cc193e",
   "metadata": {
    "deletable": false,
    "editable": false,
    "tags": []
   },
   "source": [
    "Special function such as $\\sin x$, $\\cos x$, $\\ln x$, $\\exp(x)$ and so on will also not work as expected.  These functions, however, are defined within very nice modules or packages that have been written and are available for us to use.  One package that we'll almost always want to use is called **NumPy** (https://en.wikipedia.org/wiki/NumPy).  The constant $\\pi$ is also defined within NumPy.  To use this package, we first need to import it.  NumPy is usually given the shorthand name 'np'.  To import the package and give it the name np, we need to execute the following line of code:\n",
    "```python\n",
    "import numpy as np\n",
    "```\n",
    "This has already been done in **Part 1** of this lab, so we don't need to repeat it here.  Execute the cells below to see how to use NumPy and special functions."
   ]
  },
  {
   "cell_type": "code",
   "execution_count": null,
   "id": "45aa1b4d",
   "metadata": {},
   "outputs": [],
   "source": [
    "np.pi"
   ]
  },
  {
   "cell_type": "code",
   "execution_count": null,
   "id": "e7991152",
   "metadata": {},
   "outputs": [],
   "source": [
    "np.cos(1)"
   ]
  },
  {
   "cell_type": "code",
   "execution_count": null,
   "id": "a7441c30",
   "metadata": {},
   "outputs": [],
   "source": [
    "# If we want, we can put a number of statements on a single line.\n",
    "np.sin(0), np.sin(1), np.sin(np.pi/2)"
   ]
  },
  {
   "cell_type": "code",
   "execution_count": null,
   "id": "663ec150",
   "metadata": {},
   "outputs": [],
   "source": [
    "np.exp(1)"
   ]
  },
  {
   "cell_type": "markdown",
   "id": "c937a1ba",
   "metadata": {
    "deletable": false,
    "editable": false,
    "tags": []
   },
   "source": [
    "Note that the in Python, and other programming languages as well, $\\log x$ is used to denote the *natural logarithm* of $x$ or $\\ln x$.  For example, executing the cell below should result in and answer of $2$."
   ]
  },
  {
   "cell_type": "code",
   "execution_count": null,
   "id": "4fd220ba",
   "metadata": {},
   "outputs": [],
   "source": [
    "np.log( np.exp(2) )"
   ]
  },
  {
   "cell_type": "markdown",
   "id": "914f0aec",
   "metadata": {
    "deletable": false,
    "editable": false,
    "tags": []
   },
   "source": [
    "To take the logaritm of a number using in the base-10 number system, one would use:\n",
    "```python\n",
    "np.log10(x)\n",
    "```\n",
    "as in the cell below."
   ]
  },
  {
   "cell_type": "code",
   "execution_count": null,
   "id": "791e029e",
   "metadata": {},
   "outputs": [],
   "source": [
    "np.log10( 100 ), np.log10( 10**2 )"
   ]
  },
  {
   "cell_type": "markdown",
   "id": "901ac1ee",
   "metadata": {
    "deletable": false,
    "editable": false,
    "tags": []
   },
   "source": [
    "Let's practice basic mathematical operations by trying a **simple math trick**.\n",
    "***"
   ]
  },
  {
   "cell_type": "markdown",
   "id": "3544114e",
   "metadata": {
    "deletable": false,
    "editable": false,
    "tags": []
   },
   "source": [
    "**<span style=\"color:blue\">Question 5.1</span>** **<span style=\"color:red\">(1 mark)</span>**  \n",
    "Pick any 3-digit integer.  Write the number twice in a row and enter it into the cell below (eg. $372 \\to 372372$)."
   ]
  },
  {
   "cell_type": "markdown",
   "id": "30425806",
   "metadata": {
    "deletable": false,
    "editable": false,
    "tags": []
   },
   "source": [
    "**<span style=\"color:blue\">Answer 5.1</span>**  \n",
    "Replace the ... in the cell below with your answer.  For this answer, an integer should be entered and quotation marks are not needed.  \n",
    "*** Please do not change anything to the left of the equals sign. ***"
   ]
  },
  {
   "cell_type": "code",
   "execution_count": null,
   "id": "274a71c7",
   "metadata": {
    "tags": []
   },
   "outputs": [],
   "source": [
    "x = ..."
   ]
  },
  {
   "cell_type": "code",
   "execution_count": null,
   "id": "b8f7f003",
   "metadata": {
    "deletable": false,
    "editable": false
   },
   "outputs": [],
   "source": [
    "grader.check(\"Q5.1\")"
   ]
  },
  {
   "cell_type": "markdown",
   "id": "22a21d87",
   "metadata": {},
   "source": [
    "***"
   ]
  },
  {
   "cell_type": "markdown",
   "id": "7d461d81",
   "metadata": {
    "deletable": false,
    "editable": false,
    "tags": []
   },
   "source": [
    "**<span style=\"color:blue\">Question 5.2</span>** **<span style=\"color:red\">(1 mark)</span>**  \n",
    "Take which ever number you picked from **Question 5.1** ($x$) and in the code cell below divide it first by 13, then divide by 11, and lastly divide by 7."
   ]
  },
  {
   "cell_type": "markdown",
   "id": "fe13f7e9",
   "metadata": {
    "deletable": false,
    "editable": false,
    "tags": []
   },
   "source": [
    "**<span style=\"color:blue\">Answer 5.2</span>**  \n",
    "Replace the ... with a mathematical expression that will, all at once, preform the entire operation described above.  \n",
    "*** Please do not change anything to the left of the equals sign. ***"
   ]
  },
  {
   "cell_type": "code",
   "execution_count": null,
   "id": "615bf422",
   "metadata": {
    "tags": []
   },
   "outputs": [],
   "source": [
    "y = ...\n",
    "\n",
    "# Print the result of the calculation.\n",
    "print(y)"
   ]
  },
  {
   "cell_type": "code",
   "execution_count": null,
   "id": "fe24816e",
   "metadata": {
    "deletable": false,
    "editable": false
   },
   "outputs": [],
   "source": [
    "grader.check(\"Q5.2\")"
   ]
  },
  {
   "cell_type": "markdown",
   "id": "f00f4560",
   "metadata": {
    "deletable": false,
    "editable": false,
    "tags": []
   },
   "source": [
    "# <div style=\"background-color:rgba(255, 204, 255, 0.5); text-align:center; vertical-align: middle; padding:40px 0; margin-top:30px\"><span style=\"color:rgba(102, 0, 204, 1);\">Part 6 - Calling Functions Contained in PHYS121.py (20 minutes)</span></div>\n",
    "\n",
    "**Part 6** is just for fun and won't be graded.  It is designed to show you how to call functions contained within the file PHYS121.py.  We will rely on many of the functions in PHYS121.py to help us analyze the experimental data that we collect through the term in the PHYS 121 lab.\n",
    "\n",
    "First, execute the cell below.  It calls a function contained in PHYS121.py called 'printDigits()'.  In order to call this function (or any other function in the file), we first have to import PHYS121.py use:\n",
    "```python\n",
    "import PHYS121\n",
    "```\n",
    "This import was already done in **Part 1** of the lab, so we don't have to do it again.  The 'printDigits()' function generates a random list of integers between 1 and 9.  The list of integers will contain between 25 and 35 entries.  If, for some reason, you don't like the set of integers that was generated, you can simply keeping executing the cell until you get a set of numbers that you like.  'printDigits()' will also calculate the product of the set of integers that you generated.   "
   ]
  },
  {
   "cell_type": "code",
   "execution_count": null,
   "id": "13648a17",
   "metadata": {},
   "outputs": [],
   "source": [
    "PHYS121.printDigits()"
   ]
  },
  {
   "cell_type": "markdown",
   "id": "673aa686",
   "metadata": {
    "deletable": false,
    "editable": false,
    "tags": []
   },
   "source": [
    "***\n",
    "Next, take the product from the previous step and change any **non-zero** digit in that product to zero.  For example, if your product was $340202565$, you might decide to change the $4$ to zero such that your product gets changed to $300202565$.\n",
    "\n",
    "The next function that we'll make use of is called 'chase()'.  It is called in the same way as the previous function, except this time we need to pass an *arugument* or *parameter* to the function.  The argument is passed by entering your number as a string (i.e. between single or double quotes) between the brackets as in:\n",
    "```python\n",
    "num = '300202565'\n",
    "PHYS121.chase(num)\n",
    "```\n",
    "Call the 'chase()' function and pass the modified product (the product after changing one non-zero digit to zero) as the argument.  'chase()' should be able to tell you which digit to secretly changed to zero."
   ]
  },
  {
   "cell_type": "markdown",
   "id": "23fea776",
   "metadata": {
    "deletable": false,
    "editable": false,
    "tags": []
   },
   "source": [
    "Replace ... with your modified product formatted as a string.  \n",
    "*** Please do not change anything to the left of the equals sign. ***"
   ]
  },
  {
   "cell_type": "code",
   "execution_count": null,
   "id": "a1ef4977",
   "metadata": {
    "tags": []
   },
   "outputs": [],
   "source": [
    "num = ...\n",
    "PHYS121.chase(num)"
   ]
  },
  {
   "cell_type": "code",
   "execution_count": null,
   "id": "6bf20a26",
   "metadata": {
    "deletable": false,
    "editable": false
   },
   "outputs": [],
   "source": [
    "grader.check(\"Q6.1\")"
   ]
  },
  {
   "cell_type": "markdown",
   "id": "9242052a",
   "metadata": {
    "deletable": false,
    "editable": false,
    "tags": []
   },
   "source": [
    "# <div style=\"background-color:rgba(255, 204, 255, 0.5); text-align:center; vertical-align: middle; padding:40px 0; margin-top:30px\"><span style=\"color:rgba(102, 0, 204, 1);\">Part 7 - Statement of contributions (15 minutes)</span></div>"
   ]
  },
  {
   "cell_type": "markdown",
   "id": "86b09763",
   "metadata": {
    "deletable": false,
    "editable": false,
    "tags": []
   },
   "source": [
    "Below, you will briefly summarize the contributions that you and your partner made when completely this lab.  Please ensure that both partners have a chance to engage in all types of lab activities (developing the experimental methods/data collection strategies, hands-on interaction with the apparatus/data collection, and data processing/analysis in the Jupyter notebook).  Note that statements of contributions are common in science.  The figure below shows one example taken from a 2021 paper published in the journal *Nature Physics*.\n",
    "\n",
    "<p>\n",
    "<center>\n",
    "<img src=\"https://raw.githubusercontent.com/UBC-Okanagan-Physics-Labs/PHYS-121-images/main/general/images/contributions.jpg\" alt=\"image info\" style=\"width: 60%; height: auto;\" /><br>\n",
    "<b>Figure: A sample statement of author contributions from a recent journal article.</b></center>\n",
    "</p>\n"
   ]
  },
  {
   "cell_type": "markdown",
   "id": "a8dd2b8a",
   "metadata": {
    "deletable": false,
    "editable": false,
    "tags": []
   },
   "source": [
    "<!-- BEGIN QUESTION -->\n",
    "\n",
    "***\n",
    "**<span style=\"color:blue\">Question 7.1(a):</span>**  \n",
    "\n",
    "Answer this question only if you worked with a partner to complete this lab.\n",
    "\n",
    "In two or three sentences describe the specific contributions of **Partner #1** to this lab.  For example, worked with the experimental apparatus to collect data for Part 1 of the lab, entered and processed the data in the Jupyter notebook for Part 2 of the lab, ...  "
   ]
  },
  {
   "cell_type": "markdown",
   "id": "85c24c85",
   "metadata": {
    "tags": []
   },
   "source": [
    "***\n",
    "**<span style=\"color:blue\">Answer 7.1(a):</span>**\n",
    "\n",
    "[//]: # (Please do not delete this comment or anything above it.  Anything below this comment can be deleted.)  \n",
    "\n",
    "Double click this cell and enter your text here.  Please start be entering the name and student number of **Partner #1**.  When done, hit 'Shift' + 'Enter' to execute the cell.  You may delete this text when entering your answer."
   ]
  },
  {
   "cell_type": "markdown",
   "id": "2dd06966",
   "metadata": {
    "deletable": false,
    "editable": false,
    "tags": []
   },
   "source": [
    "<!-- END QUESTION -->\n",
    "\n",
    "<!-- BEGIN QUESTION -->\n",
    "\n",
    "***\n",
    "**<span style=\"color:blue\">Question 7.1(b):</span>**  \n",
    "\n",
    "Answer this question only if you worked with a partner to complete this lab.\n",
    "\n",
    "In two or three sentences describe the specific contributions of **Partner #2** to this lab.  "
   ]
  },
  {
   "cell_type": "markdown",
   "id": "e77db93e",
   "metadata": {
    "tags": []
   },
   "source": [
    "***\n",
    "**<span style=\"color:blue\">Answer 7.1(b):</span>**\n",
    "\n",
    "[//]: # (Please do not delete this comment or anything above it.  Anything below this comment can be deleted.)  \n",
    "\n",
    "Double click this cell and enter your text here.  Please start be entering the name and student number of **Partner #2**.  When done, hit 'Shift' + 'Enter' to execute the cell.  You may delete this text when entering your answer. "
   ]
  },
  {
   "cell_type": "markdown",
   "id": "e45429f9",
   "metadata": {
    "deletable": false,
    "editable": false,
    "tags": []
   },
   "source": [
    "<!-- END QUESTION -->\n",
    "\n",
    "# <div style=\"background-color:rgba(255, 204, 255, 0.5); text-align:center; vertical-align: middle; padding:40px 0; margin-top:30px\"><span style=\"color:rgba(102, 0, 204, 1);\">Part 8 - Feedback and Submission (15 minutes)</span></div>"
   ]
  },
  {
   "cell_type": "markdown",
   "id": "70dec646",
   "metadata": {
    "deletable": false,
    "editable": false,
    "tags": []
   },
   "source": [
    "<!-- BEGIN QUESTION -->\n",
    "\n",
    "***\n",
    "**<span style=\"color:blue\">Question 8.1:</span>**  \n",
    "\n",
    "We welcome your feedback on the PHYS 121 labs!  Please feel free to include any comments you have about this lab in the cell below.  Your comments will be taken into consideration when revising/improving the PHYS 121 labs.  You can suggest improvements, point out anything that was unclear, comment on the strengths and weaknesses of the lab, ...\n",
    "\n",
    "This question is optional and will have no impact on your lab grade."
   ]
  },
  {
   "cell_type": "markdown",
   "id": "00a71940",
   "metadata": {},
   "source": [
    "***\n",
    "**<span style=\"color:blue\">Answer 8.1:</span>**\n",
    "\n",
    "[//]: # (Please do not delete this comment or anything above it.  Anything below this comment can be deleted.)  \n",
    "\n",
    "Double click this cell and enter your text here.  When done, hit 'Shift' + 'Enter' to execute the cell.  You may delete this text when entering your answer. \n"
   ]
  },
  {
   "cell_type": "markdown",
   "id": "b7f54522",
   "metadata": {
    "deletable": false,
    "editable": false,
    "tags": []
   },
   "source": [
    "<!-- END QUESTION -->\n",
    "\n",
    "***\n",
    "Once you've completed this notebook:\n",
    "- Save your work.\n",
    "- Run 'grader.check_all()' to confirm that you've completed all required tasks.\n",
    "- Run 'grader.export()' to generate a .zip file containing all of the materials that you will submit.\n",
    "- Download the generated .zip file.\n",
    "- Upload the .zip file to the PHYS 121 Canvas gradebook.\n",
    "- **Do NOT change the number of the .zip file.**\n",
    "- **Do NOT modify the contents of the .zip file.**\n",
    "\n",
    "Here is a <a href = \"https://raw.githubusercontent.com/UBC-Okanagan-Physics-Labs/PHYS-121-images/main/general/gifs/Submission.gif\">GIF</a> showing how these steps are completed.  Once your completed notebook has been uploaded to the Canvas gradebook, you're done!"
   ]
  },
  {
   "cell_type": "markdown",
   "id": "19413144",
   "metadata": {
    "deletable": false,
    "editable": false,
    "tags": []
   },
   "source": [
    "---\n",
    "\n",
    "To double-check your work, the cell below will rerun all of the autograder tests."
   ]
  },
  {
   "cell_type": "code",
   "execution_count": null,
   "id": "064151f5",
   "metadata": {
    "deletable": false,
    "editable": false,
    "tags": []
   },
   "outputs": [],
   "source": [
    "grader.check_all()"
   ]
  },
  {
   "cell_type": "markdown",
   "id": "c0ed0e0f",
   "metadata": {
    "deletable": false,
    "editable": false,
    "tags": []
   },
   "source": [
    "## Submission\n",
    "\n",
    "Make sure you have run all cells in your notebook in order before running the cell below, so that all images/graphs appear in the output. The cell below will generate a zip file for you to submit. **Please save before exporting!**"
   ]
  },
  {
   "cell_type": "code",
   "execution_count": null,
   "id": "317221ab",
   "metadata": {
    "deletable": false,
    "editable": false,
    "tags": []
   },
   "outputs": [],
   "source": [
    "# Save your notebook first, then run this cell to export your submission.\n",
    "grader.export()"
   ]
  },
  {
   "cell_type": "markdown",
   "id": "9a7342b4",
   "metadata": {
    "deletable": false,
    "editable": false,
    "tags": []
   },
   "source": [
    "# <div style=\"background-color:rgba(255, 204, 255, 0.5); text-align:center; vertical-align: middle; padding:40px 0; margin-top:30px\"><span style=\"color:rgba(102, 0, 204, 1);\">Part 9 - Playground (optional)</span></div>\n",
    "\n",
    "Feel free to add as many cells as you like below and use them as a playground for further independent investigations.  These cells won't be graded, so feel free to use them in any way you like.  "
   ]
  },
  {
   "cell_type": "code",
   "execution_count": null,
   "id": "127de5a1",
   "metadata": {},
   "outputs": [],
   "source": [
    "# Here's an empty code cell that you can use."
   ]
  },
  {
   "cell_type": "code",
   "execution_count": null,
   "id": "a8ee0505",
   "metadata": {},
   "outputs": [],
   "source": [
    "# Here's another empty code cell that you can use."
   ]
  },
  {
   "cell_type": "code",
   "execution_count": null,
   "id": "5a8b101b",
   "metadata": {},
   "outputs": [],
   "source": [
    "# Here's yet another empty code cell that you can use.\n",
    "# If you need more, you can add cells using the '+' icon in the menu bar at to the top of the screen."
   ]
  },
  {
   "cell_type": "markdown",
   "id": "e7ca9d1c",
   "metadata": {
    "deletable": false,
    "editable": false,
    "tags": []
   },
   "source": [
    "<img src=\"https://raw.githubusercontent.com/UBC-Okanagan-Physics-Labs/PHYS-121-images/main/general/images/ubc-logo-full.jpg\" width=\"500\"/>"
   ]
  },
  {
   "cell_type": "markdown",
   "id": "17c3216c",
   "metadata": {},
   "source": [
    "Last update: January 5, 2024"
   ]
  }
 ],
 "metadata": {
  "kernelspec": {
   "display_name": "Python 3 (ipykernel)",
   "language": "python",
   "name": "python3"
  },
  "language_info": {
   "codemirror_mode": {
    "name": "ipython",
    "version": 3
   },
   "file_extension": ".py",
   "mimetype": "text/x-python",
   "name": "python",
   "nbconvert_exporter": "python",
   "pygments_lexer": "ipython3",
   "version": "3.10.6"
  },
  "otter": {
   "OK_FORMAT": true,
   "tests": {
    "Q4.1": {
     "name": "Q4.1",
     "points": null,
     "suites": [
      {
       "cases": [
        {
         "code": ">>> a4_1 != ...\nTrue",
         "failure_message": "Replace the ... with your answer.",
         "hidden": false,
         "locked": false,
         "points": 0
        },
        {
         "code": ">>> isinstance(a4_1, str)\nTrue",
         "failure_message": "a1 must be a string (i.e. surround your answer by either single or double quotes).",
         "hidden": false,
         "locked": false,
         "points": 0
        },
        {
         "code": ">>> test = True\n>>> if isinstance(a4_1, str):\n...     test = a4_1.lower() in ['a', 'b', 'c', 'd', 'e']\n>>> test\nTrue",
         "failure_message": "a1 must be one of 'a', 'b', 'c', 'd', or 'e'.",
         "hidden": false,
         "locked": false,
         "points": 0
        },
        {
         "code": ">>> PHYS121.get_hash(a4_1.lower()) == '4a8a08f09d37b73795649038408b5f33'\nTrue",
         "failure_message": "Try again.",
         "hidden": false,
         "locked": false,
         "points": 1
        }
       ],
       "scored": true,
       "setup": "",
       "teardown": "",
       "type": "doctest"
      }
     ]
    },
    "Q4.10": {
     "name": "Q4.10",
     "points": null,
     "suites": [
      {
       "cases": [
        {
         "code": ">>> a4_10 != ...\nTrue",
         "failure_message": "Replace the ... with your answer.",
         "hidden": false,
         "locked": false,
         "points": 0
        },
        {
         "code": ">>> isinstance(a4_10, str)\nTrue",
         "failure_message": "a10 must be a string (i.e. surround your answer by either single or double quotes).",
         "hidden": false,
         "locked": false,
         "points": 0
        },
        {
         "code": ">>> test = True\n>>> if isinstance(a4_10, str):\n...     test = a4_10.lower() in ['a', 'b', 't', 'f']\n>>> test\nTrue",
         "failure_message": "a10 must be one of 'a', 'b', 't', or 'f'.",
         "hidden": false,
         "locked": false,
         "points": 0
        },
        {
         "code": ">>> PHYS121.get_hash(a4_10.lower()) in ['92eb5ffee6ae2fec3ad71c777531578f', '8fa14cdd754f91cc6554c9e71929cce7']\nTrue",
         "failure_message": "Try again.",
         "hidden": false,
         "locked": false,
         "points": 1
        }
       ],
       "scored": true,
       "setup": "",
       "teardown": "",
       "type": "doctest"
      }
     ]
    },
    "Q4.11": {
     "name": "Q4.11",
     "points": null,
     "suites": [
      {
       "cases": [
        {
         "code": ">>> a4_11 != ...\nTrue",
         "failure_message": "Replace the ... with your answer.",
         "hidden": false,
         "locked": false,
         "points": 0
        },
        {
         "code": ">>> isinstance(a4_11, str)\nTrue",
         "failure_message": "a11 must be a string (i.e. surround your answer by either single or double quotes).",
         "hidden": false,
         "locked": false,
         "points": 0
        },
        {
         "code": ">>> test = True\n>>> if isinstance(a4_11, str):\n...     test = len(a4_11) == 3\n>>> test\nTrue",
         "failure_message": "a11 must be a string of exactly 3 characters.",
         "hidden": false,
         "locked": false,
         "points": 0
        },
        {
         "code": ">>> test = True\n>>> if isinstance(a4_11, str):\n...     test = a4_11 in ['L01', 'L02', 'L03', 'L04', 'L05', 'L06', 'L07', 'L08', 'L09', 'L10']\n>>> test\nTrue",
         "failure_message": "a11 must be one of 'L01', 'L02', ..., 'L10'.",
         "hidden": false,
         "locked": false,
         "points": 0
        }
       ],
       "scored": true,
       "setup": "",
       "teardown": "",
       "type": "doctest"
      }
     ]
    },
    "Q4.12": {
     "name": "Q4.12",
     "points": null,
     "suites": [
      {
       "cases": [
        {
         "code": ">>> TA_FIRST_name != ...\nTrue",
         "failure_message": "Replace the ... with your answer.",
         "hidden": false,
         "locked": false,
         "points": 0
        },
        {
         "code": ">>> isinstance(TA_FIRST_name, str)\nTrue",
         "failure_message": "TA_FIRST_name must be a string (i.e. surround your answer by either single or double quotes).",
         "hidden": false,
         "locked": false,
         "points": 0
        },
        {
         "code": ">>> TA_LAST_name != ...\nTrue",
         "failure_message": "Replace the ... with your answer.",
         "hidden": false,
         "locked": false,
         "points": 0
        },
        {
         "code": ">>> isinstance(TA_LAST_name, str)\nTrue",
         "failure_message": "TA_LAST_name must be a string (i.e. surround your answer by either single or double quotes).",
         "hidden": false,
         "locked": false,
         "points": 0
        }
       ],
       "scored": true,
       "setup": "",
       "teardown": "",
       "type": "doctest"
      }
     ]
    },
    "Q4.2": {
     "name": "Q4.2",
     "points": null,
     "suites": [
      {
       "cases": [
        {
         "code": ">>> a4_2 != ...\nTrue",
         "failure_message": "Replace the ... with your answer.",
         "hidden": false,
         "locked": false,
         "points": 0
        },
        {
         "code": ">>> isinstance(a4_2, str)\nTrue",
         "failure_message": "a2 must be a string (i.e. surround your answer by either single or double quotes).",
         "hidden": false,
         "locked": false,
         "points": 0
        },
        {
         "code": ">>> test = True\n>>> if isinstance(a4_2, str):\n...     test = a4_2.lower() in ['a', 'b', 't', 'f']\n>>> test\nTrue",
         "failure_message": "a2 must be one of 'a', 'b', 't', or 'f'.",
         "hidden": false,
         "locked": false,
         "points": 0
        },
        {
         "code": ">>> PHYS121.get_hash(a4_2.lower()) in ['92eb5ffee6ae2fec3ad71c777531578f', '8fa14cdd754f91cc6554c9e71929cce7']\nTrue",
         "failure_message": "Try again.",
         "hidden": false,
         "locked": false,
         "points": 1
        }
       ],
       "scored": true,
       "setup": "",
       "teardown": "",
       "type": "doctest"
      }
     ]
    },
    "Q4.3": {
     "name": "Q4.3",
     "points": null,
     "suites": [
      {
       "cases": [
        {
         "code": ">>> a4_3 != ...\nTrue",
         "failure_message": "Replace the ... with your answer.",
         "hidden": false,
         "locked": false,
         "points": 0
        },
        {
         "code": ">>> isinstance(a4_3, str)\nTrue",
         "failure_message": "a3 must be a string (i.e. surround your answer by either single or double quotes).",
         "hidden": false,
         "locked": false,
         "points": 0
        },
        {
         "code": ">>> test = True\n>>> if isinstance(a4_3, str):\n...     test = a4_3.lower() in ['a', 'b', 't', 'f']\n>>> test\nTrue",
         "failure_message": "a3 must be one of 'a', 'b', 't', or 'f'.",
         "hidden": false,
         "locked": false,
         "points": 0
        },
        {
         "code": ">>> PHYS121.get_hash(a4_3.lower()) in ['92eb5ffee6ae2fec3ad71c777531578f', '8fa14cdd754f91cc6554c9e71929cce7']\nTrue",
         "failure_message": "Try again.",
         "hidden": false,
         "locked": false,
         "points": 1
        }
       ],
       "scored": true,
       "setup": "",
       "teardown": "",
       "type": "doctest"
      }
     ]
    },
    "Q4.4": {
     "name": "Q4.4",
     "points": null,
     "suites": [
      {
       "cases": [
        {
         "code": ">>> a4_4 != ...\nTrue",
         "failure_message": "Replace the ... with your answer.",
         "hidden": false,
         "locked": false,
         "points": 0
        },
        {
         "code": ">>> isinstance(a4_4, str)\nTrue",
         "failure_message": "a4 must be a string (i.e. surround your answer by either single or double quotes).",
         "hidden": false,
         "locked": false,
         "points": 0
        },
        {
         "code": ">>> test = True\n>>> if isinstance(a4_4, str):\n...     test = a4_4.lower() in ['a', 'b', 'c', 'd', 'e']\n>>> test\nTrue",
         "failure_message": "a4 must be one of 'a', 'b', 'c', 'd', or 'e'.",
         "hidden": false,
         "locked": false,
         "points": 0
        },
        {
         "code": ">>> PHYS121.get_hash(a4_4) == '4a8a08f09d37b73795649038408b5f33'\nTrue",
         "failure_message": "Try again.",
         "hidden": false,
         "locked": false,
         "points": 1
        }
       ],
       "scored": true,
       "setup": "",
       "teardown": "",
       "type": "doctest"
      }
     ]
    },
    "Q4.5": {
     "name": "Q4.5",
     "points": null,
     "suites": [
      {
       "cases": [
        {
         "code": ">>> a4_5 != ...\nTrue",
         "failure_message": "Replace the ... with your answer.",
         "hidden": false,
         "locked": false,
         "points": 0
        },
        {
         "code": ">>> isinstance(a4_5, str)\nTrue",
         "failure_message": "a5 must be a string (i.e. surround your answer by either single or double quotes).",
         "hidden": false,
         "locked": false,
         "points": 0
        },
        {
         "code": ">>> test = True\n>>> if isinstance(a4_5, str):\n...     test = a4_5.lower() in ['a', 'b', 'c', 'd', 'e']\n>>> test\nTrue",
         "failure_message": "a5 must be one of 'a', 'b', 'c', 'd', or 'e'.",
         "hidden": false,
         "locked": false,
         "points": 0
        },
        {
         "code": ">>> PHYS121.get_hash(a4_5.lower()) == '8277e0910d750195b448797616e091ad'\nTrue",
         "failure_message": "Try again.",
         "hidden": false,
         "locked": false,
         "points": 1
        }
       ],
       "scored": true,
       "setup": "",
       "teardown": "",
       "type": "doctest"
      }
     ]
    },
    "Q4.6": {
     "name": "Q4.6",
     "points": null,
     "suites": [
      {
       "cases": [
        {
         "code": ">>> a4_6 != ...\nTrue",
         "failure_message": "Replace the ... with your answer.",
         "hidden": false,
         "locked": false,
         "points": 0
        },
        {
         "code": ">>> isinstance(a4_6, str)\nTrue",
         "failure_message": "a6 must be a string (i.e. surround your answer by either single or double quotes).",
         "hidden": false,
         "locked": false,
         "points": 0
        },
        {
         "code": ">>> test = True\n>>> if isinstance(a4_6, str):\n...     test = a4_6.lower() in ['a', 'b', 'c', 'd', 'e']\n>>> test\nTrue",
         "failure_message": "a6 must be one of 'a', 'b', 'c', 'd', or 'e'.",
         "hidden": false,
         "locked": false,
         "points": 0
        },
        {
         "code": ">>> PHYS121.get_hash(a4_6.lower()) == 'e1671797c52e15f763380b45e841ec32'\nTrue",
         "failure_message": "Try again.",
         "hidden": false,
         "locked": false,
         "points": 1
        }
       ],
       "scored": true,
       "setup": "",
       "teardown": "",
       "type": "doctest"
      }
     ]
    },
    "Q4.7": {
     "name": "Q4.7",
     "points": null,
     "suites": [
      {
       "cases": [
        {
         "code": ">>> a4_7 != ...\nTrue",
         "failure_message": "Replace the ... with your answer.",
         "hidden": false,
         "locked": false,
         "points": 0
        },
        {
         "code": ">>> isinstance(a4_7, str)\nTrue",
         "failure_message": "a7 must be a string (i.e. surround your answer by either single or double quotes).",
         "hidden": false,
         "locked": false,
         "points": 0
        },
        {
         "code": ">>> test = True\n>>> if isinstance(a4_7, str):\n...     test = a4_7.lower() in ['a', 'b', 'c', 'd', 'e']\n>>> test\nTrue",
         "failure_message": "a7 must be one of 'a', 'b', 'c', 'd', or 'e'.",
         "hidden": false,
         "locked": false,
         "points": 0
        },
        {
         "code": ">>> PHYS121.get_hash(a4_7.lower()) == '4a8a08f09d37b73795649038408b5f33'\nTrue",
         "failure_message": "Try again.",
         "hidden": false,
         "locked": false,
         "points": 1
        }
       ],
       "scored": true,
       "setup": "",
       "teardown": "",
       "type": "doctest"
      }
     ]
    },
    "Q4.8": {
     "name": "Q4.8",
     "points": null,
     "suites": [
      {
       "cases": [
        {
         "code": ">>> a4_8 != ...\nTrue",
         "failure_message": "Replace the ... with your answer.",
         "hidden": false,
         "locked": false,
         "points": 0
        },
        {
         "code": ">>> isinstance(a4_8, str)\nTrue",
         "failure_message": "a8 must be a string (i.e. surround your answer by either single or double quotes).",
         "hidden": false,
         "locked": false,
         "points": 0
        },
        {
         "code": ">>> test = True\n>>> if isinstance(a4_8, str):\n...     test = a4_8.lower() in ['a', 'b', 't', 'f']\n>>> test\nTrue",
         "failure_message": "a8 must be one of 'a', 'b', 't', or 'f'.",
         "hidden": false,
         "locked": false,
         "points": 0
        },
        {
         "code": ">>> PHYS121.get_hash(a4_8.lower()) in ['0cc175b9c0f1b6a831c399e269772661', 'e358efa489f58062f10dd7316b65649e']\nTrue",
         "failure_message": "Try again.",
         "hidden": false,
         "locked": false,
         "points": 1
        }
       ],
       "scored": true,
       "setup": "",
       "teardown": "",
       "type": "doctest"
      }
     ]
    },
    "Q4.9": {
     "name": "Q4.9",
     "points": null,
     "suites": [
      {
       "cases": [
        {
         "code": ">>> a4_9 != ...\nTrue",
         "failure_message": "Replace the ... with your answer.",
         "hidden": false,
         "locked": false,
         "points": 0
        },
        {
         "code": ">>> isinstance(a4_9, str)\nTrue",
         "failure_message": "a9 must be a string (i.e. surround your answer by either single or double quotes).",
         "hidden": false,
         "locked": false,
         "points": 0
        },
        {
         "code": ">>> test = True\n>>> if isinstance(a4_9, str):\n...     test = a4_9.lower() in ['a', 'b', 't', 'f']\n>>> test\nTrue",
         "failure_message": "a9 must be one of 'a', 'b', 't', or 'f'.",
         "hidden": false,
         "locked": false,
         "points": 0
        },
        {
         "code": ">>> PHYS121.get_hash(a4_9.lower()) in ['0cc175b9c0f1b6a831c399e269772661', 'e358efa489f58062f10dd7316b65649e']\nTrue",
         "failure_message": "Try again.",
         "hidden": false,
         "locked": false,
         "points": 1
        }
       ],
       "scored": true,
       "setup": "",
       "teardown": "",
       "type": "doctest"
      }
     ]
    },
    "Q5.1": {
     "name": "Q5.1",
     "points": null,
     "suites": [
      {
       "cases": [
        {
         "code": ">>> x != ...\nTrue",
         "failure_message": "Replace the ... with your answer.",
         "hidden": false,
         "locked": false,
         "points": 0
        },
        {
         "code": ">>> isinstance(x, int)\nTrue",
         "failure_message": "x must be an integer.",
         "hidden": false,
         "locked": false,
         "points": 0
        },
        {
         "code": ">>> test = True\n>>> if isinstance(x, int):\n...     test = len(str(x)) == 6\n>>> test\nTrue",
         "failure_message": "x must contain exactly 6 digits.",
         "hidden": false,
         "locked": false,
         "points": 0
        },
        {
         "code": ">>> test = True\n>>> if isinstance(x, int):\n...     test = str(x)[0:3] == str(x)[3:6]\n>>> test\nTrue",
         "failure_message": "The first 3 digits of x must be identical to the last 3 digits.",
         "hidden": false,
         "locked": false,
         "points": 1
        }
       ],
       "scored": true,
       "setup": "",
       "teardown": "",
       "type": "doctest"
      }
     ]
    },
    "Q5.2": {
     "name": "Q5.2",
     "points": null,
     "suites": [
      {
       "cases": [
        {
         "code": ">>> y != ...\nTrue",
         "failure_message": "Replace the ... with your answer.",
         "hidden": false,
         "locked": false,
         "points": 0
        },
        {
         "code": ">>> isinstance(y, int) or isinstance(y, float)\nTrue",
         "failure_message": "y must be an integer or a decimal number.",
         "hidden": false,
         "locked": false,
         "points": 0
        },
        {
         "code": ">>> test = True\n>>> if isinstance(y, int) or isinstance(y, float):\n...     test = int(str(x)[0:3]) == int(y)\n>>> test\nTrue",
         "failure_message": "Try again.",
         "hidden": false,
         "locked": false,
         "points": 1
        }
       ],
       "scored": true,
       "setup": "",
       "teardown": "",
       "type": "doctest"
      }
     ]
    },
    "Q6.1": {
     "name": "Q6.1",
     "points": null,
     "suites": [
      {
       "cases": [
        {
         "code": ">>> num != ...\nTrue",
         "failure_message": "Replace the ... with your answer.",
         "hidden": false,
         "locked": false,
         "points": 0
        },
        {
         "code": ">>> isinstance(num, str)\nTrue",
         "failure_message": "num must be a string (i.e. surrounded by single or double quotes).",
         "hidden": false,
         "locked": false,
         "points": 0
        }
       ],
       "scored": true,
       "setup": "",
       "teardown": "",
       "type": "doctest"
      }
     ]
    },
    "name_and_student_number_1": {
     "name": "name_and_student_number_1",
     "points": null,
     "suites": [
      {
       "cases": [
        {
         "code": ">>> isinstance(last_name_1, str)\nTrue",
         "failure_message": "last_name_1 must be a string (i.e. surround your answer by either single or double quotes).",
         "hidden": false,
         "locked": false,
         "points": 0
        },
        {
         "code": ">>> isinstance(first_name_1, str)\nTrue",
         "failure_message": "first_name_1 must be a string (i.e. surround your answer by either single or double quotes).",
         "hidden": false,
         "locked": false,
         "points": 0
        },
        {
         "code": ">>> isinstance(student_number_1, str)\nTrue",
         "failure_message": "student_number_1 must be a string (i.e. surround your answer by either single or double quotes).",
         "hidden": false,
         "locked": false,
         "points": 0
        },
        {
         "code": ">>> test = True\n>>> if isinstance(student_number_1, str):\n...     test = len(student_number_1) == 8\n>>> test\nTrue",
         "failure_message": "student_number_1 must be a string of exactly 8 characters.",
         "hidden": false,
         "locked": false,
         "points": 0
        },
        {
         "code": ">>> test = True\n>>> if isinstance(student_number_1, str):\n...     test = student_number_1.isdigit()\n>>> test\nTrue",
         "failure_message": "student_number_1 must contain only interger digits (0, 1, 2, 3, ..., 9)",
         "hidden": false,
         "locked": false,
         "points": 0.5
        }
       ],
       "scored": true,
       "setup": "",
       "teardown": "",
       "type": "doctest"
      }
     ]
    },
    "name_and_student_number_2": {
     "name": "name_and_student_number_2",
     "points": null,
     "suites": [
      {
       "cases": [
        {
         "code": ">>> isinstance(last_name_2, str) or last_name_2 == ...\nTrue",
         "failure_message": "last_name_2 must be a string (i.e. surround your answer by either single or double quotes).",
         "hidden": false,
         "locked": false,
         "points": 0
        },
        {
         "code": ">>> isinstance(first_name_2, str) or first_name_2 == ...\nTrue",
         "failure_message": "first_name_2 must be a string (i.e. surround your answer by either single or double quotes).",
         "hidden": false,
         "locked": false,
         "points": 0
        },
        {
         "code": ">>> isinstance(student_number_2, str) or student_number_2 == ...\nTrue",
         "failure_message": "student_number_2 must be a string (i.e. surround your answer by either single or double quotes).",
         "hidden": false,
         "locked": false,
         "points": 0
        },
        {
         "code": ">>> test = True\n>>> if isinstance(student_number_2, str):\n...     test = len(student_number_2) == 8\n>>> test\nTrue",
         "failure_message": "student_number_2 must be a string of exactly 8 characters or be left as ...",
         "hidden": false,
         "locked": false,
         "points": 0
        },
        {
         "code": ">>> test = True\n>>> if isinstance(student_number_2, str):\n...     test = student_number_2.isdigit()\n>>> test\nTrue",
         "failure_message": "student_number_2 must contain only interger digits (0, 1, 2, 3, ..., 9) or be left as ...",
         "hidden": false,
         "locked": false,
         "points": 0.5
        }
       ],
       "scored": true,
       "setup": "",
       "teardown": "",
       "type": "doctest"
      }
     ]
    }
   }
  },
  "vscode": {
   "interpreter": {
    "hash": "a1ce1a55934a23fd40442cf0356ecbdd657c4299d40a67360326f76004edb0e0"
   }
  }
 },
 "nbformat": 4,
 "nbformat_minor": 5
}
