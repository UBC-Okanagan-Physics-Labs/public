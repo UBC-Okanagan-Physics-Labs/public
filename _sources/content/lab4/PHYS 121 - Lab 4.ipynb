{
 "cells": [
  {
   "cell_type": "markdown",
   "id": "8d94bf3c",
   "metadata": {
    "deletable": false,
    "editable": false,
    "tags": []
   },
   "source": [
    "# <div style=\"background-color:rgba(204, 229, 255, 0.5); text-align:center; vertical-align: middle; padding:40px 0; margin-top:30px\"><span style=\"color:rgba(0, 76, 153, 1);\">**PHYS 121 Lab #4**<span style=\"color:red\"> $\\to$ (24 possible marks)</span> </span></div> \n",
    "\n",
    "<font size =\"4\"><span style=\"color:purple\">We recommend that you complete this notebook using either the [Google Chrome](https://www.google.com/intl/en_ca/chrome/) or [Mozilla Firefox](https://www.mozilla.org/en-CA/firefox/new/) browser.  Chrome and Firefox are both available for Windows, Mac, and Linux operating systems.  The PHYS 121 Jupyter notebooks should work in other browsers, but we have specifically verfied that they work well in both Chrome and Firefox.</span></font>\n",
    "\n",
    "# Electric & Hydraulic Circuits &ndash; Week 1"
   ]
  },
  {
   "cell_type": "markdown",
   "id": "72998781",
   "metadata": {
    "deletable": false,
    "editable": false,
    "tags": []
   },
   "source": [
    "***\n",
    "## Learning Objectives:\n",
    "* <b><span style=\"color:rgba(0, 153, 76, 1);\">Use concepts and mathematical tools developed to solve a problem in one field of physics to solve seemingly unrelated problems from other fields of physics.</span></b>\n",
    "* <b><span style=\"color:rgba(0, 153, 76, 1);\">Use analogies between two distinct physical systems to gain new insights into the underlying nature of those systems.</span></b>\n",
    "\n",
    "Over the next two weeks, you will work with both electric and hydraulic circuits.  You will see that concepts developed to analyze electrical circuits can also be applied to their hydraulic analogues.  In addition, you will attempt to uncover differences in the behaviour of the two systems and thus identify limitations of the analogy."
   ]
  },
  {
   "cell_type": "markdown",
   "id": "a467c767",
   "metadata": {
    "deletable": false,
    "editable": false,
    "tags": []
   },
   "source": [
    "***\n",
    "## Autograding:\n",
    "The PHYS 121 Pre-lab assignments and Labs will make use of some autograding.  To make the autograding work, the two cells below needs to be executed.  The first one installs the required packages and the second imports required packages/modules.  If 'PHYS121.Installer()' reports that some functions have been installed, the user should restart the \"kernel\" and then exectute the PHYS121.Installer() cell a second time.  The second time the installer function is run, it should report that **\"All packages already installed. Please proceed\"**.\n",
    "\n",
    "If necessary, the kernel can be restarted by selecting **Kernel** $\\to$ **Restart Kernel** from the menu options at to the top of the page.  Here is a <a href = \"https://raw.githubusercontent.com/UBC-Okanagan-Physics-Labs/PHYS-121-images/main/general/gifs/restartKernel.gif\">GIF</a> showing how to restart the kernel.\n",
    "\n",
    "The 'PHYS121.Installer()' command requires the file 'PHYS121.py', which you should see included in the list of files along the left-hand side of the screen."
   ]
  },
  {
   "cell_type": "code",
   "execution_count": null,
   "id": "d09add28",
   "metadata": {
    "deletable": false,
    "editable": false,
    "tags": []
   },
   "outputs": [],
   "source": [
    "# Import PHYS121.py and then run the installer function.\n",
    "import PHYS121\n",
    "PHYS121.Installer()"
   ]
  },
  {
   "cell_type": "code",
   "execution_count": null,
   "id": "fc7ff6c9",
   "metadata": {
    "deletable": false,
    "editable": false,
    "tags": []
   },
   "outputs": [],
   "source": [
    "# Initialize Otter\n",
    "import otter\n",
    "grader = otter.Notebook(\"PHYS 121 - Lab 4.ipynb\")"
   ]
  },
  {
   "cell_type": "markdown",
   "id": "b9da0e8b",
   "metadata": {
    "deletable": false,
    "editable": false,
    "tags": []
   },
   "source": [
    "***\n",
    "## Import Modules:\n",
    "Execute the cell below to import a number of useful pre-built Python modules that will be used in the PHYS 121 pre-labs and labs."
   ]
  },
  {
   "cell_type": "code",
   "execution_count": null,
   "id": "d0cfe6ac",
   "metadata": {},
   "outputs": [],
   "source": [
    "import numpy as np\n",
    "import matplotlib.pyplot as plt\n",
    "from matplotlib.pyplot import cm # used to generate a sequence of colours for plotting\n",
    "import pandas as pd\n",
    "import scipy.stats as sp\n",
    "from scipy.optimize import curve_fit\n",
    "from IPython.display import HTML as html_print\n",
    "from IPython.display import display, Markdown, Latex\n",
    "import math"
   ]
  },
  {
   "cell_type": "markdown",
   "id": "51eaf5f9",
   "metadata": {
    "deletable": false,
    "editable": false,
    "tags": []
   },
   "source": [
    "# <div style=\"background-color:rgba(255, 204, 255, 0.5); text-align:center; vertical-align: middle; padding:40px 0; margin-top:30px\"><span style=\"color:rgba(102, 0, 204, 1);\">Name & Student Number</span></div>  \n",
    "\n",
    "To ensure that both you and your partner receive credit for you lab work, both your name and student number and your partner's name and student number need to appear in the notebooks used during the labs.  In the cells below this text, enter your name and student number and your partner's name and student number as strings (i.e. place your names and student numbers between single or double quotes.\n",
    "\n",
    "Examples of valid entries are:\n",
    "```python\n",
    "last_name_1 = 'Doe'\n",
    "first_name_1 = 'Jane'\n",
    "student_number_1 = '12345678'\n",
    "```\n",
    "and\n",
    "```python\n",
    "last_name_1 = \"Doe\"\n",
    "first_name_1 = \"John\"\n",
    "student_number_1 = \"12345678\"\n",
    "```"
   ]
  },
  {
   "cell_type": "markdown",
   "id": "c31c45f2",
   "metadata": {
    "deletable": false,
    "editable": false,
    "tags": []
   },
   "source": [
    "<!-- BEGIN QUESTION -->\n",
    "\n",
    "***\n",
    "### **<span style=\"color:blue\">Partner #1</span>** **<span style=\"color:red\">(0.5 marks)</span>** "
   ]
  },
  {
   "cell_type": "code",
   "execution_count": null,
   "id": "57c6c938",
   "metadata": {
    "tags": []
   },
   "outputs": [],
   "source": [
    "# Enter LAST name of partner 1.  Delete the ... below and type your entry between the single quotes.\n",
    "# Once you've completed your entry, press SHIFT + ENTER to execute the cell.\n",
    "# *** Please do not change anything to the left of the equals sign. ***\n",
    "last_name_1 = ..."
   ]
  },
  {
   "cell_type": "code",
   "execution_count": null,
   "id": "670250e1",
   "metadata": {
    "tags": []
   },
   "outputs": [],
   "source": [
    "# Enter FIRST name of partner 1.  Delete the ... below and type your entry between the single quotes.\n",
    "# Once you've completed your entry, press SHIFT + ENTER to execute the cell.\n",
    "# *** Please do not change anything to the left of the equals sign. ***\n",
    "first_name_1 = ..."
   ]
  },
  {
   "cell_type": "code",
   "execution_count": null,
   "id": "1f590786",
   "metadata": {
    "tags": []
   },
   "outputs": [],
   "source": [
    "# Enter STUDENT NUMBER of partner 1.  Delete the ... below and type your entry between the single quotes.\n",
    "# Once you've completed your entry, press SHIFT + ENTER to execute the cell.\n",
    "# *** Please do not change anything to the left of the equals sign. ***\n",
    "student_number_1 = ..."
   ]
  },
  {
   "cell_type": "markdown",
   "id": "4234b5e1",
   "metadata": {
    "deletable": false,
    "editable": false,
    "tags": []
   },
   "source": [
    "***\n",
    "### **<span style=\"color:blue\">Partner #2</span>** **<span style=\"color:red\">(0.5 marks)</span>** \n",
    "If you are working on your own, leave all of last_name_2, first_name_2, and student_number_2 as ...  Please still exectute these cells and then run the 'grader.check(\"name_and_student_number_2\")' cell."
   ]
  },
  {
   "cell_type": "code",
   "execution_count": null,
   "id": "45cd239f",
   "metadata": {
    "tags": []
   },
   "outputs": [],
   "source": [
    "# Enter LAST name of partner 2.  Delete the ... below and type your entry between the single quotes.\n",
    "# Once you've completed your entry, press SHIFT + ENTER to execute the cell.\n",
    "# *** Please do not change anything to the left of the equals sign. ***\n",
    "last_name_2 = ..."
   ]
  },
  {
   "cell_type": "code",
   "execution_count": null,
   "id": "aa5268ca",
   "metadata": {
    "tags": []
   },
   "outputs": [],
   "source": [
    "# Enter FIRST name of partner 2.  Delete the ... below and type your entry between the single quotes.\n",
    "# Once you've completed your entry, press SHIFT + ENTER to execute the cell.\n",
    "# *** Please do not change anything to the left of the equals sign. ***\n",
    "first_name_2 = ..."
   ]
  },
  {
   "cell_type": "code",
   "execution_count": null,
   "id": "3394be13",
   "metadata": {
    "tags": []
   },
   "outputs": [],
   "source": [
    "# Enter STUDENT NUMBER of partner 2.  Delete the ... below and type your entry between the single quotes.\n",
    "# Once you've completed your entry, press SHIFT + ENTER to execute the cell.\n",
    "# *** Please do not change anything to the left of the equals sign. ***\n",
    "student_number_2 = ..."
   ]
  },
  {
   "cell_type": "code",
   "execution_count": null,
   "id": "77de41a2",
   "metadata": {
    "deletable": false,
    "editable": false
   },
   "outputs": [],
   "source": [
    "PHYS121.graderCheck([last_name_1, first_name_1, student_number_1, last_name_2, first_name_2, student_number_2], ['last_name_1', 'first_name_1', 'student_number_1', 'last_name_2', 'first_name_2', 'student_number_2'], grader.check('name_and_student_number'))"
   ]
  },
  {
   "cell_type": "markdown",
   "id": "1aa2c005",
   "metadata": {
    "deletable": false,
    "editable": false,
    "tags": []
   },
   "source": [
    "<!-- END QUESTION -->\n",
    "\n",
    "# <div style=\"background-color:rgba(255, 204, 255, 0.5); text-align:center; vertical-align: middle; padding:40px 0; margin-top:30px\"><span style=\"color:rgba(102, 0, 204, 1);\">Introduction</span></div>  \n",
    "It is often the case in physics that the techniques developed to solve one type of problem can be applied to other problems in a different field of physics.  For example, the methods developed to analyze simple electric circuits can be applied to numerous other types of problems.  Here are three examples:\n",
    "* Heat transfer in a complex system, such as a low-temperature physics experiment, can be analyzed in terms of a thermal circuit. \n",
    "* Mechanical resonators, such as a mass on a spring, can be analyzed as a mechanical $LRC$ circuit.\n",
    "* Fluid flow in a system of pipes and pumps (or the circulatory system of the body) can be modeled and analyzed using circuit concepts.\n",
    "\n",
    "### *Hydraulic Analogues*\n",
    "\n",
    "<p>\n",
    "<center>\n",
    "<img src=\"https://raw.githubusercontent.com/UBC-Okanagan-Physics-Labs/PHYS-121-images/main/Lab-4/images/analog.png\" alt=\"image info\" style=\"width: 45%; height: auto;\" /><br>\n",
    "<b>Fig. 1: Comparing a simple electrical circuit (left) to an analogous hydraulic circuit (right).  Figure adapted from HyperPhysics (<a href = \"http://hyperphysics.phy-astr.gsu.edu/hbase/electric/watcir2.html\">http://hyperphysics.phy-astr.gsu.edu/hbase/electric/watcir2.html</a>).</b></center>\n",
    "</p>\n",
    "\n",
    "Imagine the simplest possible single-loop electric circuit made using a battery, resistor, and ideal or zero-resistance connecting wires (left-hand side of Fig. 1).  The voltage difference $\\Delta V$ of the battery drives the flow of charge $q$ around the loop.  The current at any point in the circuit is given by $I=dq/dt$, which represents the amount of charge $dq$ crossing a surface in time $dt$.  The resistance $R$ is related to the voltage difference and current via $R=\\Delta V/I$. \n",
    "\n",
    "Now, imagine an analogous hydraulic or water circuit (right-hand side of Fig. 1).  Instead of a flow of charge, there is a flow of a quantity or volume $v$ of water.  To avoid confusion with voltage, we will use lowercase $v$ as our symbol for volume.  The analogue of current is, therefore, the volume flow rate $Q = dv/dt$.  It is conventional to use capital $Q$ as the symbol for volume flow rate and we will need to take care not to confuse it with charge in electrical circuits which we will represent with a lowercase $q$.  It is pressure differences $\\Delta P$ that drive the flow of water in hydraulic circuits.  A pump is one way to establish a constant pressure difference in a hydraulic circuit.  Wide pipes serve as our ideal connecting wires and narrow tubes act as hydraulic resistors.  By analogy with electrical resistance, we can define a hydraulic resistance as $R_\\mathrm{H}=\\Delta P/Q$.\n",
    "\n",
    "The analogy between electric and hydraulic circuits is summarized in the table below.\n",
    "\n",
    "| <div style=\"width:150px\">electric</div> | <div style=\"width:50px\">&nbsp;</div> | <div style=\"width:190px\">hydraulic</div> |\n",
    "| --: | :-: | :-- |\n",
    "charge: $q\\rm\\ [C]$ | $\\Longleftrightarrow$ | volume: $v\\rm\\ [m^3]$\n",
    "current: $ I = dq/dt\\rm\\ [A = C/s]$ | $\\Longleftrightarrow$ | volume flow rate: $Q = dv/dt\\rm\\ [m^3/s]$\n",
    "voltage: $\\Delta V\\rm\\ [V]$ | $\\Longleftrightarrow$ | pressure: $\\Delta P\\rm\\ [Pa = N/m^2]$\n",
    "resistance: $R=\\Delta V/I\\rm\\ [\\Omega = V/A]$ | $\\Longleftrightarrow$ | hydraulic resistance: $R_\\mathrm{H}=\\Delta P/Q\\rm\\ [kg/m^4 s]$\n",
    "\n",
    "In this lab, you will work with both electric and hydraulic circuits.  For the electric circuit, you will investigate how the measured resistance depends on the diameter of the wire.  For the hydraulic circuit, you will investigate how the measured hydraulic resistance depends on the the inner diameter of the resistance tube."
   ]
  },
  {
   "cell_type": "markdown",
   "id": "a860b576",
   "metadata": {
    "deletable": false,
    "editable": false,
    "tags": []
   },
   "source": [
    "# <div style=\"background-color:rgba(255, 204, 255, 0.5); text-align:center; vertical-align: middle; padding:40px 0; margin-top:30px\"><span style=\"color:rgba(102, 0, 204, 1);\">Part 1 - Electric Resistance (45 minutes)</span></div>\n",
    "\n",
    "In this first part of the lab, you will measure the resistance of some long wires.  The wires that you will work with are all made of the same material.  The wires are all the same length, but have different diameters.  You will use a power supply to apply a voltage across the wires and a hand-held multimeter to measure current.  The voltage applied across the wires can be read directly from the display of the power supply.  To measure the current, the multimeter must be placed in *series* with the power supply.  Specifically, the positive output of the power supply (red) should be connected directly to the positive current input of the multimeter.  The other terminal of the multimeter can then be connected to one end of the wire of interest while the opposite of end of the wire is connected to the negative terminal of the power supply (black).  A schematic diagram of a typical current measurement is shown in Fig. 2. \n",
    "\n",
    "<p>\n",
    "<center>\n",
    "<img src=\"https://raw.githubusercontent.com/UBC-Okanagan-Physics-Labs/PHYS-121-images/main/Lab-4/images/ammeter_wiki.png\" alt=\"image info\" style=\"width: 45%; height: auto;\" /><br>\n",
    "    <b>Fig. 2: A current measurement.  The current meter (ammeter) is in <i>series</i> with both the battery and the light bulb.  The positive terminal of the ammeter is connected to the positive terminal of the battery.  Figure adapted from wikiHow (<a href = \"https://www.wikihow.com/Use-an-Ammeter\">https://www.wikihow.com/Use-an-Ammeter</a>)</b></center>\n",
    "</p>"
   ]
  },
  {
   "cell_type": "markdown",
   "id": "f60f9b58",
   "metadata": {
    "deletable": false,
    "editable": false,
    "tags": []
   },
   "source": [
    "<!-- BEGIN QUESTION -->\n",
    "\n",
    "***\n",
    "**<span style=\"color:blue\">Question 1.1</span>** **<span style=\"color:red\">(2 marks)</span>** \n",
    "\n",
    "First, for each wire, make a single measurement of voltage and current.  Include uncertainties in your measurements.  If the voltage/current reading is fluctuating, you can use the size of the fluctuations to estimate the uncertainty in the reading.  If, on the other hand, the reading is stable, you can use $\\pm 1$ in the least significant decimal place as the uncertainty.  For example, if a voltage reading is stable at $0.38\\rm\\ V$, you would report its value as $0.38\\pm 0.01\\rm\\ V$. \n",
    "\n",
    "For each of your measurements, start with the voltage knob on the power supply turned all the way down (counterclockwise).  Then, turn the voltage up and watch the current reading.  For the data you record, you can use any value of the current that you like as long as it does not exceed $0.100\\rm\\ A$ or $100\\rm\\ mA$.  Higher currents may cause the wires to heat up which could change their resistance.    \n",
    "\n",
    "Use the code cell below to create a DataFrame with your measurements and the associated uncertainties. The first list contains the wire diameters (in $\\rm mm$) that will be used. Enter your measurements in the appropriate lists *in the same order* as they appear in the diameter column.  Replace the ... in the cell below with the appropriate experimental data.\n",
    "\n",
    "*** Please do not change any of the variable names in the cell below ***"
   ]
  },
  {
   "cell_type": "code",
   "execution_count": null,
   "id": "9beef835",
   "metadata": {
    "tags": []
   },
   "outputs": [],
   "source": [
    "data = pd.DataFrame({\"d\"  : [0.200, 0.290, 0.315, 0.375, 0.457, 0.558, 0.712, 0.900],\n",
    "                     \"V\"  : [...],\n",
    "                     \"dV\" : [...],\n",
    "                     \"I\"  : [...],\n",
    "                     \"dI\" : [...]\n",
    "                    })\n",
    "\n",
    "# Display the dataframe.\n",
    "data"
   ]
  },
  {
   "cell_type": "code",
   "execution_count": null,
   "id": "06f274bd",
   "metadata": {
    "deletable": false,
    "editable": false
   },
   "outputs": [],
   "source": [
    "PHYS121.graderCheck([data.to_numpy()], ['data'], grader.check('q1.1'))"
   ]
  },
  {
   "cell_type": "markdown",
   "id": "d4d80811",
   "metadata": {
    "deletable": false,
    "editable": false,
    "tags": []
   },
   "source": [
    "<!-- END QUESTION -->\n",
    "\n",
    "***\n",
    "**<span style=\"color:blue\">Question 1.2</span>** **<span style=\"color:red\">(1 mark)</span>** \n",
    " \n",
    "Use the cell below to calculate the resistance of each wire and the uncertainty in the calculated resistance.  That is, replace the ... in the cell below with an expression that will calculate resistance from the voltage and current measurements that you've made. \n",
    "\n",
    "The syntax used to access a specific column from a DataFrame is:\n",
    "```python\n",
    "df[\"column_name\"]\n",
    "```\n",
    "where df is the name of whatever DataFrame you're working with and column_name is the name given to the specific column you want to access.\n",
    "\n",
    "The cell below is also used to calculate the error in the calculated resistance.  This first error propagation calculation has been done for you.  Later in the lab, you will be required to complete your own error propagation calculations.\n",
    "\n",
    "Because $R = V/I$, we know that\n",
    "$$\n",
    "\\frac{\\Delta R}{R} = \\frac{\\Delta I}{I} + \\frac{\\Delta V}{V}.\n",
    "$$\n",
    "Solving this expression for $\\Delta R$ yields \n",
    "$$\n",
    "\\Delta R = R\\left[\\frac{\\Delta I}{I} + \\frac{\\Delta V}{V}\\right].\n",
    "$$\n",
    "\n",
    "*** Please do not change any of the variable names in the cell below ***"
   ]
  },
  {
   "cell_type": "code",
   "execution_count": null,
   "id": "ee3dedbf",
   "metadata": {
    "tags": []
   },
   "outputs": [],
   "source": [
    "# Enter an expression to calculate the wire resistance.\n",
    "\n",
    "data[\"R\"] = ...\n",
    "\n",
    "# Here's an expression that can be used to find the uncertainty in the experimentally-determined resistances.\n",
    "data[\"dR\"] = data[\"R\"]*(data[\"dV\"]/data[\"V\"] + data[\"dI\"]/data[\"I\"])\n",
    "\n",
    "data"
   ]
  },
  {
   "cell_type": "code",
   "execution_count": null,
   "id": "ed1b975f",
   "metadata": {
    "deletable": false,
    "editable": false
   },
   "outputs": [],
   "source": [
    "PHYS121.graderCheck([data[\"R\"].to_numpy()], ['data[\"R\"]'], grader.check('q1.2'))"
   ]
  },
  {
   "cell_type": "markdown",
   "id": "c59aef5d",
   "metadata": {
    "tags": []
   },
   "source": [
    "<!-- BEGIN QUESTION -->\n",
    "\n",
    "***\n",
    "**<span style=\"color:blue\">Question 1.3</span>** **<span style=\"color:red\">(1 mark)</span>** \n",
    "\n",
    " Use the cell below to make a scatter plot of $R\\pm \\Delta R$ versus $d^{-1}$, where $d$ is the wire diameter. Fill in the missing data needed when calling the 'Scatter' function.  Remember that the Scatter function accepts arrays or lists as inputs - to call a column from the 'data' DataFrame as a list, use the syntax:\n",
    " ```python\n",
    " data[\"column_name\"]\n",
    "```\n",
    "\n",
    "For additional information about the 'Scatter' function, see **Appendix A** near the end of this notebook.   \n",
    " \n",
    " *** Please do not change any of the variable names in the cell below ***"
   ]
  },
  {
   "cell_type": "code",
   "execution_count": null,
   "id": "60c5bd5f",
   "metadata": {
    "tags": []
   },
   "outputs": [],
   "source": [
    "fig1 = PHYS121.Scatter(xData = ..., \n",
    "                       yData = ...,  \n",
    "                       yErrors = ...,\n",
    "                       xlabel = \"1/d\", \n",
    "                       ylabel = \"R\", \n",
    "                       xUnits = \"1/mm\", \n",
    "                       yUnits = \"\\u03A9\") # \"\\u03A9\" is the unicode string for Omega, or the ohms symbol."
   ]
  },
  {
   "cell_type": "markdown",
   "id": "b3757402",
   "metadata": {
    "deletable": false,
    "editable": false,
    "tags": []
   },
   "source": [
    "<!-- END QUESTION -->\n",
    "\n",
    "<!-- BEGIN QUESTION -->\n",
    "\n",
    "***\n",
    "**<span style=\"color:blue\">Question 1.4</span>** **<span style=\"color:red\">(2 marks)</span>**  \n",
    "\n",
    "Use the 'PowerLaw' function in PHYS121.py to fit the $R\\pm\\Delta R$ versus $d^{-1}$ data to a function of the form $y = A\\,x^N + C$, where\n",
    "- $A$ is a coefficient \n",
    "- $N$ is a power\n",
    "- $C$ is an offset.  \n",
    "\n",
    "The 'PowerLaw' function is called as follows:\n",
    "```python\n",
    "import PHYS121\n",
    "A, N, C, dA, dN, dC, fig = PHYS121.PowerLaw(xData = x, yData = y, yErrors = erry, xlabel = 'x', ylabel = 'y', xUnits ='s', yUnits = 'm')\n",
    "```\n",
    "For additional information about the 'PowerLaw' function, see **Appendix B** near the end of this notebook. \n",
    "\n",
    "*** Please do not change any of the variable names in the cell below ***"
   ]
  },
  {
   "cell_type": "code",
   "execution_count": null,
   "id": "61dfc098",
   "metadata": {
    "tags": []
   },
   "outputs": [],
   "source": [
    "A, N, C, dA, dN, dC, fig = PHYS121.PowerLaw(xData = ..., \n",
    "                                            yData = ..., \n",
    "                                            yErrors = ..., \n",
    "                                            xlabel = \"1/d\", \n",
    "                                            ylabel = \"R\", \n",
    "                                            xUnits = \"1/mm\", \n",
    "                                            yUnits = \"\\u03A9\")"
   ]
  },
  {
   "cell_type": "markdown",
   "id": "49f92d0e",
   "metadata": {
    "deletable": false,
    "editable": false,
    "tags": []
   },
   "source": [
    "<!-- END QUESTION -->\n",
    "\n",
    "***\n",
    "**<span style=\"color:blue\">Question 1.5</span>** **<span style=\"color:red\">(1 mark)</span>**  \n",
    "\n",
    "Based on your experimental determination of $N\\pm \\Delta N$, what would happen to the resistance of a wire if its diameter was doubled?\n",
    "\n",
    "(a) The resistance would increase by a factor of 16.  \n",
    "(b) The resistance would increase by a factor of 8.  \n",
    "(c) The resistance would increase by a factor of 4.  \n",
    "(d) The resistance would increase by a factor of 2.  \n",
    "(e) The resistance would remain unchanged.  \n",
    "(f) The resistance would decrease by a factor of 2.  \n",
    "(g) The resistance would decrease by a factor of 4.  \n",
    "(h) The resistance would decrease by a factor of 8.  \n",
    "(i) The resistance would decrease by a factor of 16.  "
   ]
  },
  {
   "cell_type": "markdown",
   "id": "f52980e9",
   "metadata": {
    "deletable": false,
    "editable": false,
    "tags": []
   },
   "source": [
    "***\n",
    "**<span style=\"color:blue\">Answer 1.5:</span>**\n",
    "\n",
    "Replace the ... in the cell below with your answer.  Your answer should be a single character (a, b, c, d, e, f, g, h, or i) between single or double quotes.  \n",
    "*** Please do not change anything to the left of the equals sign. ***\n",
    "\n",
    "<span style=\"color:purple\">For this question, the 'PHYS121.graderCheck(...)' statements only check that answers have been entered in the correct format.  They do **NOT** check that you've entered the correct answer.</span> "
   ]
  },
  {
   "cell_type": "code",
   "execution_count": null,
   "id": "786cb715",
   "metadata": {
    "tags": []
   },
   "outputs": [],
   "source": [
    "a1_5 = ..."
   ]
  },
  {
   "cell_type": "code",
   "execution_count": null,
   "id": "e4049bdd",
   "metadata": {
    "deletable": false,
    "editable": false
   },
   "outputs": [],
   "source": [
    "PHYS121.graderCheck([a1_5], ['a1_5'], grader.check('q1.5'))"
   ]
  },
  {
   "cell_type": "markdown",
   "id": "04535b04",
   "metadata": {
    "deletable": false,
    "editable": false,
    "tags": []
   },
   "source": [
    "# <div style=\"background-color:rgba(255, 204, 255, 0.5); text-align:center; vertical-align: middle; padding:40px 0; margin-top:30px\"><span style=\"color:rgba(102, 0, 204, 1);\">Part 2 - Hydraulic Current (75 minutes)</span></div>\n",
    "\n",
    "In the second part of the lab, you will make measurements of hydraulic resistance.  However, before beginning, it is important to highlight the differences between the hydraulic circuit shown in on the right of Fig. 1 and the experimental setup that you'll be using, which is shown schematically in Fig. 3.\n",
    "\n",
    "<p>\n",
    "<center>\n",
    "<img src=\"https://raw.githubusercontent.com/UBC-Okanagan-Physics-Labs/PHYS-121-images/main/Lab-4/images/hydraulic_ohms_law.png\" alt=\"image info\" style=\"width: 45%; height: auto;\" /><br>\n",
    "<b>Fig. 3: A schematic drawing of the experimental setup.  The vessel of water serves as a hydraulic battery and a long narrow tube is the hydraulic resistance.  Measuring the mass of water collected in a beaker as a function of time allows the volume flow rate (i.e. the hydraulic current) to be deduced.</b></center>\n",
    "</p>\n",
    "\n",
    "Rather than using a pump, in your experiment the pressure difference will be supplied using a large vessel of water equipped with an outlet and valve near the bottom.  The pressure difference between the top of the surface of the water and the outlet is given by $\\Delta P = \\rho g\\Delta h$, where $\\rho = 0.998\\rm\\ g/cm^3$ is the density of water, $g=9.81\\rm\\ m/s^2$ is the gravitational acceleration, and $\\Delta h$ is the height difference shown in Fig. 3.  Once the valve is opened, water will flow through a narrow Teflon tube (i.e. the hydraulic resistor) and into a beaker that sits on a scale.  As long as the volume of water in the vessel is large compared to the amount of water collected by the beaker, the value of $\\Delta h$ will remain approximately constant during the experiment.  As a result the pressure difference $\\Delta P$ is also approximately constant and vessel of water acts as a hydraulic battery.\n",
    "\n",
    "You will measure mass of water collected as function of time for two different resistance tubes.  The inner diameters of the tubes available in the lab are: $0.965$, $1.397$, $1.676$, $1.930$, and $2.413\\rm\\ mm$. Two of the tubes have been placed on your workbench.  Please use these tubes for your measurements and do **not** take tubes from or move your tubes to another bench.\n",
    "\n",
    "To make your measurements:\n",
    "\n",
    "* First make sure the beaker is empty and place it on the scale.  \n",
    "* Zero the scale so that, when the beaker is empty, the scale reads $0.00\\rm\\ g$.  \n",
    "* Position the open end of Teflon tube above the beaker.  The height of this end should be the same as the height of the opposite end that is inserted into the outlet of the water vessel. The Teflon tube should also be relatively straight without any major bends or curves.  Arrange it so that the tube is straight *without* being stretched.  If the tube is stretched, its inner diameter will change which will adversely affect your data analysis.\n",
    "* In order to maintain a pressure of $1\\rm\\ atm$ above the water surface, the cap at the top of the water vessel should be removed while data is being collected.  To prevent accidental spills, please replace and tighten the cap when not actively collecting data.\n",
    "* Open the valve to start the flow of water\n",
    "* When the first drop of water enters the beaker, start a timer.\n",
    "* Record at least $12$ measurements of the mass at approximately equally-spaced time intervals.\n",
    "* At the end of your set of measurements, close the valve and carefully dump the water that was collected in the beaker back into the top of the vessel.\n",
    "\n",
    "For largest diameter tubes, the flow of water will be fast and time intervals of about $10\\rm\\ s$ may be suitable.  It is difficult to simultaneously watch a timer and record the mass.  Coordinate with your partner so that one person is watching the time while the other person writes down the values of the mass.  Alternatively, there are YouTube videos that will play a beep at fixed time intervals.  Here are some links:\n",
    "\n",
    "| interval | link |\n",
    "--: | :--\n",
    "$5\\rm\\ s$ | https://www.youtube.com/watch?v=NMIZQcebfKI\n",
    "$10\\rm\\ s$ | https://www.youtube.com/watch?v=Xjv2-F6Quls\n",
    "$15\\rm\\ s$ | https://www.youtube.com/watch?v=LaUe-Hf0uSM\n",
    "$30\\rm\\ s$ | https://www.youtube.com/watch?v=2AFro8meJGI\n",
    "$60\\rm\\ s$ | https://www.youtube.com/watch?v=-22N-qs5PHE\n",
    "$120\\rm\\ s$ | https://www.youtube.com/watch?v=2dAorgAB0I4\n",
    "\n",
    "The lab computers do not have speakers.  To hear the beeps while using a lab computer, you will need to use headphones plugged into the lab computer's audio port.  Of course, you could also play the YouTube videos on your own device (laptop, tablet, smart phone).  If you do this, please keep the sound low to avoid unnecessarily disturbing others in the lab.\n",
    "\n",
    "Another option is to use your smart phone to record the display of the digital scale as it collects water.  You can then play the video back and periodically pause it at regular intervals in order to record the mass displayed on the screen of the scale.\n",
    "\n",
    "\n",
    "In addition to the tube diameters listed above, we also have narrow Teflon tubes with inner diameters of $0.305$ and $0.559\\rm\\ mm$.  These tubes have very low flow rates and the data collection can take between $20$ and $30$ minutes.  We have collected data using these two tubes, and we will provide you with their hydraulic resistance at the end of the lab.\n",
    "\n",
    "**Do NOT allow the beaker to overflow**. Exposure to water may irreversibly damage the scale."
   ]
  },
  {
   "cell_type": "markdown",
   "id": "436ee4c4",
   "metadata": {
    "deletable": false,
    "editable": false,
    "tags": []
   },
   "source": [
    "<!-- BEGIN QUESTION -->\n",
    "\n",
    "***\n",
    "**<span style=\"color:blue\">Question 2.1</span>** **<span style=\"color:red\">(1 mark)</span>**  \n",
    "\n",
    "Collect your data (in *seconds* and *grams*) and enter the measurements into the \"tube1\" DataFrame below. \n",
    "\n",
    "Enter your tube's diameter (in *milimeters*) in the \"tube1_diameter\" variable below.\n",
    "\n",
    "*** Please do not change any of the variable names in the cell below ***"
   ]
  },
  {
   "cell_type": "code",
   "execution_count": null,
   "id": "14af4ee5",
   "metadata": {
    "tags": []
   },
   "outputs": [],
   "source": [
    "# Tube 1 DataFrame\n",
    "tube1_diameter = ... # mm\n",
    "tube1 = pd.DataFrame({\"time\" : [...],\n",
    "                      \"mass\" : [...]\n",
    "                      })\n",
    "print(f\"Results for tube with diameter {tube1_diameter} mm:\")\n",
    "tube1"
   ]
  },
  {
   "cell_type": "code",
   "execution_count": null,
   "id": "fb35b0d3",
   "metadata": {
    "deletable": false,
    "editable": false
   },
   "outputs": [],
   "source": [
    "PHYS121.graderCheck([tube1_diameter, tube1.to_numpy()], ['tube1_diameter', 'tube1'], grader.check('q2.1'))"
   ]
  },
  {
   "cell_type": "markdown",
   "id": "dbaa03c1",
   "metadata": {
    "deletable": false,
    "editable": false,
    "tags": []
   },
   "source": [
    "<!-- END QUESTION -->\n",
    "\n",
    "***\n",
    "**<span style=\"color:blue\">Question 2.2</span>** **<span style=\"color:red\">(1 mark)</span>**  \n",
    "\n",
    " In the cell below, convert your mass measurements (taken in *grams*) to volume (in cubic metres [$\\rm m^3$]) for tube 1 and add the volumes to the 'tube1' DataFrame.. \n",
    "\n",
    " **NOTE:** The density of water is ($\\rho = 9.98\\times 10^5\\rm\\ g/m^3$).\n",
    " \n",
    " *** Please do not change any of the variable names in the cell below ***"
   ]
  },
  {
   "cell_type": "code",
   "execution_count": null,
   "id": "6302f493",
   "metadata": {
    "tags": []
   },
   "outputs": [],
   "source": [
    "density = 9.98e5 # g/m^3\n",
    "tube1[\"volume\"] = ...\n",
    "\n",
    "# Display the updated dataframe\n",
    "tube1"
   ]
  },
  {
   "cell_type": "code",
   "execution_count": null,
   "id": "690fff5a",
   "metadata": {
    "deletable": false,
    "editable": false
   },
   "outputs": [],
   "source": [
    "PHYS121.graderCheck([tube1[\"volume\"].to_numpy()], ['tube1[\"volume\"]'], grader.check('q2.2'))"
   ]
  },
  {
   "cell_type": "markdown",
   "id": "9395e14c",
   "metadata": {
    "deletable": false,
    "editable": false,
    "tags": []
   },
   "source": [
    "<!-- BEGIN QUESTION -->\n",
    "\n",
    "***\n",
    "**<span style=\"color:blue\">Question 2.3</span>** **<span style=\"color:red\">(1 mark)</span>**  \n",
    "\n",
    "Create a scatter plot of volume (hydraulic charge) versus time along with appropriate axis labels, with units, for tube 1.\n",
    "\n",
    "For additional information about the 'Scatter' function, refer to **Appendix A** near the end of this notebook.\n",
    "\n",
    " *** Please do not change any of the variable names in the cell below ***"
   ]
  },
  {
   "cell_type": "code",
   "execution_count": null,
   "id": "5b12435c",
   "metadata": {
    "tags": []
   },
   "outputs": [],
   "source": [
    "fig1 = PHYS121.Scatter( xData = ...,\n",
    "                        yData = ..., \n",
    "                        xlabel = \"Time\", \n",
    "                        xUnits = \"s\", \n",
    "                        ylabel = \"Volume\", \n",
    "                        yUnits = \"m$^3$\") "
   ]
  },
  {
   "cell_type": "markdown",
   "id": "af7a76c6",
   "metadata": {
    "deletable": false,
    "editable": false,
    "tags": []
   },
   "source": [
    "<!-- END QUESTION -->\n",
    "\n",
    "<!-- BEGIN QUESTION -->\n",
    "\n",
    "***\n",
    "**<span style=\"color:blue\">Question 2.4</span>** **<span style=\"color:red\">(1 mark)</span>**  \n",
    "\n",
    "The slope of your volume versus time plot gives the volume flow rate $Q$ or hydraulic current.  In the cell below, use the 'LinearFit' function to fit your volume versus time data and determine the volume flow rate and its uncertainty. \n",
    "\n",
    "For additional information about the 'LinearFit' function, see **Appendix C** near the end of this notebook. \n",
    "\n",
    " *** Please do not change any of the variable names in the cell below ***"
   ]
  },
  {
   "cell_type": "code",
   "execution_count": null,
   "id": "b8c298c7",
   "metadata": {
    "tags": []
   },
   "outputs": [],
   "source": [
    "m1, b1, dm1, db1, fig1 = PHYS121.LinearFit(xData = ..., \n",
    "                                           yData = ..., \n",
    "                                           xlabel = \"Time\", \n",
    "                                           ylabel = \"Volume\", \n",
    "                                           xUnits = \"s\", \n",
    "                                           yUnits = \"m$^3$\")"
   ]
  },
  {
   "cell_type": "markdown",
   "id": "ffaae34c",
   "metadata": {
    "deletable": false,
    "editable": false,
    "tags": []
   },
   "source": [
    "<!-- END QUESTION -->\n",
    "\n",
    "***\n",
    "**<span style=\"color:blue\">Question 2.5</span>** **<span style=\"color:red\">(1 mark)</span>**  \n",
    "\n",
    "In the cell below, for your first tube enter the:\n",
    "* Volume flow rate (Q1)\n",
    "* Uncertainty in the volume flow rate (dQ1)\n",
    "\n",
    "Both entries should be in units of [$\\rm\\ m^3/s$].\n",
    "\n",
    " *** Please do not change any of the variable names in the cell below ***"
   ]
  },
  {
   "cell_type": "code",
   "execution_count": null,
   "id": "683026dd",
   "metadata": {
    "tags": []
   },
   "outputs": [],
   "source": [
    "# Tube 1\n",
    "Q1 = ...\n",
    "dQ1 = ...\n",
    "print(f\"For tube 1 with diameter {tube1_diameter} mm, we found Q = ({Q1:.3e} +/- {dQ1:.1e}) m^3/s\")"
   ]
  },
  {
   "cell_type": "code",
   "execution_count": null,
   "id": "e953c220",
   "metadata": {
    "deletable": false,
    "editable": false
   },
   "outputs": [],
   "source": [
    "PHYS121.graderCheck([Q1, dQ1], ['Q1', 'dQ1'], grader.check('q2.5'))"
   ]
  },
  {
   "cell_type": "markdown",
   "id": "740b9d4f",
   "metadata": {},
   "source": [
    "***\n",
    "Next, we will repeat questions 2.1-2.5 for the second tube."
   ]
  },
  {
   "cell_type": "markdown",
   "id": "7835578a",
   "metadata": {
    "deletable": false,
    "editable": false,
    "tags": []
   },
   "source": [
    "<!-- BEGIN QUESTION -->\n",
    "\n",
    "***\n",
    "**<span style=\"color:blue\">Question 2.6</span>** **<span style=\"color:red\">(1 mark)</span>**  \n",
    "\n",
    "Collect your data (in *seconds* and *grams*) and enter it into the \"tube2\" DataFrame below. \n",
    "\n",
    "Enter your tube's diameter (in *milimeters*) in the \"tube2_diameter\" variable below.\n",
    "\n",
    "*** Please do not change any of the variable names in the cell below ***"
   ]
  },
  {
   "cell_type": "code",
   "execution_count": null,
   "id": "8c310b28",
   "metadata": {
    "tags": []
   },
   "outputs": [],
   "source": [
    "# Tube 2 DataFrame\n",
    "tube2_diameter = ... # mm\n",
    "tube2 = pd.DataFrame({\"time\" : [...],\n",
    "                      \"mass\" : [...]\n",
    "                      })\n",
    "print(f\"Results for tube with diameter {tube2_diameter} mm:\")\n",
    "tube2"
   ]
  },
  {
   "cell_type": "code",
   "execution_count": null,
   "id": "89f93c42",
   "metadata": {
    "deletable": false,
    "editable": false
   },
   "outputs": [],
   "source": [
    "PHYS121.graderCheck([tube2_diameter, tube2.to_numpy()], ['tube2_diameter', 'tube2'], grader.check('q2.6'))"
   ]
  },
  {
   "cell_type": "markdown",
   "id": "d8c70403",
   "metadata": {
    "deletable": false,
    "editable": false,
    "tags": []
   },
   "source": [
    "<!-- END QUESTION -->\n",
    "\n",
    "***\n",
    "**<span style=\"color:blue\">Question 2.7</span>** **<span style=\"color:red\">(1 mark)</span>**  \n",
    "\n",
    " In the cell below, convert your mass measurements (taken in *grams*) to volume (in cubic metres [$m^3$]) for tube 2. \n",
    " \n",
    " *** Please do not change any of the variable names in the cell below ***"
   ]
  },
  {
   "cell_type": "code",
   "execution_count": null,
   "id": "41f6e46a",
   "metadata": {
    "tags": []
   },
   "outputs": [],
   "source": [
    "tube2[\"volume\"] = ...\n",
    "\n",
    "# Display the updated dataframe\n",
    "tube2"
   ]
  },
  {
   "cell_type": "code",
   "execution_count": null,
   "id": "f60f8bea",
   "metadata": {
    "deletable": false,
    "editable": false
   },
   "outputs": [],
   "source": [
    "PHYS121.graderCheck([tube2[\"volume\"].to_numpy()], ['tube2[\"volume\"]'], grader.check('q2.7'))"
   ]
  },
  {
   "cell_type": "markdown",
   "id": "2705642f",
   "metadata": {
    "deletable": false,
    "editable": false,
    "tags": []
   },
   "source": [
    "<!-- BEGIN QUESTION -->\n",
    "\n",
    "***\n",
    "**<span style=\"color:blue\">Question 2.8</span>** **<span style=\"color:red\">(1 mark)</span>**  \n",
    "\n",
    "Create a scatter plot of volume (hydraulic charge) versus time along with appropriate axis labels, with units, for tube 2.\n",
    "\n",
    "For additional information about the 'Scatter' function, refer to **Appendix A** near the end of this notebook.\n",
    "\n",
    "*** Please do not change any of the variable names in the cell below ***"
   ]
  },
  {
   "cell_type": "code",
   "execution_count": null,
   "id": "8a87b34e",
   "metadata": {
    "tags": []
   },
   "outputs": [],
   "source": [
    "fig2 = PHYS121.Scatter( xData = ...,\n",
    "                        yData = ..., \n",
    "                        xlabel = \"Time\", \n",
    "                        xUnits = \"s\", \n",
    "                        ylabel = \"Volume\", \n",
    "                        yUnits = \"m$^3$\") "
   ]
  },
  {
   "cell_type": "markdown",
   "id": "5a61d88e",
   "metadata": {
    "deletable": false,
    "editable": false,
    "tags": []
   },
   "source": [
    "<!-- END QUESTION -->\n",
    "\n",
    "<!-- BEGIN QUESTION -->\n",
    "\n",
    "***\n",
    "**<span style=\"color:blue\">Question 2.9</span>** **<span style=\"color:red\">(1 mark)</span>**  \n",
    "\n",
    "The slope of your volume versus time plot gives the volume flow rate or hydraulic current.  In the cell below, use the 'LinearFit' function to fit your volume versus time data and determine the volume flow rate and its uncertainty, for tube 2.\n",
    "\n",
    "For additional information about the 'LinearFit' function, see **Appendix C** near the end of this notebook. \n",
    "\n",
    "*** Please do not change any of the variable names in the cell below ***"
   ]
  },
  {
   "cell_type": "code",
   "execution_count": null,
   "id": "2cb654aa",
   "metadata": {
    "tags": []
   },
   "outputs": [],
   "source": [
    "m2, b2, dm2, db2, fig2 = PHYS121.LinearFit(xData = ..., \n",
    "                                           yData = ..., \n",
    "                                           xlabel = \"Time\", \n",
    "                                           ylabel = \"Volume\", \n",
    "                                           xUnits = \"s\", \n",
    "                                           yUnits = \"m$^3$\")"
   ]
  },
  {
   "cell_type": "markdown",
   "id": "385b8fb7",
   "metadata": {
    "deletable": false,
    "editable": false,
    "tags": []
   },
   "source": [
    "<!-- END QUESTION -->\n",
    "\n",
    "***\n",
    "**<span style=\"color:blue\">Question 2.10</span>** **<span style=\"color:red\">(1 mark)</span>**  \n",
    "\n",
    "In the cell below, for your second tube enter the:\n",
    "* Volume flow rate (Q2)\n",
    "* Uncertainty in the volume flow rate (dQ2)\n",
    "\n",
    "Both entries should be in units of [$\\rm m^3/s$].\n",
    "\n",
    "*** Please do not change any of the variable names in the cell below ***"
   ]
  },
  {
   "cell_type": "code",
   "execution_count": null,
   "id": "7c8524f9",
   "metadata": {
    "tags": []
   },
   "outputs": [],
   "source": [
    "# Tube 2\n",
    "Q2 = ...\n",
    "dQ2 = ...\n",
    "print(f\"For tube 2 with diameter {tube2_diameter} mm, we found Q = ({Q2:.3e} +/- {dQ2:.1e}) m^3/s\")"
   ]
  },
  {
   "cell_type": "code",
   "execution_count": null,
   "id": "3a15b196",
   "metadata": {
    "deletable": false,
    "editable": false
   },
   "outputs": [],
   "source": [
    "PHYS121.graderCheck([Q2, dQ2], ['Q2', 'dQ2'], grader.check('q2.10'))"
   ]
  },
  {
   "cell_type": "markdown",
   "id": "6034b7c5",
   "metadata": {
    "deletable": false,
    "editable": false,
    "tags": []
   },
   "source": [
    "# <div style=\"background-color:rgba(255, 204, 255, 0.5); text-align:center; vertical-align: middle; padding:40px 0; margin-top:30px\"><span style=\"color:rgba(102, 0, 204, 1);\">Part 3 - Hydraulic Resistance (20 minutes)</span></div>\n",
    "\n",
    "In this part of the lab, you will calculate the hydraulic resistance $R_\\mathrm{H}$ of your Teflon tubes."
   ]
  },
  {
   "cell_type": "markdown",
   "id": "5bda8732",
   "metadata": {
    "deletable": false,
    "editable": false,
    "tags": []
   },
   "source": [
    "<!-- BEGIN QUESTION -->\n",
    "\n",
    "***\n",
    "**<span style=\"color:blue\">Question 3.1</span>** **<span style=\"color:red\">(1 mark)</span>**   \n",
    "\n",
    "First, for your water vessel, measure the difference in height between the top surface of the water and the outlet (in units of [$\\rm m$]).  Include uncertainties. Enter the measurement in the cell below.\n",
    "\n",
    "*** Please do not change any of the variable names in the cell below ***"
   ]
  },
  {
   "cell_type": "code",
   "execution_count": null,
   "id": "2d99c3f3",
   "metadata": {
    "tags": []
   },
   "outputs": [],
   "source": [
    "# Enter the measured height difference, in meters.\n",
    "h = ...\n",
    "\n",
    "# Enter the uncertainty in the measured height difference, in meters.\n",
    "dh = ..."
   ]
  },
  {
   "cell_type": "code",
   "execution_count": null,
   "id": "c878cedd",
   "metadata": {
    "deletable": false,
    "editable": false
   },
   "outputs": [],
   "source": [
    "PHYS121.graderCheck([h, dh], ['h', 'dh'], grader.check('q3.1'))"
   ]
  },
  {
   "cell_type": "markdown",
   "id": "2e8d616b",
   "metadata": {
    "deletable": false,
    "editable": false,
    "tags": []
   },
   "source": [
    "<!-- END QUESTION -->\n",
    "\n",
    "***\n",
    "**<span style=\"color:blue\">Question 3.2</span>** **<span style=\"color:red\">(1 mark)</span>**   \n",
    "\n",
    "In the cell below, calculate the pressure difference supplied by the hydraulic battery.  Calculate the uncertainty in the pressure difference.\n",
    "\n",
    "*** Please do not change any of the variable names in the cell below ***"
   ]
  },
  {
   "cell_type": "code",
   "execution_count": null,
   "id": "7cb72346",
   "metadata": {
    "tags": []
   },
   "outputs": [],
   "source": [
    "# Here's the pressure calculation done for you.\n",
    "g = 9.81 # m/s^2\n",
    "rho = 998 # kg/m^3\n",
    "P = rho*g*h # N/m^2\n",
    "\n",
    "# You complete the calculation of the uncertainty in the pressure difference\n",
    "dP = ...\n",
    "\n",
    "# Display the calculated values.\n",
    "print(f\"P = ({P:.2f} +/- {dP:.2f}) Pa\") "
   ]
  },
  {
   "cell_type": "code",
   "execution_count": null,
   "id": "283a1b9b",
   "metadata": {
    "deletable": false,
    "editable": false
   },
   "outputs": [],
   "source": [
    "PHYS121.graderCheck([dP], ['dP'], grader.check('q3.2'))"
   ]
  },
  {
   "cell_type": "markdown",
   "id": "3fb4575a",
   "metadata": {
    "deletable": false,
    "editable": false,
    "tags": []
   },
   "source": [
    "***\n",
    "**<span style=\"color:blue\">Question 3.3</span>** **<span style=\"color:red\">(1 mark)</span>**   \n",
    "\n",
    "Calculate the hydraulic resistance (and its uncertainty) for your first tube.\n",
    "\n",
    "Recall that $R_\\mathrm{H} \\equiv \\Delta P/Q$.  See **Question 1.2** for an example of this type of calculation.\n",
    "\n",
    "*** Please do not change any of the variable names in the cell below ***"
   ]
  },
  {
   "cell_type": "code",
   "execution_count": null,
   "id": "506ba570",
   "metadata": {
    "tags": []
   },
   "outputs": [],
   "source": [
    "# Tube 1\n",
    "# Calculate the hydraulic resistance.\n",
    "RH1 = ...\n",
    "\n",
    "# Calculate the uncertainty in the hydraulic resistance.\n",
    "# See Question 1.2 for an example of this type of calculation.\n",
    "dRH1 = ...\n",
    "\n",
    "# Display the calculated values.\n",
    "print(f\"For the tube with diameter d = {tube1_diameter:.3e} mm, we found RH1 = ({RH1:.3e} +/- {dRH1:.3e}) kg/m^4s\") "
   ]
  },
  {
   "cell_type": "code",
   "execution_count": null,
   "id": "3ae829d7",
   "metadata": {
    "deletable": false,
    "editable": false
   },
   "outputs": [],
   "source": [
    "PHYS121.graderCheck([RH1, dRH1], ['RH1', 'dRH1'], grader.check('q3.3'))"
   ]
  },
  {
   "cell_type": "markdown",
   "id": "eefac7c9",
   "metadata": {
    "deletable": false,
    "editable": false,
    "tags": []
   },
   "source": [
    "***\n",
    "**<span style=\"color:blue\">Question 3.4</span>** **<span style=\"color:red\">(1 mark)</span>**   \n",
    "\n",
    "Calculate the hydraulic resistance (and its uncertainty) for your second tube.\n",
    "\n",
    "*** Please do not change any of the variable names in the cell below ***"
   ]
  },
  {
   "cell_type": "code",
   "execution_count": null,
   "id": "625f4b37",
   "metadata": {
    "tags": []
   },
   "outputs": [],
   "source": [
    "# Tube 2\n",
    "# Calculate the hydraulic resistance.\n",
    "RH2 = ...\n",
    "\n",
    "# Calculate the uncertainty in the hydraulic resistance.\n",
    "# See Question 1.2 for an example of this type of calculation.\n",
    "dRH2 = ...\n",
    "\n",
    "# Display the calculated values.\n",
    "print(f\"For the tube with diameter d = {tube2_diameter:.3e} mm, we found RH2 = ({RH2:.3e} +/- {dRH2:.3e}) kg/m^4s\") "
   ]
  },
  {
   "cell_type": "code",
   "execution_count": null,
   "id": "7ab557e1",
   "metadata": {
    "deletable": false,
    "editable": false
   },
   "outputs": [],
   "source": [
    "PHYS121.graderCheck([RH2, dRH2], ['RH2', 'dRH2'], grader.check('q3.4'))"
   ]
  },
  {
   "cell_type": "markdown",
   "id": "6fe062f0",
   "metadata": {
    "tags": []
   },
   "source": [
    "There are seven different Teflon tube sizes in the lab, but you've only measured two of them.  To get a more complete picture of how $R_\\mathrm{H}$ depends on the inner diameter of the tube, we will collaborate with the rest of the groups in the various lab sections of PHYS 121.\n",
    "\n",
    "A Google Sheets document has been created to facilitate sharing of data.  The document has a tab for each section of the PHYS 121 lab.  When you navigate to the shared document, **please select the tab that corresponds to your lab section**.  Here is the [link to the Google Sheets document](https://docs.google.com/spreadsheets/d/1BCeJboA1V6BY9LYW8Yyb8QwEOUXmWDtQglrZTukf02c/edit?usp=sharing) \n",
    "\n",
    "Before the end of the lab, enter your results from **Question 3.3** and **Question 3.4** into the Google Sheets document.  Enter your data into the row that corresponds to your Group Number.  The Group Number is the same as the number on the computer tower behind your work station.\n",
    "\n",
    "The data collected in this document will be used at the start of next week's lab.  Specifically, you will use the data to investigate how the hydraulic resistance depends on the inner diameter of the Teflon tube.\n",
    "\n",
    "***\n",
    "**<span style=\"color:blue\">Question 3.5</span>** **<span style=\"color:red\">(1 mark)</span>**   \n",
    "\n",
    "My partner (if applicable) and I entered our measured $R_\\mathrm{H}\\pm \\Delta R_\\mathrm{H}$ values in the Google Sheets document.\n",
    "\n",
    "(a) True  \n",
    "(b) False"
   ]
  },
  {
   "cell_type": "markdown",
   "id": "f87b926f",
   "metadata": {
    "deletable": false,
    "editable": false,
    "tags": []
   },
   "source": [
    "***\n",
    "**<span style=\"color:blue\">Answer 3.5:</span>**\n",
    "\n",
    "Replace the ... in the cell below with your answer.  Your answer should be a single character (a, b, T, or F) between single or double quotes.  \n",
    "*** Please do not change anything to the left of the equals sign. ***"
   ]
  },
  {
   "cell_type": "code",
   "execution_count": null,
   "id": "5d12fe48",
   "metadata": {
    "tags": []
   },
   "outputs": [],
   "source": [
    "a3_5 = ..."
   ]
  },
  {
   "cell_type": "code",
   "execution_count": null,
   "id": "a1fb997f",
   "metadata": {
    "deletable": false,
    "editable": false
   },
   "outputs": [],
   "source": [
    "PHYS121.graderCheck([a3_5], ['a3_5'], grader.check('q3.5'))"
   ]
  },
  {
   "cell_type": "markdown",
   "id": "851fd2ab",
   "metadata": {
    "deletable": false,
    "editable": false,
    "tags": []
   },
   "source": [
    "# <div style=\"background-color:rgba(255, 204, 255, 0.5); text-align:center; vertical-align: middle; padding:40px 0; margin-top:30px\"><span style=\"color:rgba(102, 0, 204, 1);\">Part 4 - Reflection and statement of contributions (20 minutes)</span></div>"
   ]
  },
  {
   "cell_type": "markdown",
   "id": "c1e676c9",
   "metadata": {
    "deletable": false,
    "editable": false,
    "tags": []
   },
   "source": [
    "<!-- BEGIN QUESTION -->\n",
    "\n",
    "Questions 4.1 is used to reflect on the learning objectives stated at beginning of the notebook. \n",
    "***\n",
    "**<span style=\"color:blue\">Question 4.1</span>** **<span style=\"color:red\">(1 mark)</span>**   \n",
    "\n",
    "In a few short sentences, describe at least one new insight about electrical circuits that you came to appreciate after working with and thinking about hydraulic circuits."
   ]
  },
  {
   "cell_type": "markdown",
   "id": "3de00c77",
   "metadata": {},
   "source": [
    "***\n",
    "**<span style=\"color:blue\">Answer 4.1:</span>**\n",
    "\n",
    "[//]: # (Please do not delete this comment or anything above it.  Anything below this comment can be deleted.)  \n",
    "\n",
    "Double click this cell and enter your text here.  When done, hit 'Shift' + 'Enter' to execute the cell.  You may delete this text when entering your answer. "
   ]
  },
  {
   "cell_type": "markdown",
   "id": "62d416af",
   "metadata": {
    "deletable": false,
    "editable": false,
    "tags": []
   },
   "source": [
    "<!-- END QUESTION -->\n",
    "\n",
    "***\n",
    "Below, you will briefly summarize the contributions that you and your partner made when completely this lab.  Please ensure that both partners have a chance to engage in all types of lab activities (developing the experimental methods/data collection strategies, hands-on interaction with the apparatus/data collection, and data processing/analysis in the Jupyter notebook).  Note that statements of contributions are common in science.  The figure below shows one example taken from a 2021 paper published in the journal *Nature Physics*.\n",
    "\n",
    "<p>\n",
    "<center>\n",
    "<img src=\"https://raw.githubusercontent.com/UBC-Okanagan-Physics-Labs/PHYS-121-images/main/general/images/contributions.jpg\" alt=\"image info\" style=\"width: 60%; height: auto;\" /><br>\n",
    "<b>Fig. 2: A sample statement of author contributions from a recent journal article.</b></center>\n",
    "</p>\n"
   ]
  },
  {
   "cell_type": "markdown",
   "id": "2fa7db87",
   "metadata": {
    "deletable": false,
    "editable": false,
    "tags": []
   },
   "source": [
    "<!-- BEGIN QUESTION -->\n",
    "\n",
    "***\n",
    "**<span style=\"color:blue\">Question 4.2(a):</span>**  \n",
    "\n",
    "Answer this question only if you worked with a partner to complete this lab.\n",
    "\n",
    "In two or three sentences describe the specific contributions of **Partner A** to this lab.  For example, worked with the experimental apparatus to collect data for Part 1 of the lab, entered and processed the data in the Jupyter notebook for Part 2 of the lab, ...  "
   ]
  },
  {
   "cell_type": "markdown",
   "id": "37084a95",
   "metadata": {},
   "source": [
    "***\n",
    "**<span style=\"color:blue\">Answer 4.2(a):</span>**\n",
    "\n",
    "[//]: # (Please do not delete this comment or anything above it.  Anything below this comment can be deleted.)  \n",
    "\n",
    "Double click this cell and enter your text here.  Please start be entering the name and student number of **Partner A**.  When done, hit 'Shift' + 'Enter' to execute the cell.  You may delete this text when entering your answer. "
   ]
  },
  {
   "cell_type": "markdown",
   "id": "7f6b1e85",
   "metadata": {
    "deletable": false,
    "editable": false,
    "tags": []
   },
   "source": [
    "<!-- END QUESTION -->\n",
    "\n",
    "<!-- BEGIN QUESTION -->\n",
    "\n",
    "***\n",
    "**<span style=\"color:blue\">Question 4.2(b):</span>**  \n",
    "\n",
    "Answer this question only if you worked with a partner to complete this lab.\n",
    "\n",
    "In two or three sentences describe the specific contributions of **Partner B** to this lab.  "
   ]
  },
  {
   "cell_type": "markdown",
   "id": "86c306fe",
   "metadata": {},
   "source": [
    "***\n",
    "**<span style=\"color:blue\">Answer 4.2(b):</span>**\n",
    "\n",
    "[//]: # (Please do not delete this comment or anything above it.  Anything below this comment can be deleted.)  \n",
    "\n",
    "Double click this cell and enter your text here.  Please start be entering the name and student number of **Partner B**.  When done, hit 'Shift' + 'Enter' to execute the cell.  You may delete this text when entering your answer. "
   ]
  },
  {
   "cell_type": "markdown",
   "id": "cfff9521",
   "metadata": {
    "deletable": false,
    "editable": false,
    "tags": []
   },
   "source": [
    "<!-- END QUESTION -->\n",
    "\n",
    "# <div style=\"background-color:rgba(255, 204, 255, 0.5); text-align:center; vertical-align: middle; padding:40px 0; margin-top:30px\"><span style=\"color:rgba(102, 0, 204, 1);\">Part 5 - Submission (5 minutes)</span></div>"
   ]
  },
  {
   "cell_type": "markdown",
   "id": "df7004a4",
   "metadata": {
    "deletable": false,
    "editable": false,
    "tags": []
   },
   "source": [
    "<!-- BEGIN QUESTION -->\n",
    "\n",
    "***\n",
    "**<span style=\"color:blue\">Question 5.1:</span>**  \n",
    "\n",
    "We welcome your feedback on the PHYS 121 labs!  Please feel free to include any comments you have about this lab in the cell below.  Your comments will be taken into consideration when revising/improving the PHYS 121 labs.  You can suggest improvements, point out anything that was unclear, comment on the strengths and weaknesses of the lab, ...\n",
    "\n",
    "This question is optional and will have no impact on your lab grade."
   ]
  },
  {
   "cell_type": "markdown",
   "id": "7b8a1068",
   "metadata": {},
   "source": [
    "***\n",
    "**<span style=\"color:blue\">Answer 5.1:</span>**\n",
    "\n",
    "[//]: # (Please do not delete this comment or anything above it.  Anything below this comment can be deleted.)  \n",
    "\n",
    "Double click this cell and enter your text here.  When done, hit 'Shift' + 'Enter' to execute the cell.  You may delete this text when entering your answer. "
   ]
  },
  {
   "cell_type": "markdown",
   "id": "0f834fc5",
   "metadata": {},
   "source": [
    "<!-- END QUESTION -->\n",
    "\n",
    "***\n",
    "Once you've completed this notebook:\n",
    "- Save your work.\n",
    "- Run 'grader.check_all()' to confirm that you've completed all required tasks.\n",
    "- Run 'grader.export()' to generate a .zip file containing all of the materials that you will submit.\n",
    "- Download the generated .zip file.\n",
    "- Upload the .zip file to the PHYS 121 Canvas gradebook.\n",
    "- **Do NOT change the number of the .zip file.**\n",
    "- **Do NOT modify the contents of the .zip file.**\n",
    "\n",
    "Here is a <a href = \"https://raw.githubusercontent.com/UBC-Okanagan-Physics-Labs/PHYS-121-images/main/general/gifs/Submission.gif\">GIF</a> showing how these steps are completed.  Once your completed notebook has been uploaded to the Canvas gradebook, you're done!"
   ]
  },
  {
   "cell_type": "markdown",
   "id": "f48021a2",
   "metadata": {
    "deletable": false,
    "editable": false,
    "tags": []
   },
   "source": [
    "---\n",
    "\n",
    "To double-check your work, the cell below will rerun all of the autograder tests."
   ]
  },
  {
   "cell_type": "code",
   "execution_count": null,
   "id": "96793b06",
   "metadata": {
    "deletable": false,
    "editable": false,
    "tags": []
   },
   "outputs": [],
   "source": [
    "grader.check_all()"
   ]
  },
  {
   "cell_type": "markdown",
   "id": "4f362cfa",
   "metadata": {
    "deletable": false,
    "editable": false,
    "tags": []
   },
   "source": [
    "## Submission\n",
    "\n",
    "Make sure you have run all cells in your notebook in order before running the cell below, so that all images/graphs appear in the output. The cell below will generate a zip file for you to submit. **Please save before exporting!**"
   ]
  },
  {
   "cell_type": "code",
   "execution_count": null,
   "id": "ea8274bb",
   "metadata": {
    "deletable": false,
    "editable": false,
    "tags": []
   },
   "outputs": [],
   "source": [
    "# Save your notebook first, then run this cell to export your submission.\n",
    "grader.export(files = ['PHYS121_DataLogger.txt'])"
   ]
  },
  {
   "cell_type": "markdown",
   "id": "867574d1",
   "metadata": {
    "deletable": false,
    "editable": false,
    "tags": []
   },
   "source": [
    "# <div style=\"background-color:rgba(255, 204, 255, 0.5); text-align:center; vertical-align: middle; padding:40px 0; margin-top:30px\"><span style=\"color:rgba(102, 0, 204, 1);\">Part 6 - Playground (optional)</span></div>\n",
    "\n",
    "Feel free to add as many cells as you like below and use them as a playground for further independent investigations.  These cells won't be graded, so feel free to use them in any way that you like.  "
   ]
  },
  {
   "cell_type": "code",
   "execution_count": null,
   "id": "2585dd03",
   "metadata": {},
   "outputs": [],
   "source": [
    "# Here's an empty code cell that you can use.  "
   ]
  },
  {
   "cell_type": "code",
   "execution_count": null,
   "id": "641ff7b2",
   "metadata": {},
   "outputs": [],
   "source": [
    "# Here's another empty code cell that you can use."
   ]
  },
  {
   "cell_type": "code",
   "execution_count": null,
   "id": "a15cee16",
   "metadata": {},
   "outputs": [],
   "source": [
    "# Here's yet another empty code cell that you can use.  \n",
    "# If you need more, you can add cells using the '+' icon in the menu bar at to the top of the screen."
   ]
  },
  {
   "cell_type": "markdown",
   "id": "fa988ab7",
   "metadata": {
    "deletable": false,
    "editable": false,
    "tags": []
   },
   "source": [
    "### <div style=\"background-color:rgba(255, 255, 102, 0.5); text-align:left; padding:20px 0; margin-top:20px\">$\\quad$Appendix A &ndash; The Scatter Function...</div>\n",
    "\n",
    "The function for generating scatter plots is called as follows:\n",
    "```python\n",
    "Scatter(xData, yData, yErrors = [], xlabel = 'x-axis', ylabel = 'y-axis', xUnits = '', yUnits = '', fill = False, show = True)\n",
    "```\n",
    "The 'xData' and 'yData' inputs are required, all other arguments are optional with default values set.  The function returns the a single output (the formatted plot):\n",
    "```python\n",
    "fig\n",
    "```\n",
    "\n",
    "The function will do a simple scatter plot if no 'yError' are included.  It will included error bars if 'yErrors' are passed to the function.  The 'fill' and 'show' arguments should generally be false.  \n",
    "\n",
    "If the 'xData' list is empty, as in:\n",
    "```python\n",
    "xData = []\n",
    "```\n",
    "then the x-axis will be the trial number.  For example, is 'xData' is empty and 'yData' has 10 elements, the x-axis will span 1 to 10.\n",
    "\n",
    "### Scatter Example Implmentation\n",
    "The code block below shows an implementation of 'Scatter'.\n",
    "```python\n",
    "import PHYS121\n",
    "theta = [10, 20, 30] # degrees\n",
    "T = [2.02, 1.95, 2.13] # s\n",
    "errT = [0.02, 0.02, 0.03] # s\n",
    "fig = PHYS121.Scatter(theta, T, errT, 'initial angle' , 'period', 'degrees', 's')\n",
    "```\n",
    "\n",
    "If you're interested in generating your own plots with customized formatting, see the following Python-based plotting tutorial: https://cmps-people.ok.ubc.ca/jbobowsk/Python/html/Jupyter%20Basic%20Plots.html.\n",
    "***"
   ]
  },
  {
   "cell_type": "markdown",
   "id": "57a3e31a",
   "metadata": {
    "deletable": false,
    "editable": false,
    "tags": []
   },
   "source": [
    "### <div style=\"background-color:rgba(255, 255, 102, 0.5); text-align:left; padding:20px 0; margin-top:20px\">$\\quad$Appendix B &ndash; The PowerLaw Function...</div>\n",
    "\n",
    "The power law function fits data to a function of the form $y=A\\,x^N + C$ and is called as follows:\n",
    "```python\n",
    "PowerLaw(xData, yData, yErrors = [], xlabel = 'x-axis', ylabel = 'y-axis', xUnits = '', yUnits = '')\n",
    "```\n",
    "The xData and yData lists are required.  The others are optional with default values set.  The function returns the following outputs:\n",
    "```python\n",
    "A, N, C, errA, errN, errC, fig\n",
    "```\n",
    "The first six outputs are numerical values and 'fig' is the formatted plot. \n",
    "\n",
    "If $y$-uncertainties are provided, the function will perform a weighted fit.  The $y$-uncertainties list must be the same length as $x$- and $y$-data lists.  If $y$-uncertainties are not provided, the fit will be unweighted.  The other optional arguments include $x$- and $y$-axis names and units for the $x$- and $y$-datasets.  These must be entered as strings (enclosed in quotations) and they are used for formatting the outputs of the function.\n",
    "\n",
    "### Unweighted Fit Example Implmentation\n",
    "The code block below shows the most basic use of 'PowerLaw' for an unweighted fit without any of the optional arguments.\n",
    "```python\n",
    "import PHYS121\n",
    "x = [1, 2, 3, 4]\n",
    "y = [1.1, 3.9, 8.7, 16.5]\n",
    "A, N, C, dA, dN, dC, fig = PHYS121.PowerLaw(x, y)\n",
    "```\n",
    "\n",
    "### Weighted Fit Example Implmentation\n",
    "This second blcok of code shows how to use 'PowerLaw' to do a weighted fit.  It also makes use of all of the other optional arguments.  \n",
    "```python\n",
    "import PHYS121\n",
    "x = [1, 2, 3, 4]\n",
    "y = [1.1, 3.9, 8.7, 16.5]\n",
    "erry = [0.05, 0.12, 0.20, 0.5]\n",
    "A, N, C, dA, dN, dC, fig = PHYS121.PowerLaw(x, y, erry, 'x' , 'y', 's', 'm')\n",
    "```\n",
    "\n",
    "The 'A, N, C, dA, dN, dC, fig = ...' syntax is used to store the function outputs in variables.\n",
    "***"
   ]
  },
  {
   "cell_type": "markdown",
   "id": "d9d52845",
   "metadata": {
    "deletable": false,
    "editable": false,
    "tags": []
   },
   "source": [
    "### <div style=\"background-color:rgba(255, 255, 102, 0.5); text-align:left; padding:20px 0; margin-top:20px\">$\\quad$Appendix C &ndash; The LinearFit Function...</div>\n",
    "\n",
    "The linear-fit function is called as follows:\n",
    "```python\n",
    "LinearFit(xData, yData, yErrors = [], xlabel = 'x-axis', ylabel = 'y-axis', xUnits = '', yUnits = '', fill = False)\n",
    "```\n",
    "The xData and yData lists are required.  The others are optional with default values set.  The function returns the following outputs:\n",
    "```python\n",
    "Slope, Yintercept, errSlope, errYintercept, fig\n",
    "```\n",
    "The first four outputs are numerical values and 'fig' is the formatted plot. \n",
    "\n",
    "If $y$-uncertainities are provided, the function will perform a weighted fit.  The $y$-uncertainties list must be the same length as $x$- and $y$-data lists.  If $y$-uncertainties are not provided, the fit will be unweighted.  The other optional arguments include $x$- and $y$-axis names and units for the $x$- and $y$-datasets.  These must be entered as strings (enclosed in quotations) and they are used for formatting the outputs of the function.  If 'fill' is set to True, shading will be added around the best-fit line representing confindence intervals. \n",
    "\n",
    "### Unweighted Fit Example Implmentation\n",
    "The code block below shows the most basic use of 'LinearFit' for an unweighted fit without any of the optional arguments.\n",
    "```python\n",
    "import PHYS121\n",
    "V = [1, 2, 3, 4]\n",
    "I = [0.12, 0.198, 0.285, 0.412]\n",
    "m, b, dm, db, fig = PHYS121.LinearFit(V, I)\n",
    "```\n",
    "\n",
    "### Weighted Fit Example Implmentation\n",
    "This second blcok of code shows how to use 'LinearFit' to do a weighted fit.  It also makes use of all of the other optional arguments.  \n",
    "```python\n",
    "import PHYS121\n",
    "V = [1, 2, 3, 4]\n",
    "I = [0.12, 0.198, 0.285, 0.412]\n",
    "errI = [0.005, 0.012, 0.020, 0.025]\n",
    "m, b, dm, db, fig = PHYS121.LinearFit(V, I, errI, 'voltage' , 'current', 'V', 'A', True)\n",
    "```\n",
    "\n",
    "The 'm, b, dm, db, fig = ...' syntax is used to store the function outputs in varibles.  If you're interested in details of the fitting process, see the following Python-based tutorial: https://cmps-people.ok.ubc.ca/jbobowsk/Python/html/Jupyter%20Weighted%20Linear%20Fit.html\n",
    "***"
   ]
  },
  {
   "cell_type": "markdown",
   "id": "3dbb9054",
   "metadata": {
    "deletable": false,
    "editable": false,
    "tags": []
   },
   "source": [
    "<img src=\"https://raw.githubusercontent.com/UBC-Okanagan-Physics-Labs/PHYS-121-images/main/general/images/ubc-logo-full.jpg\" width=\"500\"/>"
   ]
  },
  {
   "cell_type": "markdown",
   "id": "cd058295",
   "metadata": {},
   "source": [
    "Last update: February 20, 2024"
   ]
  }
 ],
 "metadata": {
  "kernelspec": {
   "display_name": "Python 3 (ipykernel)",
   "language": "python",
   "name": "python3"
  },
  "language_info": {
   "codemirror_mode": {
    "name": "ipython",
    "version": 3
   },
   "file_extension": ".py",
   "mimetype": "text/x-python",
   "name": "python",
   "nbconvert_exporter": "python",
   "pygments_lexer": "ipython3",
   "version": "3.10.6"
  },
  "otter": {
   "OK_FORMAT": true,
   "tests": {
    "name_and_student_number": {
     "name": "name_and_student_number",
     "points": null,
     "suites": [
      {
       "cases": [
        {
         "code": ">>> isinstance(last_name_1, str)\nTrue",
         "failure_message": "last_name_1 must be a string (i.e. surround your answer by either single or double quotes).",
         "hidden": false,
         "locked": false,
         "points": 0
        },
        {
         "code": ">>> isinstance(first_name_1, str)\nTrue",
         "failure_message": "first_name_1 must be a string (i.e. surround your answer by either single or double quotes).",
         "hidden": false,
         "locked": false,
         "points": 0
        },
        {
         "code": ">>> isinstance(student_number_1, str)\nTrue",
         "failure_message": "student_number_1 must be a string (i.e. surround your answer by either single or double quotes).",
         "hidden": false,
         "locked": false,
         "points": 0
        },
        {
         "code": ">>> test = True\n>>> if isinstance(student_number_1, str):\n...     test = len(student_number_1) == 8\n>>> test\nTrue",
         "failure_message": "student_number_1 must be a string of exactly 8 characters.",
         "hidden": false,
         "locked": false,
         "points": 0
        },
        {
         "code": ">>> test = True\n>>> if isinstance(student_number_1, str):\n...     test = student_number_1.isdigit()\n>>> test\nTrue",
         "failure_message": "student_number_1 must contain only interger digits (0, 1, 2, 3, ..., 9)",
         "hidden": false,
         "locked": false,
         "points": 0.5
        },
        {
         "code": ">>> isinstance(last_name_2, str) or last_name_2 == ...\nTrue",
         "failure_message": "last_name_2 must be a string (i.e. surround your answer by either single or double quotes).",
         "hidden": false,
         "locked": false,
         "points": 0
        },
        {
         "code": ">>> isinstance(first_name_2, str) or first_name_2 == ...\nTrue",
         "failure_message": "first_name_2 must be a string (i.e. surround your answer by either single or double quotes).",
         "hidden": false,
         "locked": false,
         "points": 0
        },
        {
         "code": ">>> isinstance(student_number_2, str) or student_number_2 == ...\nTrue",
         "failure_message": "student_number_2 must be a string (i.e. surround your answer by either single or double quotes).",
         "hidden": false,
         "locked": false,
         "points": 0
        },
        {
         "code": ">>> test = True\n>>> if isinstance(student_number_2, str):\n...     test = len(student_number_2) == 8\n>>> test\nTrue",
         "failure_message": "student_number_2 must be a string of exactly 8 characters or be left as ...",
         "hidden": false,
         "locked": false,
         "points": 0
        },
        {
         "code": ">>> test = True\n>>> if isinstance(student_number_2, str):\n...     test = student_number_2.isdigit()\n>>> test\nTrue",
         "failure_message": "student_number_2 must contain only interger digits (0, 1, 2, 3, ..., 9) or be left as ...",
         "hidden": false,
         "locked": false,
         "points": 0.5
        }
       ],
       "scored": true,
       "setup": "",
       "teardown": "",
       "type": "doctest"
      }
     ]
    },
    "q1.1": {
     "name": "q1.1",
     "points": null,
     "suites": [
      {
       "cases": [
        {
         "code": ">>> len(data[\"d\"]) == 8 and len(data[\"V\"]) == 8 and len(data[\"dV\"]) == 8 and len(data[\"I\"]) == 8 and len(data[\"dI\"]) == 8\nTrue",
         "failure_message": "Make sure you have 8 entries for each columm in the 'data' variable (data[\"d\"], data[\"V\"], data[\"dV\"], data[\"I\"] and data[\"dI\"]).",
         "hidden": false,
         "locked": false,
         "points": 0
        }
       ],
       "scored": true,
       "setup": "",
       "teardown": "",
       "type": "doctest"
      }
     ]
    },
    "q1.2": {
     "name": "q1.2",
     "points": null,
     "suites": [
      {
       "cases": [
        {
         "code": ">>> type(data[\"R\"]) == pd.core.series.Series\nTrue",
         "failure_message": "Make sure you use save your data in the existing 'data' DataFrame using the 'R' label for the column.",
         "hidden": false,
         "locked": false,
         "points": 0
        },
        {
         "code": ">>> len(data[\"R\"]) == 8\nTrue",
         "failure_message": "You should have 8 data points inside data[\"R\"] - one for each wire diameter. Use two of the existing columns to calculate your data[\"R\"] values.",
         "hidden": false,
         "locked": false,
         "points": 0
        },
        {
         "code": ">>> all(np.isclose(data[\"R\"], data[\"V\"]/data[\"I\"]))\nTrue",
         "failure_message": "To calculate the resistance, take the voltage column and divide it by the current column.",
         "hidden": false,
         "locked": false,
         "points": 1
        }
       ],
       "scored": true,
       "setup": "",
       "teardown": "",
       "type": "doctest"
      }
     ]
    },
    "q1.5": {
     "name": "q1.5",
     "points": null,
     "suites": [
      {
       "cases": [
        {
         "code": ">>> a1_5.lower() in [\"a\", \"b\", \"c\", \"d\", \"e\", \"f\", \"g\", \"h\", \"i\"]\nTrue",
         "failure_message": "Your answer must be a string of one of 'a', 'b', 'c', 'd', 'e', 'f', 'g', 'h', or 'i'.",
         "hidden": false,
         "locked": false,
         "points": 0
        }
       ],
       "scored": true,
       "setup": "",
       "teardown": "",
       "type": "doctest"
      }
     ]
    },
    "q2.1": {
     "name": "q2.1",
     "points": null,
     "suites": [
      {
       "cases": [
        {
         "code": ">>> tube1_diameter in [0.965, 1.397, 1.676, 1.930, 2.413]\nTrue",
         "failure_message": "Enter your tube diameter in units of millimeters.  It must be one of 0.965, 1.397, 1.676, 1.930, or 2.413 mm",
         "hidden": false,
         "locked": false,
         "points": 0
        },
        {
         "code": ">>> len(tube1[\"time\"]) >= 12 and len(tube1[\"mass\"]) >= 12 \nTrue",
         "failure_message": "You must collect at least 12 data points.",
         "hidden": false,
         "locked": false,
         "points": 0
        },
        {
         "code": ">>> len(tube1[\"time\"]) == len(tube1[\"mass\"])\nTrue",
         "failure_message": "Your time and mass columns must have the same number of entries.",
         "hidden": false,
         "locked": false,
         "points": 0
        }
       ],
       "scored": true,
       "setup": "",
       "teardown": "",
       "type": "doctest"
      }
     ]
    },
    "q2.10": {
     "name": "q2.10",
     "points": null,
     "suites": [
      {
       "cases": [
        {
         "code": ">>> np.isclose(Q2, m2)\nTrue",
         "failure_message": "Check the fit paramaters from your LinearFit() function and make sure you are using the right one for Q2.",
         "hidden": false,
         "locked": false,
         "points": 0.5
        },
        {
         "code": ">>> np.isclose(dQ2, dm2)\nTrue",
         "failure_message": "Check the fit paramaters from your LinearFit() function and make sure you are using the right one for dQ2.",
         "hidden": false,
         "locked": false,
         "points": 0.5
        }
       ],
       "scored": true,
       "setup": "",
       "teardown": "",
       "type": "doctest"
      }
     ]
    },
    "q2.2": {
     "name": "q2.2",
     "points": null,
     "suites": [
      {
       "cases": [
        {
         "code": ">>> all(np.isclose(tube1[\"volume\"], tube1[\"mass\"]/(9.98e5)))\nTrue",
         "failure_message": "Check your units! Make sure you are converting to volume in cubic metres.",
         "hidden": false,
         "locked": false
        }
       ],
       "scored": true,
       "setup": "",
       "teardown": "",
       "type": "doctest"
      }
     ]
    },
    "q2.5": {
     "name": "q2.5",
     "points": null,
     "suites": [
      {
       "cases": [
        {
         "code": ">>> np.isclose(Q1, m1)\nTrue",
         "failure_message": "Check the fit paramaters from your LinearFit() function and make sure you are using the right one for Q1.",
         "hidden": false,
         "locked": false,
         "points": 0.5
        },
        {
         "code": ">>> np.isclose(dQ1, dm1)\nTrue",
         "failure_message": "Check the fit paramaters from your LinearFit() function and make sure you are using the right one for dQ1.",
         "hidden": false,
         "locked": false,
         "points": 0.5
        }
       ],
       "scored": true,
       "setup": "",
       "teardown": "",
       "type": "doctest"
      }
     ]
    },
    "q2.6": {
     "name": "q2.6",
     "points": null,
     "suites": [
      {
       "cases": [
        {
         "code": ">>> tube2_diameter in [0.965, 1.397, 1.676, 1.930, 2.413]\nTrue",
         "failure_message": "Enter your tube diameter in units of millimeters.  It must be one of 0.965, 1.397, 1.676, 1.930, or 2.413 mm",
         "hidden": false,
         "locked": false,
         "points": 0
        },
        {
         "code": ">>> len(tube2[\"time\"]) >= 12 and len(tube2[\"mass\"]) >= 12 \nTrue",
         "failure_message": "You must collect at least 12 data points.",
         "hidden": false,
         "locked": false,
         "points": 0
        },
        {
         "code": ">>> len(tube2[\"time\"]) == len(tube2[\"mass\"])\nTrue",
         "failure_message": "Your time and mass columns must have the same number of entries.",
         "hidden": false,
         "locked": false,
         "points": 0
        }
       ],
       "scored": true,
       "setup": "",
       "teardown": "",
       "type": "doctest"
      }
     ]
    },
    "q2.7": {
     "name": "q2.7",
     "points": null,
     "suites": [
      {
       "cases": [
        {
         "code": ">>> all(np.isclose(tube2[\"volume\"], tube2[\"mass\"]/(9.98e5)))\nTrue",
         "failure_message": "Check your units! Make sure you are converting to volume in cubic metres. You should be able to use the same method as for tube 1.",
         "hidden": false,
         "locked": false
        }
       ],
       "scored": true,
       "setup": "",
       "teardown": "",
       "type": "doctest"
      }
     ]
    },
    "q3.1": {
     "name": "q3.1",
     "points": null,
     "suites": [
      {
       "cases": [
        {
         "code": ">>> h > 0.08 and h < 0.2\nTrue",
         "failure_message": "Make sure you enter the height h and its uncertainty dh in units of meters.",
         "hidden": false,
         "locked": false,
         "points": 0.5
        }
       ],
       "scored": true,
       "setup": "",
       "teardown": "",
       "type": "doctest"
      }
     ]
    },
    "q3.2": {
     "name": "q3.2",
     "points": null,
     "suites": [
      {
       "cases": [
        {
         "code": ">>> np.isclose(dP, P*dh/h)\nTrue",
         "failure_message": "Double check your units and calculation for dP.",
         "hidden": false,
         "locked": false
        }
       ],
       "scored": true,
       "setup": "",
       "teardown": "",
       "type": "doctest"
      }
     ]
    },
    "q3.3": {
     "name": "q3.3",
     "points": null,
     "suites": [
      {
       "cases": [
        {
         "code": ">>> np.isclose(RH1, P/Q1)\nTrue",
         "failure_message": "Double check your units and calculation for RH1.",
         "hidden": false,
         "locked": false,
         "points": 0.5
        },
        {
         "code": ">>> np.isclose(dRH1, RH1*(dP/P + dQ1/Q1))\nTrue",
         "failure_message": "Double check your units and calculation for dRH1.",
         "hidden": false,
         "locked": false,
         "points": 0.5
        }
       ],
       "scored": true,
       "setup": "",
       "teardown": "",
       "type": "doctest"
      }
     ]
    },
    "q3.4": {
     "name": "q3.4",
     "points": null,
     "suites": [
      {
       "cases": [
        {
         "code": ">>> np.isclose(RH2, P/Q2)\nTrue",
         "failure_message": "Double check your units and calculation for RH2.",
         "hidden": false,
         "locked": false,
         "points": 0.5
        },
        {
         "code": ">>> np.isclose(dRH2, RH2*(dP/P + dQ2/Q2))\nTrue",
         "failure_message": "Double check your units and calculation for dRH2.",
         "hidden": false,
         "locked": false,
         "points": 0.5
        }
       ],
       "scored": true,
       "setup": "",
       "teardown": "",
       "type": "doctest"
      }
     ]
    },
    "q3.5": {
     "name": "q3.5",
     "points": null,
     "suites": [
      {
       "cases": [
        {
         "code": ">>> a3_5.lower() in [\"a\", \"b\", \"t\", \"f\"]\nTrue",
         "failure_message": "Your answer must be a string of one of 'a', 'b', 'T', or 'F'.",
         "hidden": false,
         "locked": false,
         "points": 0
        }
       ],
       "scored": true,
       "setup": "",
       "teardown": "",
       "type": "doctest"
      }
     ]
    }
   }
  },
  "vscode": {
   "interpreter": {
    "hash": "a3448a62a2fc6ba7415a3df2d7b3c301caefdbc41be54965de5a6d7c0b59d384"
   }
  }
 },
 "nbformat": 4,
 "nbformat_minor": 5
}
