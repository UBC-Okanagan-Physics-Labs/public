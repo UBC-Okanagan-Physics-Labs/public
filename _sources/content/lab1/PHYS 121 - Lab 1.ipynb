{
 "cells": [
  {
   "cell_type": "markdown",
   "id": "dd6f7169",
   "metadata": {
    "deletable": false,
    "editable": false,
    "tags": []
   },
   "source": [
    "# <div style=\"background-color:rgba(204, 229, 255, 0.5); text-align:center; vertical-align: middle; padding:40px 0; margin-top:30px\"><span style=\"color:rgba(0, 76, 153, 1);\">**PHYS 121 Lab #1**<span style=\"color:red\"> $\\to$ (22 possible marks)</span> </span></div> \n",
    "\n",
    "<font size =\"4\"><span style=\"color:purple\">We recommend that you complete this notebook using either the [Google Chrome](https://www.google.com/intl/en_ca/chrome/) or [Mozilla Firefox](https://www.mozilla.org/en-CA/firefox/new/) browser.  Chrome and Firefox are both available for Windows, Mac, and Linux operating systems.  The PHYS 121 Jupyter notebooks should work in other browsers, but we have specifically verfied that they work well in both Chrome and Firefox.</span></font>\n",
    "\n",
    "# Oscillations of a Simple Pendulum &ndash; Week 1"
   ]
  },
  {
   "cell_type": "markdown",
   "id": "11fc66e8",
   "metadata": {
    "deletable": false,
    "editable": false,
    "tags": []
   },
   "source": [
    "***\n",
    "## Learning Objectives:\n",
    "* <b><span style=\"color:rgba(0, 153, 76, 1);\">Determine what *does* and *does not* affect the width of a distribution of a set of measurements.</span></b>\n",
    "* <b><span style=\"color:rgba(0, 153, 76, 1);\">Determine the uncertainty associated with the *mean* or *average* value of a set of measurements.</span></b>\n",
    "\n",
    "In addition to the specific learning objectives above, two of the overall objectives of the PHYS 121 labs are to show that:\n",
    "* <b>meaningful physics experiments can be designed and built using simple, inexpensive, and accessible equipment.</b>\n",
    "* <b>precision measurements lead to new insights and new physics that would otherwise remain undiscovered.</b>\n",
    "\n",
    "Over the next two weeks, you will have the opportunity to work with a simple yet effective apparatus and to refine your measurement methods to generate a relatively high-precision dataset that uncovers new insights that go beyond the material covered in first-year physics lectures.\n",
    " "
   ]
  },
  {
   "cell_type": "markdown",
   "id": "88dd5bf0",
   "metadata": {
    "deletable": false,
    "editable": false,
    "tags": []
   },
   "source": [
    "***\n",
    "## Autograding:\n",
    "'PHYS121.Installer()' checks to see if some required Python packages/modules are already installed.  If they are, then the function outputs a message saying that its okay to proceed.  If one or more of the packages are missing, the function attempts to install them and then outputs a message that says the user should exectute the PHYS121.Installer() cell a second time.  The second time the installer function is run, it should simply confirm that the required packages are already installed.  \n",
    "\n",
    "If necessary, the user can \"restart the kernel\" start with a fresh notebook in which no cells have been executed.  To restart the kernel, select **Kernel** $\\to$ **Restart Kernel** from the menu options at to the top of the page.  Here is a <a href = \"https://raw.githubusercontent.com/UBC-Okanagan-Physics-Labs/PHYS-121-images/main/general/gifs/restartKernel.gif\">GIF</a> showing how to restart the kernel."
   ]
  },
  {
   "cell_type": "code",
   "execution_count": null,
   "id": "06b24341",
   "metadata": {
    "deletable": false,
    "editable": false,
    "tags": []
   },
   "outputs": [],
   "source": [
    "# Import PHYS121.py and then run the installer function.\n",
    "import PHYS121\n",
    "PHYS121.Installer()"
   ]
  },
  {
   "cell_type": "code",
   "execution_count": null,
   "id": "0078c04d",
   "metadata": {
    "deletable": false,
    "editable": false,
    "tags": []
   },
   "outputs": [],
   "source": [
    "# Initialize Otter\n",
    "import otter\n",
    "grader = otter.Notebook(\"PHYS 121 - Lab 1.ipynb\")"
   ]
  },
  {
   "cell_type": "markdown",
   "id": "2df6d38b",
   "metadata": {
    "deletable": false,
    "editable": false,
    "tags": []
   },
   "source": [
    "***\n",
    "## Import Modules:\n",
    "Execute the cell below to import a number of useful pre-built Python modules that will be used in the PHYS 121 pre-labs and labs."
   ]
  },
  {
   "cell_type": "code",
   "execution_count": null,
   "id": "6c10e9f3",
   "metadata": {},
   "outputs": [],
   "source": [
    "import numpy as np\n",
    "import matplotlib.pyplot as plt\n",
    "from matplotlib.pyplot import cm # used to generate a sequence of colours for plotting\n",
    "import pandas as pd\n",
    "from scipy.optimize import curve_fit\n",
    "from IPython.display import HTML as html_print\n",
    "from IPython.display import display, Markdown, Latex"
   ]
  },
  {
   "cell_type": "markdown",
   "id": "b32b7ec6",
   "metadata": {
    "deletable": false,
    "editable": false,
    "tags": []
   },
   "source": [
    "# <div style=\"background-color:rgba(255, 204, 255, 0.5); text-align:center; vertical-align: middle; padding:40px 0; margin-top:30px\"><span style=\"color:rgba(102, 0, 204, 1);\">Name & Student Number</span></div>  \n",
    "\n",
    "To ensure that both you and your partner receive credit for you lab work, both your name and student number and your partner's name and student number need to appear in the notebooks used during the labs.  In the cells below this text, enter your name and student number and your partner's name and student number as strings (i.e. place your names and student numbers between single or double quotes.\n",
    "\n",
    "Examples of valid entries are:\n",
    "```python\n",
    "last_name_1 = 'Doe'\n",
    "first_name_1 = 'Jane'\n",
    "student_number_1 = '12345678'\n",
    "```\n",
    "and\n",
    "```python\n",
    "last_name_1 = \"Doe\"\n",
    "first_name_1 = \"John\"\n",
    "student_number_1 = \"12345678\"\n",
    "```"
   ]
  },
  {
   "cell_type": "markdown",
   "id": "5e76e3a0",
   "metadata": {
    "deletable": false,
    "editable": false,
    "tags": []
   },
   "source": [
    "<!-- BEGIN QUESTION -->\n",
    "\n",
    "***\n",
    "### **<span style=\"color:blue\">Partner #1</span>** **<span style=\"color:red\">(0.5 marks)</span>** "
   ]
  },
  {
   "cell_type": "code",
   "execution_count": null,
   "id": "0d9ef187",
   "metadata": {
    "tags": []
   },
   "outputs": [],
   "source": [
    "# Enter LAST name of partner 1.  Delete the ... below and type your entry between the single quotes.\n",
    "# Once you've completed your entry, press SHIFT + ENTER to execute the cell.\n",
    "# *** Please do not change anything to the left of the equals sign. ***\n",
    "last_name_1 = ..."
   ]
  },
  {
   "cell_type": "code",
   "execution_count": null,
   "id": "382afad2",
   "metadata": {
    "tags": []
   },
   "outputs": [],
   "source": [
    "# Enter FIRST name of partner 1.  Delete the ... below and type your entry between the single quotes.\n",
    "# Once you've completed your entry, press SHIFT + ENTER to execute the cell.\n",
    "# *** Please do not change anything to the left of the equals sign. ***\n",
    "first_name_1 = ..."
   ]
  },
  {
   "cell_type": "code",
   "execution_count": null,
   "id": "773d25d5",
   "metadata": {
    "tags": []
   },
   "outputs": [],
   "source": [
    "# Enter STUDENT NUMBER of partner 1.  Delete the ... below and type your entry between the single quotes.\n",
    "# Once you've completed your entry, press SHIFT + ENTER to execute the cell.\n",
    "# *** Please do not change anything to the left of the equals sign. ***\n",
    "student_number_1 = ..."
   ]
  },
  {
   "cell_type": "code",
   "execution_count": null,
   "id": "6bd5152c",
   "metadata": {
    "deletable": false,
    "editable": false
   },
   "outputs": [],
   "source": [
    "PHYS121.graderCheck([last_name_1, first_name_1, student_number_1], ['last_name_1', 'first_name_1', 'student_number_1'], grader.check('name_and_student_number_1'))"
   ]
  },
  {
   "cell_type": "markdown",
   "id": "e342626d",
   "metadata": {
    "deletable": false,
    "editable": false,
    "tags": []
   },
   "source": [
    "<!-- END QUESTION -->\n",
    "\n",
    "<!-- BEGIN QUESTION -->\n",
    "\n",
    "***\n",
    "### **<span style=\"color:blue\">Partner #2</span>** **<span style=\"color:red\">(0.5 marks)</span>** \n",
    "If you are working on your own, leave all of last_name_2, first_name_2, and student_number_2 as ...  Please still exectute these cells and then run the 'grader.check(\"name_and_student_number_2\")' cell."
   ]
  },
  {
   "cell_type": "code",
   "execution_count": null,
   "id": "bbd759c1",
   "metadata": {
    "tags": []
   },
   "outputs": [],
   "source": [
    "# Enter LAST name of partner 2.  Delete the ... below and type your entry between the single quotes.\n",
    "# Once you've completed your entry, press SHIFT + ENTER to execute the cell.\n",
    "# *** Please do not change anything to the left of the equals sign. ***\n",
    "last_name_2 = ..."
   ]
  },
  {
   "cell_type": "code",
   "execution_count": null,
   "id": "7ef057af",
   "metadata": {
    "tags": []
   },
   "outputs": [],
   "source": [
    "# Enter FIRST name of partner 2.  Delete the ... below and type your entry between the single quotes.\n",
    "# Once you've completed your entry, press SHIFT + ENTER to execute the cell.\n",
    "# *** Please do not change anything to the left of the equals sign. ***\n",
    "first_name_2 = ..."
   ]
  },
  {
   "cell_type": "code",
   "execution_count": null,
   "id": "9402f6f5",
   "metadata": {
    "tags": []
   },
   "outputs": [],
   "source": [
    "# Enter STUDENT NUMBER of partner 2.  Delete the ... below and type your entry between the single quotes.\n",
    "# Once you've completed your entry, press SHIFT + ENTER to execute the cell.\n",
    "# *** Please do not change anything to the left of the equals sign. ***\n",
    "student_number_2 = ..."
   ]
  },
  {
   "cell_type": "code",
   "execution_count": null,
   "id": "fb9658a2",
   "metadata": {
    "deletable": false,
    "editable": false
   },
   "outputs": [],
   "source": [
    "PHYS121.graderCheck([last_name_2, first_name_2, student_number_2], ['last_name_2', 'first_name_2', 'student_number_2'], grader.check('name_and_student_number_2'))"
   ]
  },
  {
   "cell_type": "markdown",
   "id": "f2d70952",
   "metadata": {
    "deletable": false,
    "editable": false,
    "tags": []
   },
   "source": [
    "<!-- END QUESTION -->\n",
    "\n",
    "# <div style=\"background-color:rgba(255, 204, 255, 0.5); text-align:center; vertical-align: middle; padding:40px 0; margin-top:30px\"><span style=\"color:rgba(102, 0, 204, 1);\">Introduction</span></div>  \n",
    "\n",
    "In Labs #1 and #2, you will work with the same apparatus which consists of a large protractor for measuring angles and a mass suspended from a string.  The free end of the string (i.e. the end not attached to the mass) is anchored to the origin of the protractor.  The figure below shows a schematic of the basic experimental setup.\n",
    "\n",
    "<p>\n",
    "<center>\n",
    "<img src=\"https://raw.githubusercontent.com/UBC-Okanagan-Physics-Labs/PHYS-121-images/main/Lab-1/images/pendulum_schematic.png\" alt=\"image info\" style=\"width: 35%; height: auto;\" /><br>\n",
    "<b>Fig. 1: A simple pendulum suspended from the origin of a protractor.</b></center>\n",
    "</p>\n",
    "\n",
    "A standard textbook analysis of the free-body diagram of the pendulum bob predicts that the period of oscillation $T$ is given by:\n",
    "\\begin{align}\n",
    "T = 2\\pi\\sqrt{\\dfrac{\\ell}{g}},\n",
    "\\label{eq:period} \\tag{1}\n",
    "\\end{align}\n",
    "where $\\ell$ is the length of the string and $g=9.81\\rm\\ m/s^2$ is the gravitational acceleration.  Notice that, according to Eq. $(1)$, the period depends on neither the mass $m$ of the pendulum bob nor the amplitude of the oscillations."
   ]
  },
  {
   "cell_type": "markdown",
   "id": "fd236875",
   "metadata": {
    "deletable": false,
    "editable": false,
    "tags": []
   },
   "source": [
    "# <div style=\"background-color:rgba(255, 204, 255, 0.5); text-align:center; vertical-align: middle; padding:40px 0; margin-top:30px\"><span style=\"color:rgba(102, 0, 204, 1);\">Part 1 - Initial measurement of period versus amplitude (20 minutes)</span></div>\n",
    "\n",
    "In this first part of the lab, you will complete a quick investigation to determine if the pendulum's oscillation period is independent of the amplitude of oscillation as predicted by Eq. $(1)$.  If the pendulum bob is released from rest at an initial angular displacement of $+\\theta_0$, then the oscillation period is the time it takes the pendulum to swing from $+\\theta_0\\to 0\\to -\\theta_0\\to 0\\to +\\theta_0$.  Here, we're using positive angle to denote displacements to the right of vertical and negative angles for displacements to the left of vertical.\n",
    "    \n",
    "Measure the oscillation period for release angles of $\\theta_0 = 5$, $10$, $15$, $20$, $25$, $30$, $35$, $40$, and $45^\\circ$.  Don't worry about making very precise measurements, just make a single measurement of the period for each release angle.  To measure time intervals, you can use the stopwatch provided, a stopwatch on your phone, or an online stopwatch such as: https://vclock.com/stopwatch/#."
   ]
  },
  {
   "cell_type": "markdown",
   "id": "cbfde797",
   "metadata": {
    "deletable": false,
    "editable": false,
    "tags": []
   },
   "source": [
    "The cell below defines an array of oscillation amplitudes measured in degrees."
   ]
  },
  {
   "cell_type": "code",
   "execution_count": null,
   "id": "9b863684",
   "metadata": {
    "deletable": false,
    "editable": false,
    "tags": []
   },
   "outputs": [],
   "source": [
    "# oscillation amplitude in degrees\n",
    "amplitude = np.array([5, 10, 15, 20, 25, 30, 35, 40, 45])"
   ]
  },
  {
   "cell_type": "markdown",
   "id": "a2e8cd40",
   "metadata": {
    "deletable": false,
    "editable": false,
    "tags": []
   },
   "source": [
    "***\n",
    "**<span style=\"color:blue\">Question 1.1</span>** **<span style=\"color:red\">(1 mark)</span>**  \n",
    "\n",
    "Enter you measured periods as an array in the below.  Use the same format that was used above for the amplitude array. \n",
    "\n",
    "*** Please do not change any of the variable names in the cell below ***"
   ]
  },
  {
   "cell_type": "code",
   "execution_count": null,
   "id": "aad6d171",
   "metadata": {
    "tags": []
   },
   "outputs": [],
   "source": [
    "# oscillation period in seconds\n",
    "period = ..."
   ]
  },
  {
   "cell_type": "code",
   "execution_count": null,
   "id": "37f3c3fb",
   "metadata": {
    "deletable": false,
    "editable": false
   },
   "outputs": [],
   "source": [
    "PHYS121.graderCheck([period], ['period'], grader.check('q1.1'))"
   ]
  },
  {
   "cell_type": "markdown",
   "id": "09973ce9",
   "metadata": {
    "deletable": false,
    "editable": false,
    "tags": []
   },
   "source": [
    "In PHYS 121, we will use a Python package called [pandas](https://pandas.pydata.org/) to store and manipulate data. The data structures in pandas are called **dataframes**. Dataframes are a lot like spreadsheets - where spreadsheets have column headers and columns, dataframes have lists of data which are assigned labels.\n",
    "\n",
    "Pandas has a lot of functions for inputting data from text or csv (comma-separated value) files. We'll make use of these (and other pandas utilities) in future labs. For now, execute the cell below to display your amplitude and period data in a dataframe."
   ]
  },
  {
   "cell_type": "code",
   "execution_count": null,
   "id": "74accf75",
   "metadata": {},
   "outputs": [],
   "source": [
    "# The lines below assign a dataframe object to the variable df1. \n",
    "df1 = pd.DataFrame({\"Amplitude\": amplitude,\n",
    "                   \"Period\": period})\n",
    "\n",
    "# Display DataFrame\n",
    "df1"
   ]
  },
  {
   "cell_type": "markdown",
   "id": "7ccab937",
   "metadata": {
    "deletable": false,
    "editable": false,
    "tags": []
   },
   "source": [
    "Next, we will use a function called 'Scatter()' to produce a plot of your measured periods as a function of amplitude.  The Scatter() function is contained within the PHYS121.py file.  The following line of code has been provided in the cell below:\n",
    "\n",
    "```python\n",
    "fig1 = PHYS121.Scatter(xData = amplitude, yData = v_period, xlabel = 'Amplitude', ylabel = 'Period', xUnits = 'degrees', yUnits = 'seconds')\n",
    "```\n",
    "\n",
    "Initially, we will provide some example lines of code to introduce the various functions that we'll use to process the data that you collect in the PHYS 121 lab.  As you become familiar with these functions, you will independently make use of the various functions as needed.  For additional information about the 'Scatter' function, see **Appendix A** near the end of this notebook.  "
   ]
  },
  {
   "cell_type": "markdown",
   "id": "01ff6339",
   "metadata": {
    "deletable": false,
    "editable": false,
    "tags": []
   },
   "source": [
    "<!-- BEGIN QUESTION -->\n",
    "\n",
    "***\n",
    "**<span style=\"color:blue\">Question 1.2</span>** **<span style=\"color:red\">(1 mark)</span>**  \n",
    "\n",
    "Execute the cell below to generate the required scatter plot."
   ]
  },
  {
   "cell_type": "code",
   "execution_count": null,
   "id": "30c0e2e7",
   "metadata": {
    "tags": []
   },
   "outputs": [],
   "source": [
    "# The Scatter function accepts \"numpy arrays\" as data input. \n",
    "fig1 = PHYS121.Scatter(xData = df1[\"Amplitude\"], \n",
    "                       yData = df1[\"Period\"], \n",
    "                       xlabel = 'Amplitude', \n",
    "                       ylabel = 'Period', \n",
    "                       xUnits = 'degrees', \n",
    "                       yUnits = 's'\n",
    "                      )"
   ]
  },
  {
   "cell_type": "markdown",
   "id": "7c6053e1",
   "metadata": {
    "deletable": false,
    "editable": false,
    "tags": []
   },
   "source": [
    "<!-- END QUESTION -->\n",
    "\n",
    "<!-- BEGIN QUESTION -->\n",
    "\n",
    "***\n",
    "**<span style=\"color:blue\">Question 1.3</span>** **<span style=\"color:red\">(1 mark)</span>**   \n",
    "\n",
    "Based on the scatter plot above, do your data support the conclusion that the pendulum's period is independent of the oscillation amplitude?  Explain your reasoning in one or two sentences. "
   ]
  },
  {
   "cell_type": "markdown",
   "id": "109e17f7",
   "metadata": {
    "tags": []
   },
   "source": [
    "***\n",
    "**<span style=\"color:blue\">Answer 1.3:</span>**\n",
    "\n",
    "[//]: # (Please do not delete this comment or anything above it.  Anything below this comment can be deleted.)  \n",
    "\n",
    "Double click this cell and enter your text here.  When done, hit 'Shift' + 'Enter' to execute the cell.  You may delete this text when entering your answer. "
   ]
  },
  {
   "cell_type": "markdown",
   "id": "5884d665",
   "metadata": {
    "deletable": false,
    "editable": false,
    "tags": []
   },
   "source": [
    "<!-- END QUESTION -->\n",
    "\n",
    "# <div style=\"background-color:rgba(255, 204, 255, 0.5); text-align:center; vertical-align: middle; padding:40px 0; margin-top:30px\"><span style=\"color:rgba(102, 0, 204, 1);\">Part 2 - Repeated measurement of the period at a fixed amplitude (25 minutes)</span></div>\n",
    "\n",
    "For this part of the lab, you will measure the period of oscillation at a fixed release angle of $\\theta_0 = 20^\\circ$ at least $30$ times.  Again, this should be a quick set of measurements.  Use the same technique you used in **Part 1** of the lab to measure the period of oscillation.\n",
    "\n",
    "Realistically, we didn't *need* to use a DataFrame in **Part 1**, but it's a good idea to see what the syntax looks like. For the remainder of this lab we will simply use **NumPy Arrays**. In the code block below, create an array by replicating the syntax below:\n",
    "```python\n",
    "period20a = np.array([trial1, trial2, trial3, ...])\n",
    "```"
   ]
  },
  {
   "cell_type": "markdown",
   "id": "721b39c3",
   "metadata": {
    "deletable": false,
    "editable": false,
    "tags": []
   },
   "source": [
    "***\n",
    "**<span style=\"color:blue\">Question 2.1</span>** **<span style=\"color:red\">(1 mark)</span>**  \n",
    "\n",
    "Enter you measured periods as an array in the cell below. \n",
    "\n",
    "*** Please do not change any of the variable names in the cell below ***"
   ]
  },
  {
   "cell_type": "code",
   "execution_count": null,
   "id": "494b128b",
   "metadata": {
    "tags": []
   },
   "outputs": [],
   "source": [
    "# Write your measurements separated by commas between the square brackets \n",
    "period20a = ...\n",
    "\n",
    "# Print the length of period20a\n",
    "len(period20a)"
   ]
  },
  {
   "cell_type": "code",
   "execution_count": null,
   "id": "a5c4264d",
   "metadata": {
    "deletable": false,
    "editable": false
   },
   "outputs": [],
   "source": [
    "PHYS121.graderCheck([period20a], ['period20a'], grader.check('q2.1'))"
   ]
  },
  {
   "cell_type": "markdown",
   "id": "e81d512a",
   "metadata": {
    "deletable": false,
    "editable": false,
    "tags": []
   },
   "source": [
    "\n",
    "Once again we will generate a scatter plot, but this time the $x$-axis will represent the trial number (i.e. trial $1$, trial $2$, ..., trial $N$).  We can produce this scatter plot by passing an empty list to 'xData' when calling the Scatter() funtion:\n"
   ]
  },
  {
   "cell_type": "markdown",
   "id": "d5344751",
   "metadata": {
    "deletable": false,
    "editable": false,
    "tags": []
   },
   "source": [
    "<!-- BEGIN QUESTION -->\n",
    "\n",
    "***\n",
    "**<span style=\"color:blue\">Question 2.2</span>** **<span style=\"color:red\">(1 mark)</span>**  \n",
    "\n",
    "Execute the cell below to generate the required scatter plot."
   ]
  },
  {
   "cell_type": "code",
   "execution_count": null,
   "id": "a5fe486c",
   "metadata": {
    "tags": []
   },
   "outputs": [],
   "source": [
    "fig2 = PHYS121.Scatter(xData = [], yData = period20a, ylabel = 'Period', yUnits = 'seconds')"
   ]
  },
  {
   "cell_type": "markdown",
   "id": "f78c8eb6",
   "metadata": {
    "deletable": false,
    "editable": false,
    "tags": []
   },
   "source": [
    "<!-- END QUESTION -->\n",
    "\n",
    "<!-- BEGIN QUESTION -->\n",
    "\n",
    "***\n",
    "**<span style=\"color:blue\">Question 2.3</span>** **<span style=\"color:red\">(1 mark)</span>**  \n",
    "\n",
    "Based on the scatter plot above, estimate the average value and uncertainty of your measurements of the period at $\\theta_0 = 20^\\circ$.  Enter your value in the cell below.  \n",
    "\n",
    "*** Please do not change any of the variable names in the cell below ***"
   ]
  },
  {
   "cell_type": "markdown",
   "id": "5761232f",
   "metadata": {
    "deletable": false,
    "editable": false,
    "tags": []
   },
   "source": [
    "***\n",
    "**<span style=\"color:blue\">Answer 2.3:</span>**"
   ]
  },
  {
   "cell_type": "code",
   "execution_count": null,
   "id": "a76a470b",
   "metadata": {
    "tags": []
   },
   "outputs": [],
   "source": [
    "# Enter your estimate of the average and uncertainty of the period in the lines below.\n",
    "T20avg = ...\n",
    "dT20 = ..."
   ]
  },
  {
   "cell_type": "code",
   "execution_count": null,
   "id": "d1d11e97",
   "metadata": {
    "deletable": false,
    "editable": false
   },
   "outputs": [],
   "source": [
    "PHYS121.graderCheck([T20avg, dT20], ['T20avg', 'dT20'], grader.check('q2.3'))"
   ]
  },
  {
   "cell_type": "markdown",
   "id": "a5da4da1",
   "metadata": {
    "deletable": false,
    "editable": false,
    "tags": []
   },
   "source": [
    "<!-- END QUESTION -->\n",
    "\n",
    "<!-- BEGIN QUESTION -->\n",
    "\n",
    "***\n",
    "**<span style=\"color:blue\">Question 2.4</span>** **<span style=\"color:red\">(2 marks)</span>**   \n",
    "\n",
    "In a few sentences, explain how you made your estimates of the average **<span style=\"color:red\">(1 mark)</span>** and uncertainty **<span style=\"color:red\">(1 mark)</span>**.  Don't worry if the explanation you give is not exactly correct.  We just want you to come up with a reasonable justification for the answer your gave.  **Include enough detail and clarity that your TA can understand your explanation/reasoning**.  In the next part of this lab, we will attempt to reveal the accepted way to estimate uncertainties.  "
   ]
  },
  {
   "cell_type": "markdown",
   "id": "57976f83",
   "metadata": {
    "tags": []
   },
   "source": [
    "***\n",
    "**<span style=\"color:blue\">Answer 2.4:</span>**\n",
    "\n",
    "[//]: # (Please do not delete this comment or anything above it.  Anything below this comment can be deleted.)  \n",
    "\n",
    "Double click this cell and enter your text here.  When done, hit 'Shift' + 'Enter' to execute the cell.  You may delete this text when entering your answer. "
   ]
  },
  {
   "cell_type": "markdown",
   "id": "4f71c8ee",
   "metadata": {
    "deletable": false,
    "editable": false,
    "tags": []
   },
   "source": [
    "<!-- END QUESTION -->\n",
    "\n",
    "***\n",
    "Next, we'll use a **histogram** view the $20^\\circ$ period data that you've collected.  Refer the Pre-Lab #1 for a description of histograms.\n",
    "\n",
    "In the cell below, you will use a function called 'Statistics' to produce a histogram of measured periods and to calculate some basic statistics of your dataset (mean, standard deviation, and standard error). The 'Statistics' function is called as follows:\n",
    "```python\n",
    "import PHYS121\n",
    "counts, centres, average20a, stdDev20a, stdError20a, fig3 = PHYS121.Statistics(xData = v_period20a, xlabel = 'period', xUnits = 'seconds')\n",
    "```\n",
    "Notice that 'period20a' was defined in a previous cell, so you don't have to re-enter the numerical values.  For additional information about the 'Statistics' function, see **Appendix B** near the end of this notebook.   "
   ]
  },
  {
   "cell_type": "markdown",
   "id": "3dc416d2",
   "metadata": {
    "deletable": false,
    "editable": false,
    "tags": []
   },
   "source": [
    "<!-- BEGIN QUESTION -->\n",
    "\n",
    "***\n",
    "**<span style=\"color:blue\">Question 2.5</span>** **<span style=\"color:red\">(1 mark)</span>**  \n",
    "\n",
    "Execute the cell below to generate the required histogram."
   ]
  },
  {
   "cell_type": "code",
   "execution_count": null,
   "id": "81c12347",
   "metadata": {
    "tags": []
   },
   "outputs": [],
   "source": [
    "counts, centres, average20a, stdDev20a, stdError20a, fig3 = \\\n",
    "PHYS121.Statistics(data = period20a, xlabel = 'period', xUnits = 'seconds')"
   ]
  },
  {
   "cell_type": "markdown",
   "id": "39dcf08e",
   "metadata": {
    "deletable": false,
    "editable": false,
    "tags": []
   },
   "source": [
    "<!-- END QUESTION -->\n",
    "\n",
    "Hopefully the histogram you generated above replicates some of the features (roughly symmetric with a peak approximately in the centre) of the Gaussian distribution introduced in the pre-lab, even if there are some notable differences.\n",
    "\n",
    "Recall the **68-95-99.7 rule** from the pre-lab.  The rule states that $68\\%$ of the measurements should fall within one standard deviation $\\sigma$ of mean $\\mu$, $95\\%$ of the measurements should fall within $2\\sigma$ of $\\mu$, and $99.7\\%$ of measurements should fall within $3\\sigma$ of $\\mu$. \n",
    "\n",
    "*When estimating the uncertainty of a single measurement, one is trying to estimate the standard deviation that would be obtained if the measurement was repeated many times* (without actually doing the repeated measurements)."
   ]
  },
  {
   "cell_type": "markdown",
   "id": "30de9a76",
   "metadata": {
    "deletable": false,
    "editable": false,
    "tags": []
   },
   "source": [
    "<!-- BEGIN QUESTION -->\n",
    "\n",
    "***\n",
    "**<span style=\"color:blue\">Question 2.6</span>** **<span style=\"color:red\">(1 mark)</span>**   \n",
    "\n",
    "Compare the estimates of the average and uncertainty that you made in **<span style=\"color:blue\">Question 2.3</span>** to the mean and standard deviation obtained from your actual dataset when using the 'Statistics' function to generate the histogram.  "
   ]
  },
  {
   "cell_type": "markdown",
   "id": "62fdb363",
   "metadata": {
    "tags": []
   },
   "source": [
    "***\n",
    "**<span style=\"color:blue\">Answer 2.6:</span>**\n",
    "\n",
    "[//]: # (Please do not delete this comment or anything above it.  Anything below this comment can be deleted.)  \n",
    "\n",
    "Double click this cell and enter your text here.  When done, hit 'Shift' + 'Enter' to execute the cell.  You may delete this text when entering your answer. "
   ]
  },
  {
   "cell_type": "markdown",
   "id": "c23b0205",
   "metadata": {
    "deletable": false,
    "editable": false,
    "tags": []
   },
   "source": [
    "<!-- END QUESTION -->\n",
    "\n",
    "# <div style=\"background-color:rgba(255, 204, 255, 0.5); text-align:center; vertical-align: middle; padding:40px 0; margin-top:30px\"><span style=\"color:rgba(102, 0, 204, 1);\">Part 3 - Increasing the number of trials of an experiment (20 minutes)</span></div>\n",
    "\n",
    "For this part of the lab, you will again measure the period of oscillation at a fixed release angle of $\\theta_0 = 20^\\circ$ at least $30$ times.  Use the same technique you used in **Parts 1** and **2** of the lab to measure the period of oscillation."
   ]
  },
  {
   "cell_type": "markdown",
   "id": "16c9fdcb",
   "metadata": {
    "deletable": false,
    "editable": false,
    "tags": []
   },
   "source": [
    "***\n",
    "**<span style=\"color:blue\">Question 3.1</span>** **<span style=\"color:red\">(1 mark)</span>**  \n",
    "\n",
    "As in **Part 2**, enter your values as a NumPy array in the cell below. The second line in the code block will combine this set of measurements with the data that you already collected in **Part 2** (you should have at least $60$ trials after combining the two datasets).\n",
    "\n",
    "*** Please do not change any of the variable names in the cell below ***"
   ]
  },
  {
   "cell_type": "code",
   "execution_count": null,
   "id": "dc379e70",
   "metadata": {
    "tags": []
   },
   "outputs": [],
   "source": [
    "# Enter your data here\n",
    "period20b = ...\n",
    "print('The length of period20b is ' + str(len(period20b)) + '.\\n')\n",
    "\n",
    "# To arrays can be concatinated (i.e. combined) using the np.concatenate() function.\n",
    "period20 = np.concatenate((period20a, period20b))\n",
    "print(period20)\n",
    "\n",
    "print('\\nThe length of period20 is ' + str(len(period20)) + '.')\n"
   ]
  },
  {
   "cell_type": "code",
   "execution_count": null,
   "id": "f847f6d2",
   "metadata": {
    "deletable": false,
    "editable": false
   },
   "outputs": [],
   "source": [
    "PHYS121.graderCheck([period20b, period20], ['period20b', 'period20'], grader.check('q3.1'))"
   ]
  },
  {
   "cell_type": "markdown",
   "id": "d6d4187b",
   "metadata": {
    "deletable": false,
    "editable": false,
    "tags": []
   },
   "source": [
    "<!-- BEGIN QUESTION -->\n",
    "\n",
    "***\n",
    "**<span style=\"color:blue\">Question 3.2</span>** **<span style=\"color:red\">(1 mark)</span>**   \n",
    "\n",
    "Execute the cell below to produce a histogram of the measurements. "
   ]
  },
  {
   "cell_type": "code",
   "execution_count": null,
   "id": "000d6920",
   "metadata": {
    "tags": []
   },
   "outputs": [],
   "source": [
    "counts, centres, average20b, stdDev20b, stdError20b, fig4 = \\\n",
    "PHYS121.Statistics(data = period20, xlabel = 'period', xUnits = 'seconds')"
   ]
  },
  {
   "cell_type": "markdown",
   "id": "0fbb7944",
   "metadata": {
    "deletable": false,
    "editable": false,
    "tags": []
   },
   "source": [
    "<!-- END QUESTION -->\n",
    "\n",
    "<!-- BEGIN QUESTION -->\n",
    "\n",
    "***\n",
    "**<span style=\"color:blue\">Question 3.3</span>** **<span style=\"color:red\">(1 mark)</span>**   \n",
    "\n",
    "Compare the standard deviations obtained in **Part 2** ($\\approx 30$ trials) and **Part 3** ($\\approx 60$ trials) of the lab.  Are they very different or are they similar?  What does this tell you about how the standard deviation $\\sigma$ depends on the number of trials $N$?"
   ]
  },
  {
   "cell_type": "markdown",
   "id": "72e1903e",
   "metadata": {
    "tags": []
   },
   "source": [
    "***\n",
    "**<span style=\"color:blue\">Answer 3.3:</span>**\n",
    "\n",
    "[//]: # (Please do not delete this comment or anything above it.  Anything below this comment can be deleted.)  \n",
    "\n",
    "Double click this cell and enter your text here.  When done, hit 'Shift' + 'Enter' to execute the cell.  You may delete this text when entering your answer. "
   ]
  },
  {
   "cell_type": "markdown",
   "id": "8e692f8a",
   "metadata": {
    "deletable": false,
    "editable": false,
    "tags": []
   },
   "source": [
    "<!-- END QUESTION -->\n",
    "\n",
    "<!-- BEGIN QUESTION -->\n",
    "\n",
    "***\n",
    "**<span style=\"color:blue\">Question 3.4</span>** **<span style=\"color:red\">(1 mark)</span>**   \n",
    "\n",
    "Compare the histograms obtained in **Part 2** ($\\approx 30$ trials) and **Part 3** ($\\approx 60$ trials) of the lab.  Which of the histograms allows you to better determine the position of the peak or mean?"
   ]
  },
  {
   "cell_type": "markdown",
   "id": "0e5f6dd5",
   "metadata": {
    "tags": []
   },
   "source": [
    "***\n",
    "**<span style=\"color:blue\">Answer 3.4:</span>**\n",
    "\n",
    "[//]: # (Please do not delete this comment or anything above it.  Anything below this comment can be deleted.)  \n",
    "\n",
    "Double click this cell and enter your text here.  When done, hit 'Shift' + 'Enter' to execute the cell.  You may delete this text when entering your answer. "
   ]
  },
  {
   "cell_type": "markdown",
   "id": "b58a543e",
   "metadata": {
    "deletable": false,
    "editable": false,
    "tags": []
   },
   "source": [
    "<!-- END QUESTION -->\n",
    "\n",
    "***\n",
    "From **Parts 1** and **2** of the lab, you have hopefully seen that the standard deviation $\\sigma$ characterizes the width of a Gaussian distribution and that its value is independent of the number of trials $N$.  We have also seen that the standard deviation $\\sigma$ is used to estimate the uncertainty of any single trial of an experiment.  The physical interpretation is that any single measurement has a $68\\%$ chance of falling within one standard deviation of the mean $\\mu$.  In other words, each measurement has a $68\\%$ chance of falling between $\\mu-\\sigma$ and $\\mu+\\sigma$.\n",
    "\n",
    "Although $\\sigma$ is independent of $N$, our ability to locate the peak or mean value of a distribution of measurements improves as $N$ increases.  This is because, as $N$ is increased, the distribution of measurements better approximates an ideal Gaussian distribution with a smooth peak and symmetric tails.  You've observed this fact using simulated data in the pre-lab assignment and now experimentally by comparing two different sets of data with different numbers of trials.  \n",
    "\n",
    "The correct way to estimate the uncertainty in the mean or average of a set of data is to use the so-called **standard error** which we will denote as $\\sigma_\\mu$.  The standard error is calculated by dividing the standard deviation $\\sigma$ by the square root of the number of trials:\n",
    "\\begin{align}\n",
    "\\sigma_\\mu = \\dfrac{\\sigma}{\\sqrt{N}}.\n",
    "\\label{eq:stderror} \\tag{2}\n",
    "\\end{align}\n",
    "Understanding where this expression comes from requires a proper treatment of the propagation of errors which is beyond the scope of PHYS 121.  However, if you choose to pursue a physics degree, we will revisit error propagation and standard error in the Modern Physics Laboratory course PHYS 232."
   ]
  },
  {
   "cell_type": "markdown",
   "id": "63347024",
   "metadata": {
    "deletable": false,
    "editable": false,
    "tags": []
   },
   "source": [
    "<!-- BEGIN QUESTION -->\n",
    "\n",
    "***\n",
    "**<span style=\"color:blue\">Question 3.5</span>** **<span style=\"color:red\">(1 mark)</span>**  \n",
    "\n",
    "The code cell below is used to calculate the ratio of the $\\sigma_\\mu$ values from **Parts 2** and **3**.  In the cell labelled **Answer 3.5** that follows, briefly comment on the value of this ratio.  Given that the dataset from **Part 3** was approximately twice as long as the dataset from **Part 2**, did the ratio produce the expected result?"
   ]
  },
  {
   "cell_type": "code",
   "execution_count": null,
   "id": "a2c86ae0",
   "metadata": {},
   "outputs": [],
   "source": [
    "# Calculate the ratio of standard errors.  \n",
    "# Comments are preceeded by a number sign and are not considered lines of code.\n",
    "# With your cursor somewhere in this cell, hit 'Shift' + 'Enter' to execute the (simple) line of code below.\n",
    "stdError20b/stdError20a"
   ]
  },
  {
   "cell_type": "markdown",
   "id": "04e756d4",
   "metadata": {},
   "source": [
    "***\n",
    "**<span style=\"color:blue\">Answer 3.5:</span>**\n",
    "\n",
    "[//]: # (Please do not delete this comment or anything above it.  Anything below this comment can be deleted.)  \n",
    "\n",
    "Double click this cell and enter your text here.  When done, hit 'Shift' + 'Enter' to execute the cell.  You may delete this text when entering your answer. "
   ]
  },
  {
   "cell_type": "markdown",
   "id": "cc6c8108",
   "metadata": {
    "deletable": false,
    "editable": false,
    "tags": []
   },
   "source": [
    "<!-- END QUESTION -->\n",
    "\n",
    "# <div style=\"background-color:rgba(255, 204, 255, 0.5); text-align:center; vertical-align: middle; padding:40px 0; margin-top:30px\"><span style=\"color:rgba(102, 0, 204, 1);\">Part 4 - Reducing standard deviation/increasing precision (60 minutes)</span></div>\n",
    "\n",
    "So far, we have seen that increasing the number of trials of an experiment reduces the standard error $\\sigma_\\mu$ but leaves the standard deviation $\\sigma$ unchanged.  One way to improve the precision of an experimental result to run many trials $N$ of a measurement and then report the final result as the mean plus or minus the standard error:\n",
    "\\begin{align}\n",
    "\\mathrm{final~result:~}\\mu\\pm\\sigma_\\mu =\\mu\\pm\\frac{\\sigma}{\\sqrt{N}}.\n",
    "\\label{eq:final} \\tag{3}\n",
    "\\end{align}\n",
    "\n",
    "What if we wanted to reduce $\\sigma$ (i.e. narrow the distribution of measurements)?  How can this be done?  The width of a distribution is determined by the measurement technique.  The only way to reduce the standard deviation is to improve the way in which the data is collected.  This could include:\n",
    " * Using a better apparatus capable of more precise measurements\n",
    " * Use the same apparatus, but develop a better data-collection strategy\n",
    " \n",
    "In this part of the lab, you will adopt the second approach and attempt to develop a better data-collection method to improve the resolution of your measurements. The improved data-collection technique that you develop will be used next week to, hopefully, allow you to uncover some new physics that goes beyond what was discussed in lectures. "
   ]
  },
  {
   "cell_type": "markdown",
   "id": "8038a9fe",
   "metadata": {
    "deletable": false,
    "editable": false,
    "tags": []
   },
   "source": [
    "<!-- BEGIN QUESTION -->\n",
    "\n",
    "***\n",
    "**<span style=\"color:blue\">Question 4.1</span>** **<span style=\"color:red\">(1 marks)</span>** \n",
    "\n",
    "With your partner and some of the neighbouring groups, develop a strategy for reducing the standard deviation of your measurements.  Your strategy should not involve any changes to the main apparatus (shown schematically in **Fig. 1**).  In  the cell below, describe the approach that you will attempt.  There are several ways that the data-collection method can be improved &ndash; there's no single correct answer.  **Provide enough detail and clarity that your TA can easily understand your plan for improving the resolution of your measurements.**"
   ]
  },
  {
   "cell_type": "markdown",
   "id": "9422ae6a",
   "metadata": {},
   "source": [
    "***\n",
    "**<span style=\"color:blue\">Answer 4.1:</span>**\n",
    "\n",
    "[//]: # (Please do not delete this comment or anything above it.  Anything below this comment can be deleted.)  \n",
    "\n",
    "Double click this cell and enter your text here.  When done, hit 'Shift' + 'Enter' to execute the cell.  You may delete this text when entering your answer. "
   ]
  },
  {
   "cell_type": "markdown",
   "id": "dc351b2d",
   "metadata": {
    "deletable": false,
    "editable": false,
    "tags": []
   },
   "source": [
    "<!-- END QUESTION -->\n",
    "\n",
    "***\n",
    "Try to implement your chosen strategy.  If you find that your first idea is not working, revise your strategy and start again.  The process of iteration is very important in experimental physics.  It is often the case that an experiment is revised and repeated many times before arriving at a satisfactory final result.  Each revision or iteration attempts to implement an improvement to either the experimental apparatus, the data collection technique, or the data analysis methods.\n",
    "\n",
    "If you do make changes to your strategy, go back to the answer box for **<span style=\"color:blue\">Question 4.1</span>** and explain the changes to your strategy and why they were needed.  Do **not** delete the original text that you entered.  *Trying, failing, revising* is an essential part of any experimental science.  Getting a good final result is important, but getting a good result on the first attempt is of no great significance and rarely happens. "
   ]
  },
  {
   "cell_type": "markdown",
   "id": "2da02a7e",
   "metadata": {
    "deletable": false,
    "editable": false,
    "tags": []
   },
   "source": [
    "Once you've established a good data-collection procedure, collect a set of at least $30$ measurements for the period of the pendulum when the initial release angle is $\\theta_0 = 20^\\circ$.  Enter the data as an array into the code cell below."
   ]
  },
  {
   "cell_type": "markdown",
   "id": "3b6f0e63",
   "metadata": {
    "deletable": false,
    "editable": false,
    "tags": []
   },
   "source": [
    "***\n",
    "**<span style=\"color:blue\">Question 4.2</span>** **<span style=\"color:red\">(1 mark)</span>**  \n",
    "\n",
    "As in **Parts 2** and **3**, enter your values as a NumPy array in the cell below. \n",
    "\n",
    "*** Please do not change any of the variable names in the cell below ***"
   ]
  },
  {
   "cell_type": "code",
   "execution_count": null,
   "id": "cf7077a1",
   "metadata": {
    "tags": []
   },
   "outputs": [],
   "source": [
    "# Enter your data as a list.\n",
    "# The data should be between square brackets with the entries separated by commas.\n",
    "# For example, period20c = np.array([3.06, 3.12, 2.98, 2.97, 3.23, ...])\n",
    "period20c = ..."
   ]
  },
  {
   "cell_type": "code",
   "execution_count": null,
   "id": "d6b6d108",
   "metadata": {
    "deletable": false,
    "editable": false
   },
   "outputs": [],
   "source": [
    "PHYS121.graderCheck([period20c], ['period20c'], grader.check('q4.2'))"
   ]
  },
  {
   "cell_type": "markdown",
   "id": "b6423d95",
   "metadata": {
    "deletable": false,
    "editable": false,
    "tags": []
   },
   "source": [
    "<!-- BEGIN QUESTION -->\n",
    "\n",
    "***\n",
    "**<span style=\"color:blue\">Question 4.3</span>** **<span style=\"color:red\">(1 mark)</span>**   \n",
    "\n",
    "Use the 'Statistics()' function to plot a histogram of the data and determine the mean, standard deviation, and standard error.  This time, we have not provided the code to call the 'Statistics()' function &ndash; you'll need to enter it yourself.  Use the call to the Statistics() function in **<span style=\"color:blue\">Question 3.2</span>** as a guide/example."
   ]
  },
  {
   "cell_type": "code",
   "execution_count": null,
   "id": "a8c706b1",
   "metadata": {
    "tags": []
   },
   "outputs": [],
   "source": [
    "# Call the 'Statistics' function here.\n",
    "# See the use of Statistics() in Part 3 and use it as an example. \n",
    "# The slash after the equals sign is used to start a newline.  \n",
    "# Leave the slash in place and replace the ... with the required function call.  It should start with PHYS121.Statistics(...)\n",
    "counts, centres, average20c, stdDev20c, stdError20c, fig4 = \\\n",
    "..."
   ]
  },
  {
   "cell_type": "markdown",
   "id": "df337b69",
   "metadata": {
    "deletable": false,
    "editable": false,
    "tags": []
   },
   "source": [
    "<!-- END QUESTION -->\n",
    "\n",
    "<!-- BEGIN QUESTION -->\n",
    "\n",
    "***\n",
    "**<span style=\"color:blue\">Question 4.4</span>** **<span style=\"color:red\">(1 mark)</span>** \n",
    "\n",
    "Compare and comment the standard deviations from **Parts 2** and **3** to the standard deviation obtained in **Part 4**.  Did you get the outcome that you expected for **Part 4**?  "
   ]
  },
  {
   "cell_type": "markdown",
   "id": "b730d891",
   "metadata": {},
   "source": [
    "***\n",
    "**<span style=\"color:blue\">Answer 4.4:</span>**\n",
    "\n",
    "[//]: # (Please do not delete this comment or anything above it.  Anything below this comment can be deleted.)  \n",
    "\n",
    "Double click this cell and enter your text here.  When done, hit 'Shift' + 'Enter' to execute the cell.  You may delete this text when entering your answer. "
   ]
  },
  {
   "cell_type": "markdown",
   "id": "4f21f2c4",
   "metadata": {
    "deletable": false,
    "editable": false,
    "tags": []
   },
   "source": [
    "<!-- END QUESTION -->\n",
    "\n",
    "# <div style=\"background-color:rgba(255, 204, 255, 0.5); text-align:center; vertical-align: middle; padding:40px 0; margin-top:30px\"><span style=\"color:rgba(102, 0, 204, 1);\">Part 5 - Reflection and statement of contributions (25 minutes)</span></div>"
   ]
  },
  {
   "cell_type": "markdown",
   "id": "872e46fa",
   "metadata": {
    "deletable": false,
    "editable": false,
    "tags": []
   },
   "source": [
    "<!-- BEGIN QUESTION -->\n",
    "\n",
    "Questions 5.1(a) and 5.1(b) are used to reflect on the two learning objectives stated at beginning of the notebook. \n",
    "***\n",
    "**<span style=\"color:blue\">Question 5.1(a)</span>** **<span style=\"color:red\">(1 mark)</span>** \n",
    "\n",
    "Describe what *does* and *does not* affect the width of a distribution of measurements.  **Your response should be detailed enough to clearly demonstrate your understanding to your TA**. "
   ]
  },
  {
   "cell_type": "markdown",
   "id": "a3e6eded",
   "metadata": {},
   "source": [
    "***\n",
    "**<span style=\"color:blue\">Answer 5.1(a):</span>**\n",
    "\n",
    "[//]: # (Please do not delete this comment or anything above it.  Anything below this comment can be deleted.)  \n",
    "\n",
    "Double click this cell and enter your text here.  When done, hit 'Shift' + 'Enter' to execute the cell.  You may delete this text when entering your answer. "
   ]
  },
  {
   "cell_type": "markdown",
   "id": "88e3fd53",
   "metadata": {
    "deletable": false,
    "editable": false,
    "tags": []
   },
   "source": [
    "<!-- END QUESTION -->\n",
    "\n",
    "<!-- BEGIN QUESTION -->\n",
    "\n",
    "***\n",
    "**<span style=\"color:blue\">Question 5.1(b)</span>** **<span style=\"color:red\">(1 mark)</span>**   \n",
    "\n",
    "Assume that a quantity has been measured $N$ times using the same experimental method each time.  Describe how the uncertainty associated with the *mean* or *average* value of the set of measurements is determined.  **Your response should be detailed enough to clearly demonstrate your understanding to your TA**. "
   ]
  },
  {
   "cell_type": "markdown",
   "id": "cbe40505",
   "metadata": {},
   "source": [
    "***\n",
    "**<span style=\"color:blue\">Answer 5.1(b):</span>**\n",
    "\n",
    "[//]: # (Please do not delete this comment or anything above it.  Anything below this comment can be deleted.)  \n",
    "\n",
    "Double click this cell and enter your text here.  When done, hit 'Shift' + 'Enter' to execute the cell.  You may delete this text when entering your answer. "
   ]
  },
  {
   "cell_type": "markdown",
   "id": "98e43164",
   "metadata": {
    "deletable": false,
    "editable": false,
    "tags": []
   },
   "source": [
    "<!-- END QUESTION -->\n",
    "\n",
    "***\n",
    "Below, you will briefly summarize the contributions that you and your partner made when completing this lab.  Please ensure that both partners have a chance to engage in all types of lab activities (developing the experimental methods/data collection strategies, hands-on interaction with the apparatus/data collection, and data processing/analysis in the Jupyter notebook).  Note that statements of contributions are common in science.  The figure below shows one example taken from a 2021 paper published in the journal *Nature Physics*.\n",
    "\n",
    "<p>\n",
    "<center>\n",
    "<img src=\"https://raw.githubusercontent.com/UBC-Okanagan-Physics-Labs/PHYS-121-images/main/general/images/contributions.jpg\" alt=\"image info\" style=\"width: 60%; height: auto;\" /><br>\n",
    "<b>Figure: A sample statement of author contributions from a recent journal article.</b></center>\n",
    "</p>\n"
   ]
  },
  {
   "cell_type": "markdown",
   "id": "c54f0c4a",
   "metadata": {
    "deletable": false,
    "editable": false,
    "tags": []
   },
   "source": [
    "<!-- BEGIN QUESTION -->\n",
    "\n",
    "***\n",
    "**<span style=\"color:blue\">Question 5.2(a):</span>**  \n",
    "\n",
    "Answer this question only if you worked with a partner to complete this lab.\n",
    "\n",
    "In two or three sentences describe the specific contributions of **Partner #1** to this lab.  For example, worked with the experimental apparatus to collect data for **Part 1** of the lab, entered and processed the data in the Jupyter notebook for **Part 2** of the lab, ...  "
   ]
  },
  {
   "cell_type": "markdown",
   "id": "6400b2a6",
   "metadata": {},
   "source": [
    "***\n",
    "**<span style=\"color:blue\">Answer 5.2(a):</span>**\n",
    "\n",
    "[//]: # (Please do not delete this comment or anything above it.  Anything below this comment can be deleted.)  \n",
    "\n",
    "Double click this cell and enter your text here.  Please start be entering the name and student number of **Partner #1**.  When done, hit 'Shift' + 'Enter' to execute the cell.  You may delete this text when entering your answer. "
   ]
  },
  {
   "cell_type": "markdown",
   "id": "6ea25ea6",
   "metadata": {
    "deletable": false,
    "editable": false,
    "tags": []
   },
   "source": [
    "<!-- END QUESTION -->\n",
    "\n",
    "<!-- BEGIN QUESTION -->\n",
    "\n",
    "***\n",
    "**<span style=\"color:blue\">Question 5.2(b):</span>**  \n",
    "\n",
    "Answer this question only if you worked with a partner to complete this lab.\n",
    "\n",
    "In two or three sentences describe the specific contributions of **Partner #2** to this lab.  "
   ]
  },
  {
   "cell_type": "markdown",
   "id": "578e91bd",
   "metadata": {},
   "source": [
    "***\n",
    "**<span style=\"color:blue\">Answer 5.2(b):</span>**\n",
    "\n",
    "[//]: # (Please do not delete this comment or anything above it.  Anything below this comment can be deleted.)  \n",
    "\n",
    "Double click this cell and enter your text here.  Please start be entering the name and student number of **Partner #2**.  When done, hit 'Shift' + 'Enter' to execute the cell.  You may delete this text when entering your answer. "
   ]
  },
  {
   "cell_type": "markdown",
   "id": "cefb0fb7",
   "metadata": {
    "deletable": false,
    "editable": false,
    "tags": []
   },
   "source": [
    "<!-- END QUESTION -->\n",
    "\n",
    "# <div style=\"background-color:rgba(255, 204, 255, 0.5); text-align:center; vertical-align: middle; padding:40px 0; margin-top:30px\"><span style=\"color:rgba(102, 0, 204, 1);\">Part 6 - Feedback and Submission (5 minutes)</span></div>"
   ]
  },
  {
   "cell_type": "markdown",
   "id": "9d6bf648",
   "metadata": {
    "deletable": false,
    "editable": false,
    "tags": []
   },
   "source": [
    "<!-- BEGIN QUESTION -->\n",
    "\n",
    "***\n",
    "**<span style=\"color:blue\">Question 6.1:</span>**  \n",
    "\n",
    "We welcome your feedback on the PHYS 121 labs!  Please feel free to include any comments you have about this lab in the cell below.  Your comments will be taken into consideration when revising/improving the PHYS 121 labs.  You can suggest improvements, point out anything that was unclear, comment on the strengths and weaknesses of the lab, ...\n",
    "\n",
    "This question is optional and will have no impact on your lab grade."
   ]
  },
  {
   "cell_type": "markdown",
   "id": "bcdb6fb4",
   "metadata": {},
   "source": [
    "***\n",
    "**<span style=\"color:blue\">Answer 6.1:</span>**\n",
    "\n",
    "[//]: # (Please do not delete this comment or anything above it.  Anything below this comment can be deleted.)  \n",
    "\n",
    "Double click this cell and enter your text here.  When done, hit 'Shift' + 'Enter' to execute the cell.  You may delete this text when entering your answer. "
   ]
  },
  {
   "cell_type": "markdown",
   "id": "2b650a30",
   "metadata": {
    "deletable": false,
    "editable": false,
    "tags": []
   },
   "source": [
    "<!-- END QUESTION -->\n",
    "\n",
    "***\n",
    "Once you've completed this notebook:\n",
    "- Save your work.\n",
    "- Run 'grader.check_all()' to confirm that you've completed all required tasks.\n",
    "- Run 'grader.export()' to generate a .zip file containing all of the materials that you will submit.\n",
    "- Download the generated .zip file.\n",
    "- Upload the .zip file to the PHYS 121 Canvas gradebook.\n",
    "- **Do NOT change the number of the .zip file.**\n",
    "- **Do NOT modify the contents of the .zip file.**\n",
    "\n",
    "Here is a <a href = \"https://raw.githubusercontent.com/UBC-Okanagan-Physics-Labs/PHYS-121-images/main/general/gifs/Submission.gif\">GIF</a> showing how these steps are completed.  Once your completed notebook has been uploaded to the Canvas gradebook, you're done!"
   ]
  },
  {
   "cell_type": "markdown",
   "id": "48c39198",
   "metadata": {
    "deletable": false,
    "editable": false,
    "tags": []
   },
   "source": [
    "---\n",
    "\n",
    "To double-check your work, the cell below will rerun all of the autograder tests."
   ]
  },
  {
   "cell_type": "code",
   "execution_count": null,
   "id": "bb838494",
   "metadata": {
    "deletable": false,
    "editable": false,
    "tags": []
   },
   "outputs": [],
   "source": [
    "grader.check_all()"
   ]
  },
  {
   "cell_type": "markdown",
   "id": "f8d0b2f8",
   "metadata": {
    "deletable": false,
    "editable": false,
    "tags": []
   },
   "source": [
    "## Submission\n",
    "\n",
    "Make sure you have run all cells in your notebook in order before running the cell below, so that all images/graphs appear in the output. The cell below will generate a zip file for you to submit. **Please save before exporting!**"
   ]
  },
  {
   "cell_type": "code",
   "execution_count": null,
   "id": "60f2c600",
   "metadata": {
    "deletable": false,
    "editable": false,
    "tags": []
   },
   "outputs": [],
   "source": [
    "# Save your notebook first, then run this cell to export your submission.\n",
    "grader.export()"
   ]
  },
  {
   "cell_type": "markdown",
   "id": "3c5ed2d4",
   "metadata": {
    "deletable": false,
    "editable": false,
    "tags": []
   },
   "source": [
    "# <div style=\"background-color:rgba(255, 204, 255, 0.5); text-align:center; vertical-align: middle; padding:40px 0; margin-top:30px\"><span style=\"color:rgba(102, 0, 204, 1);\">Part 7 - Playground (optional)</span></div>\n",
    "\n",
    "Feel free to add as many cells as you like below and use them as a playground for further independent investigations.  These cells won't be graded, so feel free to use them in any way that you like.  \n",
    "\n",
    "You could:\n",
    "- try different methods to measure the period and see how they change the shape of the resulting distribution\n",
    "- try collecting a set of data with a large number of trials and see how well the resulting distribution approximates an ideal Gaussian distribution.\n",
    "-..."
   ]
  },
  {
   "cell_type": "code",
   "execution_count": null,
   "id": "abde6b4b",
   "metadata": {},
   "outputs": [],
   "source": [
    "# Here's an empty code cell that you can use.  "
   ]
  },
  {
   "cell_type": "code",
   "execution_count": null,
   "id": "65880a96",
   "metadata": {},
   "outputs": [],
   "source": [
    "# Here's another empty code cell that you can use."
   ]
  },
  {
   "cell_type": "code",
   "execution_count": null,
   "id": "12f1ab0b",
   "metadata": {},
   "outputs": [],
   "source": [
    "# Here's yet another empty code cell that you can use.  \n",
    "# If you need more, you can add cells using the '+' icon in the menu bar at to the top of the screen."
   ]
  },
  {
   "cell_type": "markdown",
   "id": "64de128f",
   "metadata": {
    "deletable": false,
    "editable": false,
    "tags": []
   },
   "source": [
    "### <div style=\"background-color:rgba(255, 255, 102, 0.5); text-align:left; padding:20px 0; margin-top:20px\">$\\quad$Appendix A &ndash; The Scatter Function...</div>\n",
    "\n",
    "The function for generating scatter plots is called as follows:\n",
    "```python\n",
    "Scatter(xData, yData, yErrors = [], xlabel = 'x-axis', ylabel = 'y-axis', xUnits = '', yUnits = '', fill = False, show = True)\n",
    "```\n",
    "The 'xData' and 'yData' inputs are required, all other arguments are optional with default values set.  The function returns the a single output (the formatted plot):\n",
    "```python\n",
    "fig\n",
    "```\n",
    "\n",
    "The function will do a simple scatter plot if no 'yError' are included.  It will included error bars if 'yErrors' are passed to the function.  The 'fill' and 'show' arguments should generally be false.  \n",
    "\n",
    "If the 'xData' list is empty, as in:\n",
    "```python\n",
    "xData = []\n",
    "```\n",
    "then the x-axis will be the trial number.  For example, is 'xData' is empty and 'yData' has 10 elements, the x-axis will span 1 to 10.\n",
    "\n",
    "### Scatter Example Implmentation\n",
    "The code block below shows an implementation of 'Scatter'.\n",
    "```python\n",
    "import PHYS121\n",
    "theta = [10, 20, 30] # degrees\n",
    "T = [2.02, 1.95, 2.13] # s\n",
    "errT = [0.02, 0.02, 0.03] # s\n",
    "fig = PHYS121.Scatter(theta, T, errT, 'initial angle' , 'period', 'degrees', 's')\n",
    "```\n",
    "\n",
    "If you're interested in generating your own plots with customized formatting, see the following Python-based plotting tutorial: https://cmps-people.ok.ubc.ca/jbobowsk/Python/html/Jupyter%20Basic%20Plots.html.\n",
    "***"
   ]
  },
  {
   "cell_type": "markdown",
   "id": "e5c7ae00",
   "metadata": {
    "deletable": false,
    "editable": false,
    "tags": []
   },
   "source": [
    "### <div style=\"background-color:rgba(255, 255, 102, 0.5); text-align:left; padding:20px 0; margin-top:20px\">$\\quad$Appendix B &ndash; The Statistics Function...</div>\n",
    "\n",
    "The statistics function is called as follows:\n",
    "```python\n",
    "Statistics(data, nbins = 10, xlabel = 'x-axis', xUnits = '', normalized = False)\n",
    "```\n",
    "The data input is required, all other arguments are optional with default values set.  The function returns the following outputs:\n",
    "```python\n",
    "counts, centres, average, stdDev, stdError, fig\n",
    "```\n",
    "The first two outputs are lists, the next three are numerical values, and 'fig' is the formatted plot. The counts list gives the number of counts in each bin of the histogram and the centres list gives the position of the centre of each bin.\n",
    "\n",
    "The function calculates and reports the mean, standard deviation, and standard error of the provided data.  It also plots a histogram of the data.  \n",
    "\n",
    "### Statistics Example Implmentation\n",
    "The code block below shows an implementation of 'Statistics'.\n",
    "```python\n",
    "import PHYS121\n",
    "theta20a = [2.02, 1.93, 1.92, 1.96, 2.03, 2.03, 1.96, 2.03, 2.06, 2, 2.03, 2.12, 2.07, 1.99, 1.99, 1.95, 2.03, 2.12, 2.03, 2.09, 2.03, 2.03, 2.01, 2.04, 2.03, 2.04, 1.99, 1.99, 1.97, 1.98]\n",
    "cnts, ctrs, mean, stdDev, stdError, fig20a = PHYS121.Statistics(theta20a, 12, 'Period', 's', True);\n",
    "```\n",
    "\n",
    "If you're interested in generating your own histograms with customized formatting, see the following Python-based tutorial: https://cmps-people.ok.ubc.ca/jbobowsk/Python/html/Jupyter%20Histogram.html.\n",
    "***"
   ]
  },
  {
   "cell_type": "markdown",
   "id": "686d8b94",
   "metadata": {
    "deletable": false,
    "editable": false,
    "tags": []
   },
   "source": [
    "<img src=\"https://raw.githubusercontent.com/UBC-Okanagan-Physics-Labs/PHYS-121-images/main/general/images/ubc-logo-full.jpg\" width=\"500\"/>"
   ]
  },
  {
   "cell_type": "markdown",
   "id": "f0095319",
   "metadata": {},
   "source": [
    "Last update: January 23, 2024"
   ]
  }
 ],
 "metadata": {
  "kernelspec": {
   "display_name": "Python 3 (ipykernel)",
   "language": "python",
   "name": "python3"
  },
  "language_info": {
   "codemirror_mode": {
    "name": "ipython",
    "version": 3
   },
   "file_extension": ".py",
   "mimetype": "text/x-python",
   "name": "python",
   "nbconvert_exporter": "python",
   "pygments_lexer": "ipython3",
   "version": "3.10.6"
  },
  "otter": {
   "OK_FORMAT": true,
   "tests": {
    "name_and_student_number_1": {
     "name": "name_and_student_number_1",
     "points": null,
     "suites": [
      {
       "cases": [
        {
         "code": ">>> isinstance(last_name_1, str)\nTrue",
         "failure_message": "last_name_1 must be a string (i.e. surround your answer by either single or double quotes).",
         "hidden": false,
         "locked": false,
         "points": 0
        },
        {
         "code": ">>> isinstance(first_name_1, str)\nTrue",
         "failure_message": "first_name_1 must be a string (i.e. surround your answer by either single or double quotes).",
         "hidden": false,
         "locked": false,
         "points": 0
        },
        {
         "code": ">>> isinstance(student_number_1, str)\nTrue",
         "failure_message": "student_number_1 must be a string (i.e. surround your answer by either single or double quotes).",
         "hidden": false,
         "locked": false,
         "points": 0
        },
        {
         "code": ">>> test = True\n>>> if isinstance(student_number_1, str):\n...     test = len(student_number_1) == 8\n>>> test\nTrue",
         "failure_message": "student_number_1 must be a string of exactly 8 characters.",
         "hidden": false,
         "locked": false,
         "points": 0
        },
        {
         "code": ">>> test = True\n>>> if isinstance(student_number_1, str):\n...     test = student_number_1.isdigit()\n>>> test\nTrue",
         "failure_message": "student_number_1 must contain only interger digits (0, 1, 2, 3, ..., 9)",
         "hidden": false,
         "locked": false,
         "points": 0.5
        }
       ],
       "scored": true,
       "setup": "",
       "teardown": "",
       "type": "doctest"
      }
     ]
    },
    "name_and_student_number_2": {
     "name": "name_and_student_number_2",
     "points": null,
     "suites": [
      {
       "cases": [
        {
         "code": ">>> isinstance(last_name_2, str) or last_name_2 == ...\nTrue",
         "failure_message": "last_name_2 must be a string (i.e. surround your answer by either single or double quotes).",
         "hidden": false,
         "locked": false,
         "points": 0
        },
        {
         "code": ">>> isinstance(first_name_2, str) or first_name_2 == ...\nTrue",
         "failure_message": "first_name_2 must be a string (i.e. surround your answer by either single or double quotes).",
         "hidden": false,
         "locked": false,
         "points": 0
        },
        {
         "code": ">>> isinstance(student_number_2, str) or student_number_2 == ...\nTrue",
         "failure_message": "student_number_2 must be a string (i.e. surround your answer by either single or double quotes).",
         "hidden": false,
         "locked": false,
         "points": 0
        },
        {
         "code": ">>> test = True\n>>> if isinstance(student_number_2, str):\n...     test = len(student_number_2) == 8\n>>> test\nTrue",
         "failure_message": "student_number_2 must be a string of exactly 8 characters or be left as ...",
         "hidden": false,
         "locked": false,
         "points": 0
        },
        {
         "code": ">>> test = True\n>>> if isinstance(student_number_2, str):\n...     test = student_number_2.isdigit()\n>>> test\nTrue",
         "failure_message": "student_number_2 must contain only interger digits (0, 1, 2, 3, ..., 9) or be left as ...",
         "hidden": false,
         "locked": false,
         "points": 0.5
        }
       ],
       "scored": true,
       "setup": "",
       "teardown": "",
       "type": "doctest"
      }
     ]
    },
    "q1.1": {
     "name": "q1.1",
     "points": null,
     "suites": [
      {
       "cases": [
        {
         "code": ">>> # Test if period is an array\n>>> type(period).__module__ == np.__name__\nTrue",
         "failure_message": "period must be an array (i.e. period = np.array([1.23, 1.12, 1.34, ...])).",
         "hidden": false,
         "locked": false,
         "points": 0
        },
        {
         "code": ">>> # Test if period is an array\n>>> len(period) == len(amplitude)\nTrue",
         "failure_message": "The number of elements in the 'period' array must equal number of elements in the 'amplitude' array.",
         "hidden": false,
         "locked": false,
         "points": 1
        }
       ],
       "scored": true,
       "setup": "",
       "teardown": "",
       "type": "doctest"
      }
     ]
    },
    "q2.1": {
     "name": "q2.1",
     "points": null,
     "suites": [
      {
       "cases": [
        {
         "code": ">>> # Test if period is an array\n>>> type(period20a).__module__ == np.__name__\nTrue",
         "failure_message": "period20a must be an array (i.e. period20a = np.array([1.23, 1.12, 1.34, ...])).",
         "hidden": false,
         "locked": false,
         "points": 0
        },
        {
         "code": ">>> # Test if period is an array\n>>> len(period20a) >= 30\nTrue",
         "failure_message": "There must be at least 30 elements in 'period20a'.",
         "hidden": false,
         "locked": false,
         "points": 1
        }
       ],
       "scored": true,
       "setup": "",
       "teardown": "",
       "type": "doctest"
      }
     ]
    },
    "q2.3": {
     "name": "q2.3",
     "points": null,
     "suites": [
      {
       "cases": [
        {
         "code": ">>> # Test if period is an array\n>>> type(T20avg) == float\nTrue",
         "failure_message": "T20avg must be a floating point number (i.e. T20avg = 1.12).",
         "hidden": false,
         "locked": false,
         "points": 0
        },
        {
         "code": ">>> # Test if period is an array\n>>> type(dT20) == float\nTrue",
         "failure_message": "dT20 must be a floating point number (i.e. dT20 = 0.08).",
         "hidden": false,
         "locked": false,
         "points": 0
        }
       ],
       "scored": true,
       "setup": "",
       "teardown": "",
       "type": "doctest"
      }
     ]
    },
    "q3.1": {
     "name": "q3.1",
     "points": null,
     "suites": [
      {
       "cases": [
        {
         "code": ">>> # Test if period is an array\n>>> type(period20b).__module__ == np.__name__\nTrue",
         "failure_message": "period20b must be an array (i.e. period20b = np.array([1.23, 1.12, 1.34, ...])).",
         "hidden": false,
         "locked": false,
         "points": 0
        },
        {
         "code": ">>> # Test if period is an array\n>>> len(period20) >= 60\nTrue",
         "failure_message": "There must be at least 60 elements in 'period20'.",
         "hidden": false,
         "locked": false,
         "points": 1
        }
       ],
       "scored": true,
       "setup": "",
       "teardown": "",
       "type": "doctest"
      }
     ]
    },
    "q4.2": {
     "name": "q4.2",
     "points": null,
     "suites": [
      {
       "cases": [
        {
         "code": ">>> # Test if period is an array\n>>> type(period20c).__module__ == np.__name__\nTrue",
         "failure_message": "period20c must be an array (i.e. period20c = np.array([1.23, 1.12, 1.34, ...])).",
         "hidden": false,
         "locked": false,
         "points": 0
        },
        {
         "code": ">>> # Test if period is an array\n>>> len(period20c) >= 30\nTrue",
         "failure_message": "There must be at least 30 elements in 'period20c'.",
         "hidden": false,
         "locked": false,
         "points": 1
        }
       ],
       "scored": true,
       "setup": "",
       "teardown": "",
       "type": "doctest"
      }
     ]
    }
   }
  },
  "vscode": {
   "interpreter": {
    "hash": "b870ad910a049d8ae52495743c7bc32c2e217ef524f139ca97c6947f4622129b"
   }
  }
 },
 "nbformat": 4,
 "nbformat_minor": 5
}
