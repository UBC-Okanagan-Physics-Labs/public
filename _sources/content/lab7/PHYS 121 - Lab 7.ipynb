{
 "cells": [
  {
   "cell_type": "markdown",
   "id": "a428ac10",
   "metadata": {
    "deletable": false,
    "editable": false,
    "tags": []
   },
   "source": [
    "# <div style=\"background-color:rgba(204, 229, 255, 0.5); text-align:center; vertical-align: middle; padding:40px 0; margin-top:30px\"><span style=\"color:rgba(0, 76, 153, 1);\">**PHYS 121 Lab #7**<span style=\"color:red\"> $\\to$ (12 possible marks)</span> </span></div> \n",
    "\n",
    "<font size =\"4\"><span style=\"color:purple\">We recommend that you complete this notebook using either the [Google Chrome](https://www.google.com/intl/en_ca/chrome/) or [Mozilla Firefox](https://www.mozilla.org/en-CA/firefox/new/) browser.  Chrome and Firefox are both available for Windows, Mac, and Linux operating systems.  The PHYS 121 Jupyter notebooks should work in other browsers, but we have specifically verfied that they work well in both Chrome and Firefox.</span></font>\n",
    "\n",
    "# Earth's Magnetic Field"
   ]
  },
  {
   "cell_type": "markdown",
   "id": "5dd8cc12",
   "metadata": {
    "deletable": false,
    "editable": false,
    "tags": []
   },
   "source": [
    "***\n",
    "## Learning Objectives:\n",
    "* <b><span style=\"color:rgba(0, 153, 76, 1);\"> Measure the properties of Earth's magnetic field at our position on Earth's surface. </span></b>\n",
    "* <b><span style=\"color:rgba(0, 153, 76, 1);\"> Determine how the strength of the magnetic field varies along the length of a solenoid supplied with a constant current.  </span></b>"
   ]
  },
  {
   "cell_type": "markdown",
   "id": "31ce6fa0",
   "metadata": {
    "deletable": false,
    "editable": false,
    "tags": []
   },
   "source": [
    "***\n",
    "## Autograding:\n",
    "The PHYS 121 Pre-lab assignments and Labs will make use of some autograding.  To make the autograding work, the two cells below needs to be executed.  The first one installs the required packages and the second imports required packages/modules.  If 'PHYS121.Installer()' reports that some functions have been installed, the user should restart the \"kernel\" and then exectute the PHYS121.Installer() cell a second time.  The second time the installer function is run, it should report that **\"All packages already installed. Please proceed\"**.\n",
    "\n",
    "If necessary, the kernel can be restarted by selecting **Kernel** $\\to$ **Restart Kernel** from the menu options at to the top of the page.  Here is a <a href = \"https://raw.githubusercontent.com/UBC-Okanagan-Physics-Labs/PHYS-121-images/main/general/gifs/restartKernel.gif\">GIF</a> showing how to restart the kernel.\n",
    "\n",
    "The 'PHYS121.Installer()' command requires the file 'PHYS121.py', which you should see included in the list of files along the left-hand side of the screen."
   ]
  },
  {
   "cell_type": "code",
   "execution_count": null,
   "id": "33fbc31f",
   "metadata": {
    "deletable": false,
    "editable": false,
    "tags": []
   },
   "outputs": [],
   "source": [
    "# Import PHYS121.py and then run the installer function.\n",
    "import PHYS121\n",
    "PHYS121.Installer()"
   ]
  },
  {
   "cell_type": "code",
   "execution_count": null,
   "id": "63f9943c",
   "metadata": {
    "deletable": false,
    "editable": false,
    "tags": []
   },
   "outputs": [],
   "source": [
    "# Initialize Otter\n",
    "import otter\n",
    "grader = otter.Notebook(\"PHYS 121 - Lab 7.ipynb\")"
   ]
  },
  {
   "cell_type": "markdown",
   "id": "cde22a31",
   "metadata": {
    "deletable": false,
    "editable": false,
    "tags": []
   },
   "source": [
    "***\n",
    "## Import Modules:\n",
    "Execute the cell below to import a number of useful pre-built Python modules that will be used in the PHYS 121 pre-labs and labs."
   ]
  },
  {
   "cell_type": "code",
   "execution_count": null,
   "id": "e5a2163b",
   "metadata": {},
   "outputs": [],
   "source": [
    "import numpy as np\n",
    "import matplotlib.pyplot as plt\n",
    "import pandas as pd\n",
    "from matplotlib.pyplot import cm # used to generate a sequence of colours for plotting\n",
    "from scipy.optimize import curve_fit\n",
    "from IPython.display import HTML as html_print\n",
    "from IPython.display import display, Markdown, Latex\n",
    "from IPython.display import YouTubeVideo\n",
    "import math"
   ]
  },
  {
   "cell_type": "markdown",
   "id": "4f59c64d",
   "metadata": {
    "deletable": false,
    "editable": false,
    "tags": []
   },
   "source": [
    "# <div style=\"background-color:rgba(255, 204, 255, 0.5); text-align:center; vertical-align: middle; padding:40px 0; margin-top:30px\"><span style=\"color:rgba(102, 0, 204, 1);\">Name & Student Number</span></div>  \n",
    "\n",
    "To ensure that both you and your partner receive credit for you lab work, both your name and student number and your partner's name and student number need to appear in the notebooks used during the labs.  In the cells below this text, enter your name and student number and your partner's name and student number as strings (i.e. place your names and student numbers between single or double quotes.\n",
    "\n",
    "Examples of valid entries are:\n",
    "```python\n",
    "last_name_1 = 'Doe'\n",
    "first_name_1 = 'Jane'\n",
    "student_number_1 = '12345678'\n",
    "```\n",
    "and\n",
    "```python\n",
    "last_name_1 = \"Doe\"\n",
    "first_name_1 = \"John\"\n",
    "student_number_1 = \"12345678\"\n",
    "```"
   ]
  },
  {
   "cell_type": "markdown",
   "id": "05e8ec9f",
   "metadata": {
    "deletable": false,
    "editable": false,
    "tags": []
   },
   "source": [
    "<!-- BEGIN QUESTION -->\n",
    "\n",
    "***\n",
    "### **<span style=\"color:blue\">Partner #1</span>** **<span style=\"color:red\">(0.5 marks)</span>** "
   ]
  },
  {
   "cell_type": "code",
   "execution_count": null,
   "id": "950a51e5",
   "metadata": {
    "tags": []
   },
   "outputs": [],
   "source": [
    "# Enter LAST name of partner 1.  Delete the ... below and type your entry between the single quotes.\n",
    "# Once you've completed your entry, press SHIFT + ENTER to execute the cell.\n",
    "# *** Please do not change anything to the left of the equals sign. ***\n",
    "last_name_1 = ..."
   ]
  },
  {
   "cell_type": "code",
   "execution_count": null,
   "id": "59179865",
   "metadata": {
    "tags": []
   },
   "outputs": [],
   "source": [
    "# Enter FIRST name of partner 1.  Delete the ... below and type your entry between the single quotes.\n",
    "# Once you've completed your entry, press SHIFT + ENTER to execute the cell.\n",
    "# *** Please do not change anything to the left of the equals sign. ***\n",
    "first_name_1 = ..."
   ]
  },
  {
   "cell_type": "code",
   "execution_count": null,
   "id": "c1c541cd",
   "metadata": {
    "tags": []
   },
   "outputs": [],
   "source": [
    "# Enter STUDENT NUMBER of partner 1.  Delete the ... below and type your entry between the single quotes.\n",
    "# Once you've completed your entry, press SHIFT + ENTER to execute the cell.\n",
    "# *** Please do not change anything to the left of the equals sign. ***\n",
    "student_number_1 = ..."
   ]
  },
  {
   "cell_type": "markdown",
   "id": "79b39416",
   "metadata": {
    "deletable": false,
    "editable": false,
    "tags": []
   },
   "source": [
    "***\n",
    "### **<span style=\"color:blue\">Partner #2</span>** **<span style=\"color:red\">(0.5 marks)</span>** \n",
    "If you are working on your own, leave all of last_name_2, first_name_2, and student_number_2 as ...  Please still exectute these cells and then run the 'grader.check(\"name_and_student_number_2\")' cell."
   ]
  },
  {
   "cell_type": "code",
   "execution_count": null,
   "id": "5117a26d",
   "metadata": {
    "tags": []
   },
   "outputs": [],
   "source": [
    "# Enter LAST name of partner 2.  Delete the ... below and type your entry between the single quotes.\n",
    "# Once you've completed your entry, press SHIFT + ENTER to execute the cell.\n",
    "# *** Please do not change anything to the left of the equals sign. ***\n",
    "last_name_2 = ..."
   ]
  },
  {
   "cell_type": "code",
   "execution_count": null,
   "id": "674bc9d1",
   "metadata": {
    "tags": []
   },
   "outputs": [],
   "source": [
    "# Enter FIRST name of partner 2.  Delete the ... below and type your entry between the single quotes.\n",
    "# Once you've completed your entry, press SHIFT + ENTER to execute the cell.\n",
    "# *** Please do not change anything to the left of the equals sign. ***\n",
    "first_name_2 = ..."
   ]
  },
  {
   "cell_type": "code",
   "execution_count": null,
   "id": "b57ffb14",
   "metadata": {
    "tags": []
   },
   "outputs": [],
   "source": [
    "# Enter STUDENT NUMBER of partner 2.  Delete the ... below and type your entry between the single quotes.\n",
    "# Once you've completed your entry, press SHIFT + ENTER to execute the cell.\n",
    "# *** Please do not change anything to the left of the equals sign. ***\n",
    "student_number_2 = ..."
   ]
  },
  {
   "cell_type": "code",
   "execution_count": null,
   "id": "d2bf67d2",
   "metadata": {
    "deletable": false,
    "editable": false
   },
   "outputs": [],
   "source": [
    "PHYS121.graderCheck([last_name_1, first_name_1, student_number_1, last_name_2, first_name_2, student_number_2], ['last_name_1', 'first_name_1', 'student_number_1', 'last_name_2', 'first_name_2', 'student_number_2'], grader.check('name_and_student_number'))"
   ]
  },
  {
   "cell_type": "markdown",
   "id": "24fdfc62",
   "metadata": {
    "deletable": false,
    "editable": false,
    "tags": []
   },
   "source": [
    "<!-- END QUESTION -->\n",
    "\n",
    "# <div style=\"background-color:rgba(255, 204, 255, 0.5); text-align:center; vertical-align: middle; padding:40px 0; margin-top:30px\"><span style=\"color:rgba(102, 0, 204, 1);\">Part 1 - Introduction (10 minutes)</span></div>\n",
    "\n",
    "In 1820, the Danish physicist Hans Christian Ørsted observed that a compass needle is deflected when it is placed near a current-carrying wire.  **Figure 1** deomstrates this effect.  **Figure 1(c)** shows that a downwards current $I$ produces a magnetic field that encircles the wire in the clockwise sense. \n",
    "\n",
    "<p>\n",
    "<center>\n",
    "(a) <img src=\"https://raw.githubusercontent.com/UBC-Okanagan-Physics-Labs/PHYS-121-images/main/Lab-7/images/setup.jpg\" alt=\"Setup\" style=\"width: 30%; height: auto;\" /> (b) <img src=\"https://raw.githubusercontent.com/UBC-Okanagan-Physics-Labs/PHYS-121-images/main/Lab-7/images/zeroCurrent.jpg\" alt=\"Setup\" style=\"width: 30%; height: auto;\" /> (c) <img src=\"https://raw.githubusercontent.com/UBC-Okanagan-Physics-Labs/PHYS-121-images/main/Lab-7/images/nonzeroCurrent.png\" alt=\"Setup\" style=\"width: 30%; height: auto;\" /><br>\n",
    "<b>Fig. 1: (a) A simple setup to demonstrate that currents deflect the needle of a compass. (b) With the wires disconnected from the battery, there is no current in the green coil of wire.  In this case, all the compass needles align with Earth's magnetic field and point in the same direction.  (c) When the battery is connected, the compass needles are deflected and show that the current establishes a magnetic field that loops around the green coil of wire.  Figures taken and adapted from <a href =\"https://www.exploratorium.edu/snacks/circles-of-magnetism\">Exploratorium</a>.</b></center>\n",
    "</p>\n",
    "\n",
    "This observation hinted towards a deep connection between electricity and magnetism, which would be vigourously investigated through the rest of the 19th century. Described mathematically by Maxwell in 1865 and verified experimentally by Hertz in the late 1880s and 90s, the theory of **electromagnetism** is succiently summarized by Maxwell's equations.  One of Maxwell's equations, also known as Ampère's law, allows us to calculate the magnetic field due to various current distributions.  The version of Ampère's law that we'll use in PHYS 121 is:\n",
    "\n",
    "$$\n",
    "\\oint \\vec{B}\\cdot d\\vec{s} = \\mu_0 I_\\mathrm{encl}\n",
    "$$\n",
    "\n",
    "In today's lab we will be using a solenoid which is simply a coil of wire (shown in cross-section in **Fig. 2**).  Ampère's law can be used to determine the magnetic field established by a solenoid carrying current $I$.  For this lab, you will need to know:\n",
    "- Currents are a source of magnetic fields  \n",
    "- For a solenoid with $N$ turns of wire over a length $L$, the magnetic field in the bore is approximately uniform and given by $B_\\mathrm{S} = \\mu_0 n I$  \n",
    "- $n = N/L$ is the density of turns, $\\mu_0 = 4\\pi\\times 10^{-7}\\rm\\ N/A^2$ is a constant called the permeability of free space, and $I$ is the current supplied to the solenoid\n",
    "\n",
    "**Figure 2** below reproduces one of the figures from the pre-lab.  The image on the left depicts the profile of the magnetic field due to a real solenoid.  When a solenoid is long compared to its radius, the magnetic field within the bore is approximately uniform and it is approximately zero everywhere else.\n",
    "\n",
    "<p>\n",
    "<center>\n",
    "<img src=\"https://raw.githubusercontent.com/UBC-Okanagan-Physics-Labs/PHYS-121-images/main/Lab-7/images/uniformB.jpg\" alt=\"Uniform magnetic field\" style=\"width: 100%; height: auto;\" /><br>\n",
    "    <b>Fig. 2: The magnetic field inside a solenoid carrying current $I$ is approximately uniform.  Figure adapted from <a href =\"https://commons.wikimedia.org/wiki/File:VFPt_magnet_B_currents.svg\">Wikimedia Commons</a>.</b>\n",
    "</center>\n",
    "</p>"
   ]
  },
  {
   "cell_type": "markdown",
   "id": "05662352",
   "metadata": {
    "deletable": false,
    "editable": false,
    "tags": []
   },
   "source": [
    "# <div style=\"background-color:rgba(255, 204, 255, 0.5); text-align:center; vertical-align: middle; padding:40px 0; margin-top:30px\"><span style=\"color:rgba(102, 0, 204, 1);\">Part 2 - Measuring Earth's Magnetic Field (75 minutes)</span></div>"
   ]
  },
  {
   "cell_type": "markdown",
   "id": "97dd0ed8",
   "metadata": {
    "deletable": false,
    "editable": false,
    "tags": []
   },
   "source": [
    "The main components of the apparatus that you'll use for today's experiment are shown in schematically **Fig. 3**.  \n",
    "\n",
    "<p>\n",
    "<center>\n",
    "<img src=\"https://raw.githubusercontent.com/UBC-Okanagan-Physics-Labs/PHYS-121-images/main/Lab-7/images/solenoid_Iweak.jpg\" alt=\"Compass in a solenoid\" style=\"width: 40%; height: auto;\" /><br>\n",
    "    <b>Fig. 3: A compass inside a solenoid carrying current $I$.  $\\vec{B}_\\parallel$ is the component of Earth's magnetic field that is parallel to the Earth's surface.  $\\vec{B}_\\mathrm{S}$ is the magnetic field due to the solenoid.  Figure adapted from images taken from <a href =\"https://freesvg.org/compass-simple\">FreeSVG</a> and <a href =\"https://commons.wikimedia.org/wiki/File:VFPt_magnet_B_currents.svg\">Wikimedia Commons</a>.</b>\n",
    "</center>\n",
    "</p>\n",
    "\n",
    "The full apparatus includes: \n",
    "- A solenoid wrapped around a square, clear plastic tube.  The spacing of the windings allows you to see inside the bore of the solenoid.  \n",
    "- A compass mounted on a plastic block and ruler.  This assembly fits inside the bore of the solenoid.  \n",
    "- A power supply and a series resistor that are used to supply a current to the solenoid.  The purpose of the resistor is to limit the maximum value of the current.  \n",
    "- A multimeter that is used to measure the current.  \n",
    "- A board that keeps the solenoid fixed in position with its axis perpendicular to the parallel component of Earth's magnetic field $\\vec{B}_\\parallel$.  \n",
    "- The board is also used to mount a cell phone above the solenoid.  The phone will be used to take photos of compass in order to track its orientation as the solenoid current $I$ is varied.\n",
    "- A ruler that can be used to measure the length of the solenoid.\n",
    "\n",
    "Recall from the pre-lab that the compass needle will point in the direction of the net magnetic field:\n",
    "\n",
    "$$\n",
    "\\vec{B}_\\mathrm{net} = \\vec{B}_\\parallel + \\vec{B}_\\mathrm{S}\n",
    "$$\n",
    "\n",
    "As shown in **Fig. 4**, $\\vec{B}_\\mathrm{net}$ (and, therefore, the compass needle) is rotated away from the direction of $\\vec{B}_\\parallel$ by an angle $\\varphi$.\n",
    "\n",
    "<p>\n",
    "<center>\n",
    "<img src=\"https://raw.githubusercontent.com/UBC-Okanagan-Physics-Labs/PHYS-121-images/88d9af546afda3e79595c660bfa532e7a6f72b53/Lab-7/images/btot.svg\" style=\"width: 22.5%\" /><br>\n",
    "<b>Fig. 4: The net magnetic field is given by superposition of the parallel component of Earth's magnetic field $\\vec{B}_\\parallel$ and the solenoid's magnetic field $\\vec{B}_\\mathrm{S}$.</b>\n",
    "</center>\n",
    "</p>\n",
    "\n",
    "From the geometry of the figure, $\\tan(\\varphi) = B_\\mathrm{S}/B_\\parallel$.  Substituting $B_\\mathrm{S} = \\mu_0 n I$ results in:\n",
    "\n",
    "$$\n",
    "\\tan(\\varphi) = \\left(\\frac{\\mu_0 n}{B_\\parallel}\\right)I\n",
    "\\tag{1}\n",
    "$$\n",
    "\n",
    "such that a plot of $\\tan(\\varphi)$ versus $I$ is linear with its slope $m$ given by:\n",
    "\n",
    "$$\n",
    "m = \\frac{\\mu_0 n}{B_\\parallel}\n",
    "\\tag{2}\n",
    "$$\n",
    "\n",
    "You should pause and reflect on the implications of this analysis:\n",
    "\n",
    "> **Using some simple mathematics and well-known physical laws, you obtained an expression for a quantity of interest ($B_\\parallel$) in terms of a small number of quantities ($n$ and $m$) that can be determined experimentally.** \n",
    "\n",
    "As experimentalists, this is the kind of result we *love* to see. It suggests a clear course of action - to measure $B_\\parallel$ due to the magnetic field of the Earth, we need to:\n",
    "- measure the angle $\\varphi$ of the compass needle as a function of the current $I$ in the solenoid\n",
    "- determine $m$ from the slope of the $\\tan\\varphi$ versus $I$ dataset\n",
    "- determine $n = N/L$, where $N$ is the number of loops of wire in the solenoid and $L$ is the length of the solenoid\n",
    "- finally, calculate magnitude of the parallel compenent of Earth's magnetic field using $B_\\parallel = \\mu_0 n/m$ from Eq. (2)"
   ]
  },
  {
   "cell_type": "markdown",
   "id": "22b12d6a",
   "metadata": {
    "deletable": false,
    "editable": false,
    "tags": []
   },
   "source": [
    "<!-- BEGIN QUESTION -->\n",
    "\n",
    "***\n",
    "**<span style=\"color:blue\">Question 2.1</span>** **<span style=\"color:red\">(1 mark)</span>**  \n",
    "\n",
    "From $B_\\mathrm{S} = \\mu_0 n I$, we see that the magnetic field in the solenoid depends on the turn density $n$, which will vary from solenoid to solenoid. Count the number of turns $N$ of your solenoid and use a ruler to measure its length $L$ in meters. Use the provided code cell below to assign your measurement values to the variables $N$ and $L$. Then, define the density of turns $n$ equal to be $N$ divided by $L$. "
   ]
  },
  {
   "cell_type": "markdown",
   "id": "31eed74a-98e8-4807-924b-f841e8f99732",
   "metadata": {
    "deletable": false,
    "editable": false,
    "tags": []
   },
   "source": [
    "***\n",
    "**<span style=\"color:blue\">Answer 2.1:</span>**\n",
    "\n",
    "Replace the instances of ... in the cell below with your answers.  \n",
    "\n",
    "*** Please do not change anything to the left of the equals sign. ***"
   ]
  },
  {
   "cell_type": "code",
   "execution_count": null,
   "id": "40584463",
   "metadata": {
    "tags": []
   },
   "outputs": [],
   "source": [
    "# Make sure to enter the length of the solenoid in units of meters.\n",
    "L = ...\n",
    "N = ...\n",
    "n = ..."
   ]
  },
  {
   "cell_type": "code",
   "execution_count": null,
   "id": "e97a1e9a",
   "metadata": {
    "deletable": false,
    "editable": false
   },
   "outputs": [],
   "source": [
    "PHYS121.graderCheck([L, N, n], ['L', 'N', 'n'], grader.check('q2.1'))"
   ]
  },
  {
   "cell_type": "markdown",
   "id": "6c125d98",
   "metadata": {
    "deletable": false,
    "editable": false,
    "tags": []
   },
   "source": [
    "<!-- END QUESTION -->\n",
    "\n",
    "***\n",
    "\n",
    "Place the compass at the midpoint of your solenoid. Without any current passing through your solenoid, orient your apparatus on your table so that magnetic north is perpendicular to the axis of the solenoid. You should be careful to get this as *close* to $90^\\circ$ as possible! Your expression from pre-lab will not hold if the angle between the axis and the local field varies significantly from $90^\\circ$.  Also avoid placing any magnetic objects (such as a piece of iron or steel) in the vicinity of your apparatus. \n",
    "\n",
    "Using the provided phone, take pictures of the compass needle as you vary the current. You should take at least $12$ photos to get a good dataset. For example, you could start with the DC power supply turned off and then increment the current by $30\\rm\\ mA$ until you reach $180\\rm\\ mA$.  You could then reverse the direction of current and then repeat the sequence of measurements.  If the first set of measurements corresponds to positive currents and positive angles $\\varphi$, then the measurements taken after reversing the current direction will correspond to negative values of $I$ and $\\varphi$.  You may want to write the current on a piece of paper in view of the camera to help organize the results later. Once you've taken your photos, transfer them to the lab computer or to the personal device that you're using to complete the lab. The photos will be in a folder on the phone called \"DCIM\".\n",
    "\n",
    "> **After transferring the photos to a computer, please delete ALL images from the phone.  When you're done the image gallery on the phone should be completely EMPTY.**\n",
    "\n",
    "> **Please do NOT change the wallpaper or lock screen images on the phone.**\n",
    "***"
   ]
  },
  {
   "cell_type": "markdown",
   "id": "4a1c1515",
   "metadata": {
    "deletable": false,
    "editable": false,
    "tags": []
   },
   "source": [
    "The GIF below shows one possible method for measuring the angle of the compass needle. However, you are welcome to use your own method if you and your partner come up with one yourselves (and we're all ears if you have a good idea!).  If you like, here is a link to a <a href = \"https://youtu.be/YjZgsYcsfCU\">YouTube video</a> showing the same contents as the GIF. The YouTube video allows you to speed up, slow down, or pause the video as needed.  \n",
    "\n",
    "A copy of the protractor image used in the GIF is among the files listed along the left-had side of the screen.  The file is called \"Protractor.svg\".  You can download this file by right-clicking on the file name and selecting \"<img src=\"https://raw.githubusercontent.com/UBC-Okanagan-Physics-Labs/PHYS-121-images/main/Lab-7/images/downlaod.png\" alt=\"Download Icon\" style=\"width: 0.8%; height: auto; display: inline;\" /> Download\".  The same file can also be downloaded directly from <a href = \"https://commons.wikimedia.org/wiki/File:Protractor1.svg\">Wikimedia Commons</a>.\n",
    "\n",
    "<p>\n",
    "<center>\n",
    "<img src=\"https://github.com/UBC-Okanagan-Physics-Labs/PHYS-121-images/blob/main/Lab-7/gifs/magmeas_slow.gif?raw=true\" style=\"width: 85%\" />\n",
    "</center>\n",
    "</p>"
   ]
  },
  {
   "cell_type": "markdown",
   "id": "31b1aaff",
   "metadata": {
    "deletable": false,
    "editable": false,
    "tags": []
   },
   "source": [
    "***\n",
    "**<span style=\"color:blue\">Question 2.2</span>** **<span style=\"color:red\">(2 marks)</span>**  \n",
    "\n",
    "Use the code cell below to load your data into a DataFrame. \n",
    "* **The tangent function in numpy assumes that $\\varphi$ is in radians.** \n",
    "* You can call the radian function using ```np.radians(YOUR_NUMPY_ARRAY)``` and the numpy tan function using ```np.tan(YOUR_NUMPY_ARRAY)```."
   ]
  },
  {
   "cell_type": "markdown",
   "id": "712119fb-cc2a-4634-b145-13ccea8d28b5",
   "metadata": {
    "deletable": false,
    "editable": false,
    "tags": []
   },
   "source": [
    "***\n",
    "**<span style=\"color:blue\">Answer 2.2:</span>** \n",
    "\n",
    "Replace the instances of ... in the cell below with your solutions.\n",
    "\n",
    "*** Please do not change anything to the left of the equals sign. ***"
   ]
  },
  {
   "cell_type": "code",
   "execution_count": null,
   "id": "56c76d94",
   "metadata": {
    "tags": []
   },
   "outputs": [],
   "source": [
    "\n",
    "# Enter the data\n",
    "I = np.array([...])\n",
    "phi = np.array([...])\n",
    "\n",
    "# Calculate tan(phi)\n",
    "tanPhi = np.tan(np.radians(phi))\n",
    "\n",
    "# Create the DataFrame\n",
    "df = pd.DataFrame({\"I\" : I,\n",
    "                    \"phi\" : phi,\n",
    "                    \"tanPhi\" : tanPhi\n",
    "                   })\n",
    "\n",
    "# Display the DataFrame\n",
    "df"
   ]
  },
  {
   "cell_type": "code",
   "execution_count": null,
   "id": "95423c41",
   "metadata": {
    "deletable": false,
    "editable": false
   },
   "outputs": [],
   "source": [
    "PHYS121.graderCheck([I, phi, tanPhi], ['I', 'phi', 'tanPhi'], grader.check('q2.2'))"
   ]
  },
  {
   "cell_type": "markdown",
   "id": "f54ee1b8",
   "metadata": {
    "deletable": false,
    "editable": false,
    "tags": []
   },
   "source": [
    "<!-- BEGIN QUESTION -->\n",
    "\n",
    "***\n",
    "**<span style=\"color:blue\">Question 2.3</span>** **<span style=\"color:red\">(1 mark)</span>**  \n",
    "\n",
    "Use the 'LinearFit()' function from PHYS121.py to plot $\\tan(\\varphi)$ versus $I$ and fit a straight line to the data."
   ]
  },
  {
   "cell_type": "markdown",
   "id": "84c2bf9b-aadf-4443-8c7d-e19f66f41ded",
   "metadata": {
    "deletable": false,
    "editable": false,
    "tags": []
   },
   "source": [
    "***\n",
    "**<span style=\"color:blue\">Answer 2.3:</span>**\n",
    "\n",
    "Fill in the missing data needed when calling the 'LinearFit()' function.  Remember that the 'LinearFit()' function accepts arrays or lists as inputs - to call a column from a DataFrame as a list, use the syntax:\n",
    "```python\n",
    "df[\"Column Name\"]\n",
    "```\n",
    "\n",
    "For additional information about the 'LinearFit()' function, see **Appendix A** near the end of this notebook.   \n",
    "\n",
    "*** Please do not change anything to the left of the equals sign. ***"
   ]
  },
  {
   "cell_type": "code",
   "execution_count": null,
   "id": "6ed7892b",
   "metadata": {
    "tags": []
   },
   "outputs": [],
   "source": [
    "# Perform your unweighted linear fit here, using the vectors you defined in the previous cell.\n",
    "PHYS121.LinearFit(xData = ...,\n",
    "                yData = ...,\n",
    "                xlabel = \"Current (A)\",\n",
    "                ylabel = \"tan(\\u03d5)\"\n",
    "                );"
   ]
  },
  {
   "cell_type": "markdown",
   "id": "fadd3376",
   "metadata": {
    "deletable": false,
    "editable": false,
    "tags": []
   },
   "source": [
    "<!-- END QUESTION -->\n",
    "\n",
    "***\n",
    "**<span style=\"color:blue\">Question 2.4</span>** **<span style=\"color:red\">(1 mark)</span>**  \n",
    "\n",
    "Finally, in the cell below, calculate $B_\\parallel$ and $\\delta B_\\parallel$ using the slope from **<span style=\"color:blue\">Answer 2.3</span>** above and Eq. (2). You may assume that the uncertainty in $n$ is negligible. The cell below also stores the value of:\n",
    "\n",
    "$$\n",
    "\\mu_0 = 4\\pi\\times 10^{-7}\\rm\\ N/A^2\n",
    "$$\n",
    "\n",
    "in the variable `u0`.  You can use this variable when calculating $B_\\parallel$ and its uncertainty $\\Delta B_\\parallel$."
   ]
  },
  {
   "cell_type": "markdown",
   "id": "7418835e-f8f1-4439-8a20-84fed88d0e48",
   "metadata": {
    "deletable": false,
    "editable": false,
    "tags": []
   },
   "source": [
    "***\n",
    "**<span style=\"color:blue\">Answer 2.4:</span>**  \n",
    "\n",
    "Replace the instances of ... in the cell below with your solutions.\n",
    "\n",
    "*** Please do not change anything to the left of the equals sign. ***"
   ]
  },
  {
   "cell_type": "code",
   "execution_count": null,
   "id": "510d1c1c",
   "metadata": {
    "tags": []
   },
   "outputs": [],
   "source": [
    "# Store the value of the permeability of free space in the variable u0.\n",
    "u0 = 4e-7*np.pi # N/A^2\n",
    "\n",
    "# Enter your slope and its uncertainty.\n",
    "m = ...\n",
    "dm = ...\n",
    "\n",
    "# Calculate Bparallel and its uncertainty.\n",
    "Bparallel = ...\n",
    "dBparallel = ...\n",
    "\n",
    "print(f\"Bparallel = {Bparallel:.2e} +/- {dBparallel:.1e} T\")"
   ]
  },
  {
   "cell_type": "code",
   "execution_count": null,
   "id": "2e4a8eed",
   "metadata": {
    "deletable": false,
    "editable": false
   },
   "outputs": [],
   "source": [
    "PHYS121.graderCheck([m, dm, Bparallel, dBparallel], ['m', 'dm', 'Bparallel', 'dBparallel'], grader.check('q2.4'))"
   ]
  },
  {
   "cell_type": "markdown",
   "id": "ef99eab4",
   "metadata": {
    "deletable": false,
    "editable": false,
    "tags": []
   },
   "source": [
    "# <div style=\"background-color:rgba(255, 204, 255, 0.5); text-align:center; vertical-align: middle; padding:40px 0; margin-top:30px\"><span style=\"color:rgba(102, 0, 204, 1);\">Part 3 - Magnetic Inclination (25 minutes)</span></div>\n",
    "\n",
    "Everything thing we've done so far assumes that Earth's magnetic field is completely parallel to the surface of Earth. The direction of the actual magnetic field depends on where you are on the surface of the Earth. The angle $\\theta_\\mathrm{I}$ between the direction of $\\vec{B}_\\mathrm{Earth}$ and the Earth's surface is called the **magnetic inclination** (or **magnetic dip**). The magnetic inclination as a function of position on the Earth is illustrated in **Fig. 5**.\n",
    "\n",
    "<p>\n",
    "<center>\n",
    "<img src=\"https://raw.githubusercontent.com/UBC-Okanagan-Physics-Labs/PHYS-121-images/80cd54616e3af4d304fed05c8f4858c898528d67/Lab-7/images/magincl.svg\" alt=\"Magnetic Inclination Map\" style=\"width: 100%; height: auto;\" /><br>\n",
    "<b>Fig. 5: Magnetic inclination at different points of the earth's surface. Source: <a href=\"http://www.ngdc.noaa.gov/geomag/WMM/image.shtml\">http://www.ngdc.noaa.gov/geomag/WMM/image.shtml</a> (Public domain)</b></center>\n",
    "</p>\n",
    "\n",
    "Perhaps somewhat counterintuitively, a positive value of the magnetic inclination $\\theta_\\mathrm{I}$ corresponds to $\\vec{B}_\\mathrm{Earth}$ that has a vertical component $\\vec{B}_\\perp$ that points towards the Earth's surface.  As shown in **Fig. 5**, $\\theta_\\mathrm{I}$ is generally positive in the Northern hemisphere (<span style=\"color:red\">red lines</span>) and negative in the Southern hemisphere (<span style=\"color:blue\">blue lines</span>).  Near the equator, $\\theta_\\mathrm{I}\\approx 0$ which corresponds to a $\\vec{B}_\\mathrm{Earth}$ that is parallel to Earth's surface (<span style=\"color:green\">green line</span>). \n",
    "\n",
    "**Figure 6** shows the geometry of the magnetic fields used in this lab.  There's a lot of information represented in the figure, so take a moment to make sure you fully digest all of the details.   \n",
    "\n",
    "<p>\n",
    "<center>\n",
    "<img src=\"https://raw.githubusercontent.com/UBC-Okanagan-Physics-Labs/PHYS-121-images/main/Lab-7/images/B_Earth_geometry.jpg\" alt=\"Magnetic Fields Geometry\" style=\"width: 40%; height: auto;\" /><br>\n",
    "<b>Fig. 6: Geometry of the magnetic fields relevant to this lab.  In this coordinate system, the $xy$-plane is parallel to Earth's surface.  The magnetic inclination $\\theta_\\mathrm{I}$ is positive such that $\\vec{B}_\\perp$ points towards the Earth's surface.</b></center>\n",
    "</p>\n",
    "\n",
    "In the figure, the $xy$-plane is parallel to Earth's surface (pink-shaded plane).  The $z$-axis is perpendicular to the surface and points away from the Earth.  The figure shows $\\vec{B}_\\mathrm{Earth}$ and its components $\\vec{B}_\\parallel$ and $\\vec{B}_\\perp$.  These three vectors form a plane (shaded grey) that is perpendicular to Earth's surface.  Because $\\vec{B}_\\perp$ points along the $-z$ direction (towards to Earth's surface), the figure corresponds to a location in the Northern hemishpere where the magnetic inclination $\\theta_\\mathrm{I}>0$.  $\\vec{B}_\\parallel$ is parallel to the Earth's surface and points *approximately* towards geographic north.  In **Part 2** of this lab, you measured the magnitude of $\\vec{B}_\\parallel$.  The figure also shows the magnetic field of the solenoid $\\vec{B}_\\mathrm{S}$ which we set up to be perpendicular to $\\vec{B}_\\parallel$.  The vector sum of these two vectors defines $\\vec{B}_\\mathrm{net}$:\n",
    "\n",
    "$$ \n",
    "\\vec{B}_\\mathrm{net} = \\vec{B}_\\parallel + \\vec{B}_\\mathrm{S} \n",
    "$$\n",
    "\n",
    "The three vectors $\\vec{B}_\\parallel$, $\\vec{B}_\\mathrm{S}$, and $\\vec{B}_\\mathrm{net}$ form another plane (shaded pink) that lies in the $xy$-plane/parallel to the Earth's surface.  These are also the same three vectors shown in **Figs. 3** and **4**.  In **Part 3** of this lab, you will use your measured value of $B_\\parallel$ and the known value of $B_\\mathrm{Earth}$ to determine the magnetic inclination $\\theta_\\mathrm{I}$ at our location on the Earth's surface.\n"
   ]
  },
  {
   "cell_type": "markdown",
   "id": "ad420b3f",
   "metadata": {
    "deletable": false,
    "editable": false,
    "tags": []
   },
   "source": [
    "<!-- BEGIN QUESTION -->\n",
    "\n",
    "***\n",
    "**<span style=\"color:blue\">Question 3.1</span>** **<span style=\"color:red\">(1 mark)</span>**  \n",
    "\n",
    "Go to https://www.ngdc.noaa.gov/geomag/calculators/magcalc.shtml and find the magnetic inclination, total magnetic field strength, and their associated uncertainties at our location. Report these values using the code cell below.  **Figure 7** and its caption give some tips on how to find the required information on the NOAA website.\n",
    "\n",
    "<p>\n",
    "<center>\n",
    "<img src=\"https://raw.githubusercontent.com/UBC-Okanagan-Physics-Labs/PHYS-121-images/main/Lab-7/images/NOAAwebsite.png\" alt=\"NOAA Website\" style=\"width: 80%; height: auto;\" /><br>\n",
    "<b>Fig. 7: Use the \"Magnetic Field\" and the latitude/longitude \"Lookup\" tool to find the required information.</b></center>\n",
    "</p>\n",
    "\n",
    "\n",
    "Note that, the angle will be denoted in terms of:\n",
    " - The angle to the nearest degree (eg. $15^\\circ$)\n",
    " - The number of arc minutes (eg. $48^\\prime$)\n",
    " - The number of arc seconds (eg. $16^{\\prime\\prime}$)\n",
    " \n",
    "To convert a number of arc minutes to a fraction of a degree, you divide the number of arc minutes by $60$.  Likewsie, to convert a number of arc seconds to degrees, you divide the number of arc seconds by $3600$.  So, for example, if an angle $\\beta$ is reported as:\n",
    "\n",
    "\\begin{align}\n",
    "\\beta = 15^\\circ\\,48^\\prime\\,16^{\\prime\\prime},\n",
    "\\end{align}\n",
    "\n",
    "then the anlge in degrees is given by:\n",
    "\n",
    "\\begin{align}\n",
    "\\beta = 15 + \\frac{48}{60} + \\frac{16}{3600} = 15.8044^\\circ.\n",
    "\\end{align}"
   ]
  },
  {
   "cell_type": "markdown",
   "id": "efc3884b-3c98-4eb4-9739-49e09a6c8dfb",
   "metadata": {
    "deletable": false,
    "editable": false,
    "tags": []
   },
   "source": [
    "***\n",
    "**<span style=\"color:blue\">Answer 3.1:</span>**\n",
    "\n",
    "Replace the instances of ... in the cell below with your answers.\n",
    "\n",
    "*** Please do not change anything to the left of the equals sign. ***"
   ]
  },
  {
   "cell_type": "code",
   "execution_count": null,
   "id": "03b067a9",
   "metadata": {
    "tags": []
   },
   "outputs": [],
   "source": [
    "# Report 'Total Field' as B_Earth (with the uncertainty) in Tesla, and 'Inclination' as incl (with the uncertainty) as degrees:\n",
    "B_Earth = ...\n",
    "dB_Earth = ...\n",
    "incl = ...\n",
    "dincl = ...\n",
    "\n",
    "# Display the results.\n",
    "print(f\"B_Earth = {B_Earth:.3e} +/- {dB_Earth:.1e} T\")\n",
    "print(f\"Inclination = {incl:.1f} +/- {dincl:.1f} degrees\")"
   ]
  },
  {
   "cell_type": "code",
   "execution_count": null,
   "id": "d39fe078",
   "metadata": {
    "deletable": false,
    "editable": false
   },
   "outputs": [],
   "source": [
    "PHYS121.graderCheck([m, dm, Bparallel, dBparallel], ['B_Earth', 'dB_Earth', 'incl', 'dincl'], grader.check('q3.1'))"
   ]
  },
  {
   "cell_type": "markdown",
   "id": "9fbc5edf",
   "metadata": {
    "deletable": false,
    "editable": false,
    "tags": []
   },
   "source": [
    "<!-- END QUESTION -->\n",
    "\n",
    "***\n",
    "**<span style=\"color:blue\">Question 3.2</span>**  **<span style=\"color:red\">(1 mark)</span>**  \n",
    "\n",
    "Using the code cell below, calculate the magnetic inclination (in units of degrees) using the measured value of $B_\\parallel$ and the value of $B_\\mathrm{Earth}$ that you found from the NOAA website. You can use ```np.arccos(x)``` to calculate $\\cos^{-1}(x)$ **in radians**."
   ]
  },
  {
   "cell_type": "markdown",
   "id": "70700063-6f78-4788-b367-c00c492ae2c4",
   "metadata": {
    "deletable": false,
    "editable": false,
    "tags": []
   },
   "source": [
    "***\n",
    "**<span style=\"color:blue\">Answer 3.2:</span>**\n",
    "\n",
    "Replace the ... with an expression that will calculate $\\theta_\\mathrm{I}$ in degrees.  Remember, in Python you can enter $\\pi$ as ```np.pi```.\n",
    "\n",
    "*** Please do not change anything to the left of the equals sign. ***"
   ]
  },
  {
   "cell_type": "code",
   "execution_count": null,
   "id": "3f191d04",
   "metadata": {
    "tags": []
   },
   "outputs": [],
   "source": [
    "incl_meas = ...\n",
    "\n",
    "# Display the results.\n",
    "print(f\"Experimentally-determined inclination angle = {incl_meas:.1f} degrees\")"
   ]
  },
  {
   "cell_type": "code",
   "execution_count": null,
   "id": "2f0faf43",
   "metadata": {
    "deletable": false,
    "editable": false
   },
   "outputs": [],
   "source": [
    "PHYS121.graderCheck([incl_meas], ['incl_meas'], grader.check('q3.2'))"
   ]
  },
  {
   "cell_type": "markdown",
   "id": "b5c1aa39",
   "metadata": {
    "deletable": false,
    "editable": false,
    "tags": []
   },
   "source": [
    "<!-- BEGIN QUESTION -->\n",
    "\n",
    "***\n",
    "**<span style=\"color:blue\">Question 3.3</span>**  **<span style=\"color:red\">(1 mark)</span>** \n",
    "\n",
    "Compare this experimentally-determined value for the inclination angle to the one you found online. Are they equal within the margin of error? Comment on the relative values and speculate about possible sources of discrepancies. "
   ]
  },
  {
   "cell_type": "code",
   "execution_count": null,
   "id": "ceb78a57-be7d-4ad3-be97-7e7675acff80",
   "metadata": {
    "deletable": false,
    "editable": false,
    "tags": []
   },
   "outputs": [],
   "source": [
    "# Press shift + enter in the cell so that the values of the inclination angle will appear in your submitted solutions.\n",
    "print(f\"Inclination found from the NOAA website = {incl:.1f} +/- {dincl:.1f} degrees\")\n",
    "print(f\"Experimentally-determined inclination angle = {incl_meas:.1f} degrees\")"
   ]
  },
  {
   "cell_type": "markdown",
   "id": "8e5dbc08",
   "metadata": {},
   "source": [
    "***\n",
    "**<span style=\"color:blue\">Answer 3.3:</span>**\n",
    "\n",
    "[//]: # (Please do not delete this comment or anything above it.  Anything below this comment can be deleted.)  \n",
    "\n",
    "Double click this cell and enter your text here.  When done, hit 'Shift' + 'Enter' to execute the cell.  You may delete this text when entering your answer. \n",
    "***"
   ]
  },
  {
   "cell_type": "markdown",
   "id": "e88cdc06",
   "metadata": {
    "deletable": false,
    "editable": false,
    "tags": []
   },
   "source": [
    "<!-- END QUESTION -->\n",
    "\n",
    "# <div style=\"background-color:rgba(255, 204, 255, 0.5); text-align:center; vertical-align: middle; padding:40px 0; margin-top:30px\"><span style=\"color:rgba(102, 0, 204, 1);\">Part 4 - Inhomogeneity of the Solenoid Magnetic Field (30 minutes)</span></div>"
   ]
  },
  {
   "cell_type": "markdown",
   "id": "ecad22f4",
   "metadata": {
    "deletable": false,
    "editable": false,
    "tags": []
   },
   "source": [
    "<!-- BEGIN QUESTION -->\n",
    "\n",
    "**<span style=\"color:blue\">Question 4.1</span>** **<span style=\"color:red\">(2 marks)</span>**  \n",
    "\n",
    "The expression $B_\\mathrm{S} = \\mu_0 n I$ gives an excellent approximation to the magnetic field at the centre of a solenoid. But what about the field at different points along the axis?  In this part of the lab, you will measure how the strength of $B_\\mathrm{S}$ varies along the length of the solenoid.\n",
    "\n",
    "To do this, you will:\n",
    " - Keep the current fixed at a constant value for the duration of the measurements.  Pick a current that causes the compass needle to rotate by about $60^\\circ$ when it is at the centre of the solenoid.\n",
    " - Call the center of the solenoid position $x = 0$ and the position at one of the ends $L/2$.  Measure the rotation angle for at least $8$ different positions between $x = 0\\rm\\ cm$ (the centre of the solenoid) and $x = 13\\rm\\ cm$ (just outside the solenoid)."
   ]
  },
  {
   "cell_type": "markdown",
   "id": "006d54a6-24f1-4c46-96d4-53d9980f34d0",
   "metadata": {
    "deletable": false,
    "editable": false,
    "tags": []
   },
   "source": [
    "***\n",
    "**<span style=\"color:blue\">Answer 4.1:</span>**\n",
    "\n",
    "Replace the instances of ... in the cell below with your data.\n",
    "\n",
    "*** Please do not change anything to the left of the equals sign. ***"
   ]
  },
  {
   "cell_type": "code",
   "execution_count": null,
   "id": "6113c6b7",
   "metadata": {
    "tags": []
   },
   "outputs": [],
   "source": [
    "x = np.array([...]) \n",
    "phi1 = np.array([...]) "
   ]
  },
  {
   "cell_type": "code",
   "execution_count": null,
   "id": "3a8de9a2",
   "metadata": {
    "deletable": false,
    "editable": false
   },
   "outputs": [],
   "source": [
    "PHYS121.graderCheck([x, phi1], ['x', 'phi1'], grader.check('q4.1'))"
   ]
  },
  {
   "cell_type": "markdown",
   "id": "62168340-69ec-4c07-af43-e5d23ae5fa65",
   "metadata": {
    "deletable": false,
    "editable": false,
    "tags": []
   },
   "source": [
    "<!-- END QUESTION -->\n",
    "\n",
    "The next code cell is used to symmetrize the data.  Specifically, we will assume measurements at $\\pm x$ values would reuslt in the same values of $\\phi$.  Of course, it would be best to actually measure $\\varphi$ separately for $x>0$ and $x<0$, but we have limited time...\n",
    "\n",
    "Note also that **Fig. 4** implies that:\n",
    "\n",
    "$$\n",
    "\\tan(\\varphi) = \\frac{B_\\mathrm{S}}{B_\\parallel}\n",
    "$$\n",
    "\n",
    "In other words, $\\tan(\\varphi)\\propto B_\\mathrm{S}$.  Therefore, a plot of $\\tan(\\varphi)$ versus $x$ will tell us how the stength of $B_\\mathrm{S}$ varies along the length of the solenoid.\n",
    "\n",
    "Execute the cell below to:\n",
    "- Symmetrize the data you collected  \n",
    "- Calculate $\\tan(\\varphi)$  \n",
    "- Load the data into a DataFrame"
   ]
  },
  {
   "cell_type": "code",
   "execution_count": null,
   "id": "cb973a77-e147-44ab-bec9-8f4c0894e728",
   "metadata": {
    "deletable": false,
    "editable": false,
    "tags": []
   },
   "outputs": [],
   "source": [
    "# Symmetrize the data\n",
    "x2 = np.concatenate((x, -x))\n",
    "phi2 = np.concatenate((phi1, phi1))\n",
    "\n",
    "# Calculate tan(phi)\n",
    "tanPhi2 = np.tan(np.radians(phi2))\n",
    "\n",
    "# Create the DataFrame\n",
    "df4 = pd.DataFrame({\"x\" : x2,\n",
    "                    \"phi\" : phi2,\n",
    "                    \"tanPhi\" : tanPhi2\n",
    "                   })\n",
    "\n",
    "# Display the DataFrame\n",
    "df4"
   ]
  },
  {
   "cell_type": "markdown",
   "id": "1b332a59",
   "metadata": {
    "deletable": false,
    "editable": false,
    "tags": []
   },
   "source": [
    "<!-- BEGIN QUESTION -->\n",
    "\n",
    "***\n",
    "**<span style=\"color:blue\">Question 4.2</span>** **<span style=\"color:red\">(1 mark)</span>**  \n",
    "\n",
    "Now, generate a scatter plot showing your values of $\\tan(\\varphi)\\propto B_\\mathrm{S}$ as a function of position $x$. Refer to **Appendix B** if you need a refresher on how to use the 'PHYS121.Scatter()' function."
   ]
  },
  {
   "cell_type": "markdown",
   "id": "fbc87c28-c7b9-440a-8f5c-c71837742416",
   "metadata": {
    "deletable": false,
    "editable": false,
    "tags": []
   },
   "source": [
    "***\n",
    "**<span style=\"color:blue\">Answer 4.2:</span>**\n",
    "\n",
    "Replace the instances of ... in the cell below with the required inputs.\n",
    "\n",
    "*** Please do not change anything to the left of the equals sign. ***"
   ]
  },
  {
   "cell_type": "code",
   "execution_count": null,
   "id": "c819ce91",
   "metadata": {
    "tags": []
   },
   "outputs": [],
   "source": [
    "fig = PHYS121.Scatter(xData = ...,\n",
    "                yData = ...,\n",
    "                xlabel = \"position (cm)\",\n",
    "                ylabel = \"tan(\\u03d5)\")"
   ]
  },
  {
   "cell_type": "markdown",
   "id": "6ab5f698",
   "metadata": {
    "deletable": false,
    "editable": false,
    "tags": []
   },
   "source": [
    "<!-- END QUESTION -->\n",
    "\n",
    "<!-- BEGIN QUESTION -->\n",
    "\n",
    "***\n",
    "**<span style=\"color:blue\">Question 4.3</span>** **<span style=\"color:red\">(1 mark)</span>**  \n",
    "\n",
    "Comment on your results. In particular, discuss *qualitatively* the field strength at the endpoints relative to the field strength at the midpoint. Do these results make intuitive sense to you? Why or why not? There are many ways to answer this question - think critically and don't worry about being exactly correct! "
   ]
  },
  {
   "cell_type": "markdown",
   "id": "a9361e31",
   "metadata": {},
   "source": [
    "***\n",
    "**<span style=\"color:blue\">Answer 4.3:</span>**\n",
    "\n",
    "[//]: # (Please do not delete this comment or anything above it.  Anything below this comment can be deleted.)  \n",
    "\n",
    "Double click this cell and enter your text here.  When done, hit 'Shift' + 'Enter' to execute the cell.  You may delete this text when entering your answer. \n",
    "***"
   ]
  },
  {
   "cell_type": "markdown",
   "id": "cacf52c7-5001-449b-b2d5-8e9db0941ff5",
   "metadata": {
    "deletable": false,
    "editable": false,
    "tags": []
   },
   "source": [
    "<!-- END QUESTION -->\n",
    "\n",
    "# <div style=\"background-color:rgba(255, 204, 255, 0.5); text-align:center; vertical-align: middle; padding:40px 0; margin-top:30px\"><span style=\"color:rgba(102, 0, 204, 1);\">Part 5 - Student Interviews (10 minutes)</span></div>"
   ]
  },
  {
   "cell_type": "markdown",
   "id": "c854ddcc-822d-4fac-a3f5-d0e78bab6090",
   "metadata": {
    "deletable": false,
    "editable": false,
    "tags": []
   },
   "source": [
    "<!-- BEGIN QUESTION -->\n",
    "\n",
    "<font size=\"+2\"><b> Invitation to Participate: <br>\n",
    "PHYS 121 Semi-Structured Interviews </b></font>\n",
    "\n",
    "<i> Principal Investigator: </i> Jake Bobowski, Professor of Teaching – Physics <br>\n",
    "<i> Co-Investigator: </i> Hiroko Nakahara, Physics Laboratory Manager <br>\n",
    "<i> Co-Investigator: </i> Jordan Andrews, Physics Laboratory Technician <br> \n",
    "<i> Co-Investigator: </i> Skyler Alderson, Undergraduate Student – Physics <br>\n",
    "<i> Co-Investigator: </i> Aimee Menard, Undergraduate Student – Physics <br>\n",
    "<i> Co-Investigator: </i> Grace Cornell, Undergraduate Student – Physics <br>\n",
    "<i> Affiliation: </i> Faculty of Science University of British Columbia, Okanagan Campus <br>\n",
    "<i> Contact Phone: </i> 250-807-9506 <br>\n",
    "<i> Contact Email: </i> jake.bobowski@ubc.ca <br>\n",
    "\n",
    "You are being invited to participate in a semi-structured interview about your experience in the Physics 121 labs. These interviews, along with the midterm and end-of-term Qualtrics surveys, are an integral part of our physics education research study. In a semi-structured interview, the interviewer follows a general outline of questions or topics but may deviate from the original plan if new and interesting information arises. The interest and thoughts of the interviewees will play a large role in guiding the direction of the discussion. \n",
    " \n",
    "These interviews will be conducted on a purely voluntary basis. The structure, length, and date of the interviews will be contingent upon (a) the number of participants and (b) the preferences of those participants. The interviews will be conducted during the last three weeks of classes. They are expected to take approximately 30 minutes to an hour and may be performed individually or in groups. The interviews will be recorded so that the discussions can be reviewed by the research team at a later date. Any data extracted from the recordings will be anonymized so you will never be identified by name or student number. \n",
    " \n",
    "If you are interested in participating in these interviews, please enter your student number in the cell below. At the same time, if you have any preferences regarding the structure, length, and date of the interview, please also include this information. We will gladly do whatever we can to accommodate your preferences. \n",
    " \n",
    "If you decide later that you’d like to participate in the interviews, you can email either Jake Bobowski (jake.bobowski@ubc.ca) or Hiroko Nakahara (hiroko.nakahara@ubc.ca) with the subject line “PHYS 121 SSI”."
   ]
  },
  {
   "cell_type": "markdown",
   "id": "c42f0996-a7ec-439c-a8c9-fc19d9ad2547",
   "metadata": {},
   "source": [
    "***\n",
    "**<span style=\"color:blue\">Partner #1:</span>**\n",
    "\n",
    "[//]: # (Please do not delete this comment or anything above it.  Anything below this comment can be deleted.)  \n",
    "\n",
    "If you're interested in volunteering to participate in the interviews, please double click this cell and enter your **student number** and an **email address** we can use to contact you.  You may also enter any preferences you have regarding the format of the interviews.  If you're not interested in volunteering, skip this part and leave this cell unchanged.  "
   ]
  },
  {
   "cell_type": "markdown",
   "id": "4936997e-1436-4f62-8f30-eeb74616f152",
   "metadata": {
    "deletable": false,
    "editable": false
   },
   "source": [
    "<!-- END QUESTION -->\n",
    "\n",
    "<!-- BEGIN QUESTION -->\n",
    "\n",
    "***\n",
    "**<span style=\"color:blue\">Partner #2:</span>**\n",
    "\n",
    "[//]: # (Please do not delete this comment or anything above it.  Anything below this comment can be deleted.)  \n",
    "\n",
    "If you're interested in volunteering to participate in the interviews, please double click this cell and enter your **student number** and an **email address** we can use to contact you.  You may also enter any preferences you have regarding the format of the interviews.  If you're not interested in volunteering, skip this part and leave this cell unchanged.  "
   ]
  },
  {
   "cell_type": "markdown",
   "id": "354b5997",
   "metadata": {
    "deletable": false,
    "editable": false,
    "tags": []
   },
   "source": [
    "<!-- END QUESTION -->\n",
    "\n",
    "# <div style=\"background-color:rgba(255, 204, 255, 0.5); text-align:center; vertical-align: middle; padding:40px 0; margin-top:30px\"><span style=\"color:rgba(102, 0, 204, 1);\">Part 6 - Reflection & statement of contributions (10 minutes)</span></div>"
   ]
  },
  {
   "cell_type": "markdown",
   "id": "45984214",
   "metadata": {
    "deletable": false,
    "editable": false,
    "tags": []
   },
   "source": [
    "***\n",
    "Below, you will briefly summarize the contributions that you and your partner made when completely this lab.  Please ensure that both partners have a chance to engage in all types of lab activities (developing the experimental methods/data collection strategies, hands-on interaction with the apparatus/data collection, and data processing/analysis in the Jupyter notebook).  Note that statements of contributions are common in science.  The figure below shows one example taken from a 2021 paper published in the journal *Nature Physics*.\n",
    "\n",
    "<p>\n",
    "<center>\n",
    "<img src=\"https://raw.githubusercontent.com/UBC-Okanagan-Physics-Labs/PHYS-121-images/main/general/images/contributions.jpg\" alt=\"image info\" style=\"width: 60%; height: auto;\" /><br>\n",
    "<b>Fig. 4: A sample statement of author contributions from a recent journal article.</b></center>\n",
    "</p>"
   ]
  },
  {
   "cell_type": "markdown",
   "id": "482fce94",
   "metadata": {
    "deletable": false,
    "editable": false,
    "tags": []
   },
   "source": [
    "<!-- BEGIN QUESTION -->\n",
    "\n",
    "***\n",
    "**<span style=\"color:blue\">Question 6.1(a):</span>**  \n",
    "\n",
    "Answer this question only if you worked with a partner to complete this lab.\n",
    "\n",
    "In two or three sentences describe the specific contributions of **Partner #1** to this lab.  For example, worked with the experimental apparatus to collect data for Part 1 of the lab, entered and processed the data in the Jupyter notebook for Part 2 of the lab, ...  "
   ]
  },
  {
   "cell_type": "markdown",
   "id": "7e119c32",
   "metadata": {},
   "source": [
    "***\n",
    "**<span style=\"color:blue\">Answer 6.1(a):</span>**\n",
    "\n",
    "[//]: # (Please do not delete this comment or anything above it.  Anything below this comment can be deleted.)  \n",
    "\n",
    "Double click this cell and enter your text here.  Please start be entering the name and student number of **Partner #1**.  When done, hit 'Shift' + 'Enter' to execute the cell.  You may delete this text when entering your answer. "
   ]
  },
  {
   "cell_type": "markdown",
   "id": "67076ab5",
   "metadata": {
    "deletable": false,
    "editable": false,
    "tags": []
   },
   "source": [
    "<!-- END QUESTION -->\n",
    "\n",
    "<!-- BEGIN QUESTION -->\n",
    "\n",
    "***\n",
    "**<span style=\"color:blue\">Question 6.1(b):</span>**  \n",
    "\n",
    "Answer this question only if you worked with a partner to complete this lab.\n",
    "\n",
    "In two or three sentences describe the specific contributions of **Partner #2** to this lab.  "
   ]
  },
  {
   "cell_type": "markdown",
   "id": "e4a35737",
   "metadata": {},
   "source": [
    "***\n",
    "**<span style=\"color:blue\">Answer 6.1(b):</span>**\n",
    "\n",
    "[//]: # (Please do not delete this comment or anything above it.  Anything below this comment can be deleted.)  \n",
    "\n",
    "Double click this cell and enter your text here.  Please start be entering the name and student number of **Partner #2**.  When done, hit 'Shift' + 'Enter' to execute the cell.  You may delete this text when entering your answer. "
   ]
  },
  {
   "cell_type": "markdown",
   "id": "129f5b39",
   "metadata": {
    "deletable": false,
    "editable": false,
    "tags": []
   },
   "source": [
    "<!-- END QUESTION -->\n",
    "\n",
    "# <div style=\"background-color:rgba(255, 204, 255, 0.5); text-align:center; vertical-align: middle; padding:40px 0; margin-top:30px\"><span style=\"color:rgba(102, 0, 204, 1);\">Part 7 - Submission (5 minutes)</span></div>"
   ]
  },
  {
   "cell_type": "markdown",
   "id": "dca72303",
   "metadata": {
    "deletable": false,
    "editable": false,
    "tags": []
   },
   "source": [
    "<!-- BEGIN QUESTION -->\n",
    "\n",
    "***\n",
    "**<span style=\"color:blue\">Question 7.1:</span>**  \n",
    "\n",
    "We welcome your feedback on the PHYS 121 labs!  Please feel free to include any comments you have about this lab in the cell below.  Your comments will be taken into consideration when revising/improving the PHYS 121 labs.  You can suggest improvements, point out anything that was unclear, comment on the strengths and weaknesses of the lab, ...\n",
    "\n",
    "This question is optional and will have no impact on your lab grade."
   ]
  },
  {
   "cell_type": "markdown",
   "id": "605e828f",
   "metadata": {},
   "source": [
    "***\n",
    "**<span style=\"color:blue\">Answer 7.1:</span>**\n",
    "\n",
    "[//]: # (Please do not delete this comment or anything above it.  Anything below this comment can be deleted.)  \n",
    "\n",
    "Double click this cell and enter your text here.  When done, hit 'Shift' + 'Enter' to execute the cell.  You may delete this text when entering your answer. "
   ]
  },
  {
   "cell_type": "markdown",
   "id": "0c107e34",
   "metadata": {
    "deletable": false,
    "editable": false,
    "tags": []
   },
   "source": [
    "<!-- END QUESTION -->\n",
    "\n",
    "***\n",
    "Once you've completed this notebook:\n",
    "- Save your work.\n",
    "- Run 'grader.check_all()' to confirm that you've completed all required tasks.\n",
    "- Run 'grader.export()' to generate a .zip file containing all of the materials that you will submit.\n",
    "- Download the generated .zip file.\n",
    "- Upload the .zip file to the PHYS 121 Canvas gradebook.\n",
    "- **Do NOT change the number of the .zip file.**\n",
    "- **Do NOT modify the contents of the .zip file.**\n",
    "\n",
    "Here is a <a href = \"https://raw.githubusercontent.com/UBC-Okanagan-Physics-Labs/PHYS-121-images/main/general/gifs/Submission.gif\">GIF</a> showing how these steps are completed.  Once your completed notebook has been uploaded to the Canvas gradebook, you're done!"
   ]
  },
  {
   "cell_type": "markdown",
   "id": "fb575dac",
   "metadata": {
    "deletable": false,
    "editable": false,
    "tags": []
   },
   "source": [
    "---\n",
    "\n",
    "To double-check your work, the cell below will rerun all of the autograder tests."
   ]
  },
  {
   "cell_type": "code",
   "execution_count": null,
   "id": "2d0f1844",
   "metadata": {
    "deletable": false,
    "editable": false,
    "tags": []
   },
   "outputs": [],
   "source": [
    "grader.check_all()"
   ]
  },
  {
   "cell_type": "markdown",
   "id": "d19f0f5e",
   "metadata": {
    "deletable": false,
    "editable": false,
    "tags": []
   },
   "source": [
    "## Submission\n",
    "\n",
    "Make sure you have run all cells in your notebook in order before running the cell below, so that all images/graphs appear in the output. The cell below will generate a zip file for you to submit. **Please save before exporting!**"
   ]
  },
  {
   "cell_type": "code",
   "execution_count": null,
   "id": "f5e7381c",
   "metadata": {
    "deletable": false,
    "editable": false,
    "tags": []
   },
   "outputs": [],
   "source": [
    "# Save your notebook first, then run this cell to export your submission.\n",
    "grader.export(files = ['PHYS121_DataLogger.txt'])"
   ]
  },
  {
   "cell_type": "markdown",
   "id": "9b5f4987",
   "metadata": {
    "deletable": false,
    "editable": false,
    "tags": []
   },
   "source": [
    "# <div style=\"background-color:rgba(255, 204, 255, 0.5); text-align:center; vertical-align: middle; padding:40px 0; margin-top:30px\"><span style=\"color:rgba(102, 0, 204, 1);\">Part 8 - Playground (optional)</span></div>\n",
    "\n",
    "Feel free to add as many cells as you like below and use them as a playground for further independent investigations.  These cells won't be graded, so feel free to use them in any way that you like.  "
   ]
  },
  {
   "cell_type": "code",
   "execution_count": null,
   "id": "260bcf62",
   "metadata": {},
   "outputs": [],
   "source": [
    "# Here's an empty code cell that you can use.  "
   ]
  },
  {
   "cell_type": "code",
   "execution_count": null,
   "id": "ade7f9bc",
   "metadata": {},
   "outputs": [],
   "source": [
    "# Here's another empty code cell that you can use."
   ]
  },
  {
   "cell_type": "code",
   "execution_count": null,
   "id": "02e56275",
   "metadata": {},
   "outputs": [],
   "source": [
    "# Here's yet another empty code cell that you can use.  \n",
    "# If you need more, you can add cells using the '+' icon in the menu bar at to the top of the screen."
   ]
  },
  {
   "cell_type": "markdown",
   "id": "e338ffa6",
   "metadata": {
    "deletable": false,
    "editable": false,
    "tags": []
   },
   "source": [
    "### <div style=\"background-color:rgba(255, 255, 102, 0.5); text-align:left; padding:20px 0; margin-top:20px\">$\\quad$Appendix A &ndash; The LinearFit Function...</div>\n",
    "\n",
    "The linear-fit function is called as follows:\n",
    "```python\n",
    "LinearFit(xData, yData, yErrors = [], xlabel = 'x-axis', ylabel = 'y-axis', xUnits = '', yUnits = '', fill = False)\n",
    "```\n",
    "The xData and yData lists are required.  The others are optional with default values set.  The function returns the following outputs:\n",
    "```python\n",
    "Slope, Yintercept, errSlope, errYintercept, fig\n",
    "```\n",
    "The first four outputs are numerical values and 'fig' is the formatted plot. \n",
    "\n",
    "If $y$-uncertainities are provided, the function will perform a weighted fit.  The $y$-uncertainties list must be the same length as $x$- and $y$-data lists.  If $y$-uncertainties are not provided, the fit will be unweighted.  The other optional arguments include $x$- and $y$-axis names and units for the $x$- and $y$-datasets.  These must be entered as strings (enclosed in quotations) and they are used for formatting the outputs of the function.  If 'fill' is set to True, shading will be added around the best-fit line representing confindence intervals. \n",
    "\n",
    "### Unweighted Fit Example Implmentation\n",
    "The code block below shows the most basic use of 'LinearFit' for an unweighted fit without any of the optional arguments.\n",
    "```python\n",
    "import PHYS121\n",
    "V = [1, 2, 3, 4]\n",
    "I = [0.12, 0.198, 0.285, 0.412]\n",
    "m, b, dm, db, fig = PHYS121.LinearFit(V, I)\n",
    "```\n",
    "\n",
    "### Weighted Fit Example Implmentation\n",
    "This second blcok of code shows how to use 'LinearFit' to do a weighted fit.  It also makes use of all of the other optional arguments.  \n",
    "```python\n",
    "import PHYS121\n",
    "V = [1, 2, 3, 4]\n",
    "I = [0.12, 0.198, 0.285, 0.412]\n",
    "errI = [0.005, 0.012, 0.020, 0.025]\n",
    "m, b, dm, db, fig = PHYS121.LinearFit(V, I, errI, 'voltage' , 'current', 'V', 'A', True)\n",
    "```\n",
    "\n",
    "The 'm, b, dm, db, fig = ...' syntax is used to store the function outputs in varibles.  If you're interested in details of the fitting process, see the following Python-based tutorial: https://cmps-people.ok.ubc.ca/jbobowsk/Python/html/Jupyter%20Weighted%20Linear%20Fit.html\n",
    "***"
   ]
  },
  {
   "cell_type": "markdown",
   "id": "8ad5eda6",
   "metadata": {
    "deletable": false,
    "editable": false,
    "tags": []
   },
   "source": [
    "### <div style=\"background-color:rgba(255, 255, 102, 0.5); text-align:left; padding:20px 0; margin-top:20px\">$\\quad$Appendix B &ndash; The Scatter Function...</div>\n",
    "\n",
    "The function for generating scatter plots is called as follows:\n",
    "```python\n",
    "Scatter(xData, yData, yErrors = [], xlabel = 'x-axis', ylabel = 'y-axis', xUnits = '', yUnits = '', fill = False, show = True)\n",
    "```\n",
    "The 'xData' and 'yData' inputs are required, all other arguments are optional with default values set.  The function returns the a single output (the formatted plot):\n",
    "```python\n",
    "fig\n",
    "```\n",
    "\n",
    "The function will do a simple scatter plot if no 'yError' are included.  It will included error bars if 'yErrors' are passed to the function.  The 'fill' and 'show' arguments should generally be false.  \n",
    "\n",
    "If the 'xData' list is empty, as in:\n",
    "```python\n",
    "xData = []\n",
    "```\n",
    "then the x-axis will be the trial number.  For example, is 'xData' is empty and 'yData' has 10 elements, the x-axis will span 1 to 10.\n",
    "\n",
    "### Scatter Example Implmentation\n",
    "The code block below shows an implementation of 'Scatter'.\n",
    "```python\n",
    "import PHYS121\n",
    "theta = [10, 20, 30] # degrees\n",
    "T = [2.02, 1.95, 2.13] # s\n",
    "errT = [0.02, 0.02, 0.03] # s\n",
    "fig = PHYS121.Scatter(theta, T, errT, 'initial angle' , 'period', 'degrees', 's')\n",
    "```\n",
    "\n",
    "If you're interested in generating your own plots with customized formatting, see the following Python-based plotting tutorial: https://cmps-people.ok.ubc.ca/jbobowsk/Python/html/Jupyter%20Basic%20Plots.html.\n",
    "***"
   ]
  },
  {
   "cell_type": "markdown",
   "id": "f0a0743b",
   "metadata": {
    "deletable": false,
    "editable": false,
    "tags": []
   },
   "source": [
    "<img src=\"https://raw.githubusercontent.com/UBC-Okanagan-Physics-Labs/PHYS-121-images/main/general/images/ubc-logo-full.jpg\" width=\"500\"/>"
   ]
  },
  {
   "cell_type": "markdown",
   "id": "ab8d9153",
   "metadata": {},
   "source": [
    "Last update: March 13, 2024"
   ]
  }
 ],
 "metadata": {
  "kernelspec": {
   "display_name": "Python 3 (ipykernel)",
   "language": "python",
   "name": "python3"
  },
  "language_info": {
   "codemirror_mode": {
    "name": "ipython",
    "version": 3
   },
   "file_extension": ".py",
   "mimetype": "text/x-python",
   "name": "python",
   "nbconvert_exporter": "python",
   "pygments_lexer": "ipython3",
   "version": "3.10.6"
  },
  "otter": {
   "OK_FORMAT": true,
   "tests": {
    "name_and_student_number": {
     "name": "name_and_student_number",
     "points": null,
     "suites": [
      {
       "cases": [
        {
         "code": ">>> isinstance(last_name_1, str)\nTrue",
         "failure_message": "last_name_1 must be a string (i.e. surround your answer by either single or double quotes).",
         "hidden": false,
         "locked": false,
         "points": 0
        },
        {
         "code": ">>> isinstance(first_name_1, str)\nTrue",
         "failure_message": "first_name_1 must be a string (i.e. surround your answer by either single or double quotes).",
         "hidden": false,
         "locked": false,
         "points": 0
        },
        {
         "code": ">>> isinstance(student_number_1, str)\nTrue",
         "failure_message": "student_number_1 must be a string (i.e. surround your answer by either single or double quotes).",
         "hidden": false,
         "locked": false,
         "points": 0
        },
        {
         "code": ">>> test = True\n>>> if isinstance(student_number_1, str):\n...     test = len(student_number_1) == 8\n>>> test\nTrue",
         "failure_message": "student_number_1 must be a string of exactly 8 characters.",
         "hidden": false,
         "locked": false,
         "points": 0
        },
        {
         "code": ">>> test = True\n>>> if isinstance(student_number_1, str):\n...     test = student_number_1.isdigit()\n>>> test\nTrue",
         "failure_message": "student_number_1 must contain only interger digits (0, 1, 2, 3, ..., 9)",
         "hidden": false,
         "locked": false,
         "points": 0.5
        },
        {
         "code": ">>> isinstance(last_name_2, str) or last_name_2 == ...\nTrue",
         "failure_message": "last_name_2 must be a string (i.e. surround your answer by either single or double quotes).",
         "hidden": false,
         "locked": false,
         "points": 0
        },
        {
         "code": ">>> isinstance(first_name_2, str) or first_name_2 == ...\nTrue",
         "failure_message": "first_name_2 must be a string (i.e. surround your answer by either single or double quotes).",
         "hidden": false,
         "locked": false,
         "points": 0
        },
        {
         "code": ">>> isinstance(student_number_2, str) or student_number_2 == ...\nTrue",
         "failure_message": "student_number_2 must be a string (i.e. surround your answer by either single or double quotes).",
         "hidden": false,
         "locked": false,
         "points": 0
        },
        {
         "code": ">>> test = True\n>>> if isinstance(student_number_2, str):\n...     test = len(student_number_2) == 8\n>>> test\nTrue",
         "failure_message": "student_number_2 must be a string of exactly 8 characters or be left as ...",
         "hidden": false,
         "locked": false,
         "points": 0
        },
        {
         "code": ">>> test = True\n>>> if isinstance(student_number_2, str):\n...     test = student_number_2.isdigit()\n>>> test\nTrue",
         "failure_message": "student_number_2 must contain only interger digits (0, 1, 2, 3, ..., 9) or be left as ...",
         "hidden": false,
         "locked": false,
         "points": 0.5
        }
       ],
       "scored": true,
       "setup": "",
       "teardown": "",
       "type": "doctest"
      }
     ]
    },
    "q2.1": {
     "name": "q2.1",
     "points": null,
     "suites": [
      {
       "cases": [
        {
         "code": ">>> L > 0.1 and L < 0.25\nTrue",
         "failure_message": "Make sue you enter the solenoid length in units of meters.",
         "hidden": false,
         "locked": false,
         "points": 0.5
        },
        {
         "code": ">>> np.isclose(n, N / L, rtol=0.001)\nTrue",
         "failure_message": "The density of turns n must be equal to N/L.",
         "hidden": false,
         "locked": false,
         "points": 0.5
        }
       ],
       "scored": true,
       "setup": "",
       "teardown": "",
       "type": "doctest"
      }
     ]
    },
    "q2.2": {
     "name": "q2.2",
     "points": null,
     "suites": [
      {
       "cases": [
        {
         "code": ">>> len(df['tanPhi']) >= 12\nTrue",
         "failure_message": "Make sure to collect at least 12 different current/angle measurements.",
         "hidden": false,
         "locked": false,
         "points": 0.5
        },
        {
         "code": ">>> all(np.isclose(df['tanPhi'], np.tan(np.radians(phi)), rtol=0.001))\nTrue",
         "failure_message": "Make sure that when you're calculating tanPhi, that phi is properly converted to radians.",
         "hidden": false,
         "locked": false,
         "points": 0.5
        }
       ],
       "scored": true,
       "setup": "",
       "teardown": "",
       "type": "doctest"
      }
     ]
    },
    "q2.4": {
     "name": "q2.4",
     "points": null,
     "suites": [
      {
       "cases": [
        {
         "code": ">>> def linearFunc(x, intercept, slope):\n...     y = slope * x + intercept\n...     return y\n>>> (a_fit, cov) = curve_fit(linearFunc, df['I'], df['tanPhi'])\n>>> m_fit = a_fit[1]\n>>> np.isclose(m, m_fit, rtol=0.1)\nTrue",
         "failure_message": "Enter the slope from the fit in Question 2.3 for m.",
         "hidden": false,
         "locked": false,
         "points": 0.25
        },
        {
         "code": ">>> def linearFunc(x, intercept, slope):\n...     y = slope * x + intercept\n...     return y\n>>> (a_fit, cov) = curve_fit(linearFunc, df['I'], df['tanPhi'])\n>>> dm_fit = np.sqrt(np.diag(cov))[1]\n>>> np.isclose(dm, dm_fit, rtol=0.1)\nTrue",
         "failure_message": "Enter the uncertainty of slope from the fit in Question 2.3 for dm.",
         "hidden": false,
         "locked": false,
         "points": 0.25
        },
        {
         "code": ">>> np.isclose(Bparallel, u0 * n / m, rtol=0.001)\nTrue",
         "failure_message": "Please check your calculation of Bparallel.",
         "hidden": false,
         "locked": false,
         "points": 0.25
        },
        {
         "code": ">>> np.isclose(dBparallel, u0 * n * dm / m ** 2, rtol=0.001)\nTrue",
         "failure_message": "Please check your calculation of dBparallel.",
         "hidden": false,
         "locked": false,
         "points": 0.25
        }
       ],
       "scored": true,
       "setup": "",
       "teardown": "",
       "type": "doctest"
      }
     ]
    },
    "q3.1": {
     "name": "q3.1",
     "points": null,
     "suites": [
      {
       "cases": [
        {
         "code": ">>> isinstance(B_Earth, float)\nTrue",
         "failure_message": "B_Earth should be entered as a decimal number or a fraction.",
         "hidden": false,
         "locked": false,
         "points": 0
        },
        {
         "code": ">>> isinstance(dB_Earth, float)\nTrue",
         "failure_message": "dB_Earth should be entered as a decimal number or a fraction.",
         "hidden": false,
         "locked": false,
         "points": 0
        },
        {
         "code": ">>> isinstance(incl, float)\nTrue",
         "failure_message": "incl should be entered as a decimal number or a fraction.",
         "hidden": false,
         "locked": false,
         "points": 0
        },
        {
         "code": ">>> isinstance(dincl, float)\nTrue",
         "failure_message": "dincl should be entered as a decimal number or a fraction.",
         "hidden": false,
         "locked": false,
         "points": 0
        },
        {
         "code": ">>> np.isclose(B_Earth, 5.4318e-05, rtol=0.03)\nTrue",
         "failure_message": "Double check your value for B_Earth.  Make your you enter the value in units of Telsa (T).",
         "hidden": false,
         "locked": false,
         "points": 0.25
        },
        {
         "code": ">>> np.isclose(dB_Earth, 1.45e-07, rtol=0.03)\nTrue",
         "failure_message": "Double check your value for dB_Earth.  Make your you enter the value in units of Telsa (T).",
         "hidden": false,
         "locked": false,
         "points": 0.25
        },
        {
         "code": ">>> np.isclose(incl, 71 + 9 / 60 + 6 / 3600, rtol=0.03)\nTrue",
         "failure_message": "Double check your value for incl.  Make your you enter the value in units of degrees.",
         "hidden": false,
         "locked": false,
         "points": 0.25
        },
        {
         "code": ">>> np.isclose(dincl, 13 / 60, rtol=0.03)\nTrue",
         "failure_message": "Double check your value for dincl.  Make your you enter the value in units of degrees.",
         "hidden": false,
         "locked": false,
         "points": 0.25
        }
       ],
       "scored": true,
       "setup": "",
       "teardown": "",
       "type": "doctest"
      }
     ]
    },
    "q3.2": {
     "name": "q3.2",
     "points": null,
     "suites": [
      {
       "cases": [
        {
         "code": ">>> isinstance(incl_meas, float)\nTrue",
         "failure_message": "incl_meas should evaluate to a decimal number.",
         "hidden": false,
         "locked": false,
         "points": 0
        },
        {
         "code": ">>> not np.isclose(incl_meas, np.arccos(Bparallel / B_Earth), rtol=0.01)\nTrue",
         "failure_message": "You've calculated incl_meas in radians.  Please go back to Question 3.2 and enter an expression that calculated incl_meas in units of degrees.",
         "hidden": false,
         "locked": false,
         "points": 0
        },
        {
         "code": ">>> np.isclose(incl_meas, np.arccos(Bparallel / B_Earth) * 180 / np.pi, rtol=0.01)\nTrue",
         "failure_message": "Please check your calculation of incl_meas.",
         "hidden": false,
         "locked": false,
         "points": 1
        }
       ],
       "scored": true,
       "setup": "",
       "teardown": "",
       "type": "doctest"
      }
     ]
    },
    "q4.1": {
     "name": "q4.1",
     "points": null,
     "suites": [
      {
       "cases": [
        {
         "code": ">>> len(phi1) >= 8 and len(x) >= 8\nTrue",
         "failure_message": "Make sure to collect at least 6 measurements.",
         "hidden": false,
         "locked": false,
         "points": 0
        },
        {
         "code": ">>> len(phi1) == len(x)\nTrue",
         "failure_message": "x and phi2 do not have the same length.",
         "hidden": false,
         "locked": false,
         "points": 0
        }
       ],
       "scored": true,
       "setup": "",
       "teardown": "",
       "type": "doctest"
      }
     ]
    }
   }
  }
 },
 "nbformat": 4,
 "nbformat_minor": 5
}
