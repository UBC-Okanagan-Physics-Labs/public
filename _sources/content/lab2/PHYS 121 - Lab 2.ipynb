{
 "cells": [
  {
   "cell_type": "markdown",
   "id": "c26112a2",
   "metadata": {
    "deletable": false,
    "editable": false,
    "tags": []
   },
   "source": [
    "# <div style=\"background-color:rgba(204, 229, 255, 0.5); text-align:center; vertical-align: middle; padding:40px 0; margin-top:30px\"><span style=\"color:rgba(0, 76, 153, 1);\">**PHYS 121 Lab #2**<span style=\"color:red\"> $\\to$ (22 possible marks)</span> </span></div> \n",
    "\n",
    "<font size =\"4\"><span style=\"color:purple\">We recommend that you complete this notebook using either the [Google Chrome](https://www.google.com/intl/en_ca/chrome/) or [Mozilla Firefox](https://www.mozilla.org/en-CA/firefox/new/) browser.  Chrome and Firefox are both available for Windows, Mac, and Linux operating systems.  The PHYS 121 Jupyter notebooks should work in other browsers, but we have specifically verfied that they work well in both Chrome and Firefox.</span></font>\n",
    "\n",
    "# Oscillations of a Simple Pendulum &ndash; Week 2"
   ]
  },
  {
   "cell_type": "markdown",
   "id": "93859c24",
   "metadata": {
    "deletable": false,
    "editable": false,
    "tags": []
   },
   "source": [
    "***\n",
    "## Learning Objectives:\n",
    "* <b><span style=\"color:rgba(0, 153, 76, 1);\"> Develop a method to collect a set of precision measurements.  Implement the method and, if necessary, make revisions and repeat the measurements. </span></b>\n",
    "* <b><span style=\"color:rgba(0, 153, 76, 1);\"> Collect a set of precision measurements that reveals the limitations of the theoretical model used to analyze the period of a simple pendulum. </span></b>\n",
    "\n",
    "Today, you will have the opportunity to refine and iterate (if necessary) your measurements of the period of a pendulum to generate a relatively high-precision dataset that uncovers new physical insights that go beyond the material covered in first-year physics lectures.\n"
   ]
  },
  {
   "cell_type": "markdown",
   "id": "0396708b",
   "metadata": {
    "deletable": false,
    "editable": false,
    "tags": []
   },
   "source": [
    "***\n",
    "## Autograding:\n",
    "'PHYS121.Installer()' checks to see if some required Python packages/modules are already installed.  If they are, then the function outputs a message saying that its okay to proceed.  If one or more of the packages are missing, the function attempts to install them and then outputs a message that says the user should exectute the PHYS121.Installer() cell a second time.  The second time the installer function is run, it should simply confirm that the required packages are already installed.  \n",
    "\n",
    "If necessary, the user can \"restart the kernel\" start with a fresh notebook in which no cells have been executed.  To restart the kernel, select **Kernel** $\\to$ **Restart Kernel** from the menu options at to the top of the page.  Here is a <a href = \"https://raw.githubusercontent.com/UBC-Okanagan-Physics-Labs/PHYS-121-images/main/general/gifs/restartKernel.gif\">GIF</a> showing how to restart the kernel."
   ]
  },
  {
   "cell_type": "code",
   "execution_count": null,
   "id": "20ffcffa",
   "metadata": {
    "deletable": false,
    "editable": false,
    "tags": []
   },
   "outputs": [],
   "source": [
    "# Import PHYS121.py and then run the installer function.\n",
    "import PHYS121\n",
    "PHYS121.Installer()"
   ]
  },
  {
   "cell_type": "code",
   "execution_count": null,
   "id": "36e0d697",
   "metadata": {
    "deletable": false,
    "editable": false,
    "tags": []
   },
   "outputs": [],
   "source": [
    "# Initialize Otter\n",
    "import otter\n",
    "grader = otter.Notebook(\"PHYS 121 - Lab 2.ipynb\")"
   ]
  },
  {
   "cell_type": "markdown",
   "id": "054d6610",
   "metadata": {
    "deletable": false,
    "editable": false,
    "tags": []
   },
   "source": [
    "***\n",
    "## Import Modules:\n",
    "Execute the cell below to import a number of useful pre-built Python modules that will be used in the PHYS 121 pre-labs and labs."
   ]
  },
  {
   "cell_type": "code",
   "execution_count": null,
   "id": "e25aecca",
   "metadata": {},
   "outputs": [],
   "source": [
    "import numpy as np\n",
    "import matplotlib.pyplot as plt\n",
    "from matplotlib.pyplot import cm # used to generate a sequence of colours for plotting\n",
    "import pandas as pd\n",
    "import scipy.stats as sp\n",
    "from scipy.optimize import curve_fit\n",
    "from IPython.display import HTML as html_print\n",
    "from IPython.display import display, Markdown, Latex"
   ]
  },
  {
   "cell_type": "markdown",
   "id": "d94bf9eb",
   "metadata": {
    "deletable": false,
    "editable": false,
    "tags": []
   },
   "source": [
    "# <div style=\"background-color:rgba(255, 204, 255, 0.5); text-align:center; vertical-align: middle; padding:40px 0; margin-top:30px\"><span style=\"color:rgba(102, 0, 204, 1);\">Name & Student Number</span></div>  \n",
    "\n",
    "To ensure that both you and your partner receive credit for you lab work, both your name and student number and your partner's name and student number need to appear in the notebooks used during the labs.  In the cells below this text, enter your name and student number and your partner's name and student number as strings (i.e. place your names and student numbers between single or double quotes.\n",
    "\n",
    "Examples of valid entries are:\n",
    "```python\n",
    "last_name_1 = 'Doe'\n",
    "first_name_1 = 'Jane'\n",
    "student_number_1 = '12345678'\n",
    "```\n",
    "and\n",
    "```python\n",
    "last_name_1 = \"Doe\"\n",
    "first_name_1 = \"John\"\n",
    "student_number_1 = \"12345678\"\n",
    "```"
   ]
  },
  {
   "cell_type": "markdown",
   "id": "6b8d5a6b",
   "metadata": {
    "deletable": false,
    "editable": false,
    "tags": []
   },
   "source": [
    "<!-- BEGIN QUESTION -->\n",
    "\n",
    "***\n",
    "### **<span style=\"color:blue\">Partner #1</span>** **<span style=\"color:red\">(0.5 marks)</span>** "
   ]
  },
  {
   "cell_type": "code",
   "execution_count": null,
   "id": "9b220aa3",
   "metadata": {
    "tags": []
   },
   "outputs": [],
   "source": [
    "# Enter LAST name of partner 1.  Delete the ... below and type your entry between the single quotes.\n",
    "# Once you've completed your entry, press SHIFT + ENTER to execute the cell.\n",
    "# *** Please do not change anything to the left of the equals sign. ***\n",
    "last_name_1 = ..."
   ]
  },
  {
   "cell_type": "code",
   "execution_count": null,
   "id": "f114a614",
   "metadata": {
    "tags": []
   },
   "outputs": [],
   "source": [
    "# Enter FIRST name of partner 1.  Delete the ... below and type your entry between the single quotes.\n",
    "# Once you've completed your entry, press SHIFT + ENTER to execute the cell.\n",
    "# *** Please do not change anything to the left of the equals sign. ***\n",
    "first_name_1 = ..."
   ]
  },
  {
   "cell_type": "code",
   "execution_count": null,
   "id": "3bf5d4c6",
   "metadata": {
    "tags": []
   },
   "outputs": [],
   "source": [
    "# Enter STUDENT NUMBER of partner 1.  Delete the ... below and type your entry between the single quotes.\n",
    "# Once you've completed your entry, press SHIFT + ENTER to execute the cell.\n",
    "# *** Please do not change anything to the left of the equals sign. ***\n",
    "student_number_1 = ..."
   ]
  },
  {
   "cell_type": "code",
   "execution_count": null,
   "id": "09dd5a8a",
   "metadata": {
    "deletable": false,
    "editable": false
   },
   "outputs": [],
   "source": [
    "PHYS121.graderCheck([last_name_1, first_name_1, student_number_1], ['last_name_1', 'first_name_1', 'student_number_1'], grader.check('name_and_student_number_1'))"
   ]
  },
  {
   "cell_type": "markdown",
   "id": "755d26b0",
   "metadata": {
    "deletable": false,
    "editable": false,
    "tags": []
   },
   "source": [
    "<!-- END QUESTION -->\n",
    "\n",
    "<!-- BEGIN QUESTION -->\n",
    "\n",
    "***\n",
    "### **<span style=\"color:blue\">Partner #2</span>** **<span style=\"color:red\">(0.5 marks)</span>** \n",
    "If you are working on your own, leave all of last_name_2, first_name_2, and student_number_2 as ...  Please still exectute these cells and then run the 'grader.check(\"name_and_student_number_2\")' cell."
   ]
  },
  {
   "cell_type": "code",
   "execution_count": null,
   "id": "98b99579",
   "metadata": {
    "tags": []
   },
   "outputs": [],
   "source": [
    "# Enter LAST name of partner 2.  Delete the ... below and type your entry between the single quotes.\n",
    "# Once you've completed your entry, press SHIFT + ENTER to execute the cell.\n",
    "# *** Please do not change anything to the left of the equals sign. ***\n",
    "last_name_2 = ..."
   ]
  },
  {
   "cell_type": "code",
   "execution_count": null,
   "id": "5a32d3fc",
   "metadata": {
    "tags": []
   },
   "outputs": [],
   "source": [
    "# Enter FIRST name of partner 2.  Delete the ... below and type your entry between the single quotes.\n",
    "# Once you've completed your entry, press SHIFT + ENTER to execute the cell.\n",
    "# *** Please do not change anything to the left of the equals sign. ***\n",
    "first_name_2 = ..."
   ]
  },
  {
   "cell_type": "code",
   "execution_count": null,
   "id": "f833461e",
   "metadata": {
    "tags": []
   },
   "outputs": [],
   "source": [
    "# Enter STUDENT NUMBER of partner 2.  Delete the ... below and type your entry between the single quotes.\n",
    "# Once you've completed your entry, press SHIFT + ENTER to execute the cell.\n",
    "# *** Please do not change anything to the left of the equals sign. ***\n",
    "student_number_2 = ..."
   ]
  },
  {
   "cell_type": "code",
   "execution_count": null,
   "id": "43fcaad6",
   "metadata": {
    "deletable": false,
    "editable": false
   },
   "outputs": [],
   "source": [
    "PHYS121.graderCheck([last_name_2, first_name_2, student_number_2], ['last_name_2', 'first_name_2', 'student_number_2'], grader.check('name_and_student_number_2'))"
   ]
  },
  {
   "cell_type": "markdown",
   "id": "317c6bdd",
   "metadata": {
    "deletable": false,
    "editable": false,
    "tags": []
   },
   "source": [
    "<!-- END QUESTION -->\n",
    "\n",
    "# <div style=\"background-color:rgba(255, 204, 255, 0.5); text-align:center; vertical-align: middle; padding:40px 0; margin-top:30px\"><span style=\"color:rgba(102, 0, 204, 1);\">Introduction</span></div>  \n",
    "## Recap of important definitions:\n",
    "\n",
    "**mean** $\\mu$ \n",
    "\n",
    "* A measure of the *average* value of a set of data. If you take $N$ measurements $\\nu_1, \\nu_2, \\dots, \\nu_N$, the mean is defined by\n",
    "\n",
    "$$ \\mu = \\frac{1}{N}\\sum_{i=1}^N \\nu_i = \\frac{\\nu_1 + \\nu_2 + \\cdots + \\nu_N}{N} $$\n",
    "\n",
    "**standard deviation** $\\sigma$  \n",
    "\n",
    "* A measure of the amount of variation in a data set. A small value of $\\sigma$ indicates that the data is clustered near the average value, and a large value of $\\sigma$ indicates that the data is more spread out. \n",
    "\n",
    "$$ \\sigma = \\sqrt{\\frac{1}{N - 1}\\sum_{i=1}^N \\left(\\nu_i - \\mu\\right)^2} $$\n",
    "\n",
    "**standard error in the mean** $\\sigma_\\mu$  \n",
    "\n",
    "* A measure of how confident we are in our estimate of the mean. You can read $\\mu \\pm \\sigma_\\mu$ as \"our measurements suggest that if we were to collect an identical set of measurements, there is a $68\\%$ chance that the resulting mean will fall between $\\mu - \\sigma_\\mu$ and $\\mu + \\sigma_\\mu$.\" As you might expect, the confidence interval gets smaller when the distribution of the experimental data gets narrower (i.e. $\\sigma$ is reduced) *and* when we take more measurements.\n",
    "\n",
    "$$ \\sigma_{\\mu} = \\frac{\\sigma}{\\sqrt{N}} $$\n",
    "\n",
    "**normal distribution**\n",
    "\n",
    "* Often called a *Gaussian distribution* or a *bell curve*. When one takes a large number of measurements, it is very often the case that the results are approximately normally distributed. Two important features to keep in mind are:\n",
    "\n",
    "    - (a) normal distributions are *symmetric* about the mean \n",
    "    - (b) approximately $68\\%$ of results fall within one standard deviation of the mean, $95\\%$ within two, and $99.7\\%$ within three. This is sometimes called the $68$-$95$-$99.7$ rule."
   ]
  },
  {
   "cell_type": "markdown",
   "id": "e49f2a79",
   "metadata": {
    "deletable": false,
    "editable": false,
    "tags": []
   },
   "source": [
    "***\n",
    "## Motivation for today's Lab:\n",
    "Among the primary goals of physics (and in science in general) is the construction of a coherent picture of how the world works. In this pursuit, we wish to *build*, *test*, and *revise* models and theories. While *all* models are necessarily only approximations of reality, these approximations (and thereby our understanding of the world) *can* be improved.\n",
    "\n",
    "One vital aspect of this work is to seek out and investigate cases where our models fail, but we must be *certain* that what we're seeing isn't skewed by imprecise measurements or other experimental flaws. This is one of the many reasons we may wish to increase the precision of our experiments. (Note that deciding whether an experimental result is significant is, in practice, a more subtle matter than simply calculating $\\sigma$ - for those who are interested in learning more, [this](https://news.mit.edu/2012/explained-sigma-0209) brief article from MIT discusses some of the complications).\n",
    "\n",
    "In Lab #1, you explored some of the factors that affect the quality of the data collected. Specifically, you should have seen that the **standard deviation** depends on the *quality* of the measurements, but not the *quantity*, while the **standard error in the mean** is sensitive to both. This week, you will continue to experiment with the simple pendulum (Fig. 1). Using the procedure you developed at the end of Lab #1 you will gather high-precision data in order to test the limits of the simple model of the pendulum.\n",
    "\n",
    "<p>\n",
    "<center>\n",
    "<img src=\"https://raw.githubusercontent.com/UBC-Okanagan-Physics-Labs/PHYS-121-images/main/Lab-1/images/pendulum_schematic.png\" alt=\"image info\" style=\"width: 35%; height: auto;\" /><br>\n",
    "<b>Fig. 1: A simple pendulum suspended from the origin of a protractor.</b></center>\n",
    "</p>"
   ]
  },
  {
   "cell_type": "markdown",
   "id": "65cbd2df",
   "metadata": {
    "deletable": false,
    "editable": false,
    "tags": []
   },
   "source": [
    "# <div style=\"background-color:rgba(255, 204, 255, 0.5); text-align:center; vertical-align: middle; padding:40px 0; margin-top:30px\"><span style=\"color:rgba(102, 0, 204, 1);\">Part 1 - Discussion and Further Refinement of Methodology (15 minutes)</span></div>\n",
    "\n",
    "In **Part 4** of Lab #1, you were asked to refine your data-collection methods with the objective of reducing the standard deviation in your data. First, recount the method you used last lab and *why* you chose that method. Discuss this method first with your lab partner, and then with at least one other group. When you've done this, complete **Question 1.1** below."
   ]
  },
  {
   "cell_type": "markdown",
   "id": "ef60f159",
   "metadata": {
    "deletable": false,
    "editable": false,
    "tags": []
   },
   "source": [
    "<!-- BEGIN QUESTION -->\n",
    "\n",
    "***\n",
    "**<span style=\"color:blue\">Question 1.1</span>** **<span style=\"color:red\">(2 marks)</span>**  \n",
    "\n",
    "After you're done discussing, briefly explain below *how* you will be taking your measurements, and *why* you expect this to increase the precision of your measurements relative to the methods used at the beginning of Lab #1. This may be identical to the method you developed at the end of Lab #1, completely different, or somewhere in between.  This question is worth 2 marks, (\"How\": 1 mark and \"Why: 1 mark), so provide enough detail that your TA can properly access your plan and why you expect it to be effective."
   ]
  },
  {
   "cell_type": "markdown",
   "id": "d35a62a3",
   "metadata": {},
   "source": [
    "***\n",
    "**<span style=\"color:blue\">Answer 1.1:</span>**\n",
    "\n",
    "[//]: # (Please do not delete this comment or anything above it.  Anything below this comment can be deleted.)  \n",
    "\n",
    "Double click this cell and enter your text here.  When done, hit 'Shift' + 'Enter' to execute the cell.  You may delete this text when entering your answer. "
   ]
  },
  {
   "cell_type": "markdown",
   "id": "91dd0bca",
   "metadata": {
    "deletable": false,
    "editable": false,
    "tags": []
   },
   "source": [
    "<!-- END QUESTION -->\n",
    "\n",
    "***\n",
    "In last week's lab, you began investigating the claim that the period of oscillation $T$ of a simple pendulum is given by \n",
    "\\begin{align}\n",
    "T = 2\\pi\\sqrt{\\dfrac{\\ell}{g}},\n",
    "\\label{eq:period} \\tag{1}\n",
    "\\end{align}\n",
    "where $\\ell$ is the length of the string and $g=9.81\\rm\\ m/s^2$ is the gravitational acceleration.  Notice that, according to Eq. $(1)$, the period depends on neither the mass $m$ of the pendulum bob nor the amplitude of the oscillations. "
   ]
  },
  {
   "cell_type": "markdown",
   "id": "965678c1",
   "metadata": {
    "deletable": false,
    "editable": false,
    "tags": []
   },
   "source": [
    "# <div style=\"background-color:rgba(255, 204, 255, 0.5); text-align:center; vertical-align: middle; padding:40px 0; margin-top:30px\"><span style=\"color:rgba(102, 0, 204, 1);\">Part 2 - Data Collection (90 minutes)</span></div>"
   ]
  },
  {
   "cell_type": "markdown",
   "id": "e0f3ceb3",
   "metadata": {
    "deletable": false,
    "editable": false,
    "tags": []
   },
   "source": [
    "**Part 2** will comprise the majority of the lab. You will measure the period of oscillation for initial amplitudes $\\theta_0$ from $5^\\circ$ to $45^\\circ$ in intervals of $5^\\circ$.\n",
    "\n",
    "As you proceed, you may recognize new challenges and develop better strategies. You will be asked to reflect on these challenges and strategies later on, so it will be beneficial to take notes as you work. To this end, a text box has been provided below. This won't be marked - it's there to help you keep track of any changes you make to your procedure. \n",
    "\n",
    "Exectute the cell below to create an array of the amplitude values."
   ]
  },
  {
   "cell_type": "code",
   "execution_count": null,
   "id": "8210b224",
   "metadata": {},
   "outputs": [],
   "source": [
    "# Array of amplitudes in degrees\n",
    "amplitude = np.array([5, 10, 15, 20, 25, 30, 35, 40, 45])"
   ]
  },
  {
   "cell_type": "markdown",
   "id": "a18300ef",
   "metadata": {
    "deletable": false,
    "editable": false,
    "tags": []
   },
   "source": [
    "We anticipate that, for each amplitude, you will repeat the measurements many times.  The cell below shows how you can quickly obtain the mean $\\mu$, standard deviation $\\sigma$ and standard error $\\sigma_\\mu=\\sigma/\\sqrt{N}$ from your collected data.  We can use NumPy to find the mean and standard deviation.  However, to find the standard error, we have to use the SciPy package.  This package was already imported at the beginning of this notebook.  The standard error is then found used:\n",
    "```python\n",
    "sp.sem(...)\n",
    "```\n",
    "where ... is replaced with an array of data.  Note that 'sem' stands from 'Standard Error in the Mean'."
   ]
  },
  {
   "cell_type": "markdown",
   "id": "a92598a6",
   "metadata": {
    "deletable": false,
    "editable": false,
    "tags": []
   },
   "source": [
    "<!-- BEGIN QUESTION -->\n",
    "\n",
    "***\n",
    "**<span style=\"color:blue\">Question 2.1</span>** **<span style=\"color:red\">(9 marks)</span>**  \n",
    "\n",
    "Enter the data you collected into the cell below.  Your data should be entered as arrays using the syntax:\n",
    "```python\n",
    "periodXX = np.array([...])\n",
    "```\n",
    "where the XX represents the oscillation amplitude in degrees (i.e. $05$, $10$, $15$, ..., $45$) and the ... between the square brackets should be replaced by your measured data with each entry separared by a comma.\n",
    "\n",
    "As you can see, there is a **lot** of data to collect. It is often the case in experimental science the data collection is time consuming and repetive.  We don't apologize for it -- there is a potential payoff beyond just collecting the available marks!  If you do a careful and thorough job collecting high-quality data, we hope that by the end of this lab you will have uncovered some interesting physics that goes beyond what is typcially covered in a typical first-year physics class. \n",
    "\n",
    "We'll create a Pandas dataframe that can be used to visulaize the data as you collect it.  We'll add columns to this dataframe for each initial angle $\\theta_0$ used. \n",
    "\n",
    "*** Please do not change any of the variable names in the cell below ***"
   ]
  },
  {
   "cell_type": "code",
   "execution_count": null,
   "id": "8c5bbd94",
   "metadata": {
    "tags": []
   },
   "outputs": [],
   "source": [
    "# Array of periods for a 5 degree ampltiude\n",
    "period05 = ...\n",
    "\n",
    "df = pd.DataFrame({'5 degrees': period05})\n",
    "\n",
    "length05 = len(period05)\n",
    "mu05 = np.mean(period05)\n",
    "sig05 = np.std(period05)\n",
    "sem05 = sp.sem(period05)\n",
    "print('T_05 =', \"{:.5f}\".format(mu05), '+/-', \"{:.5f}\".format(sem05), 's') # the format syntax is used to set the number of decimal places displated. \n",
    "print('Length:', length05)\n",
    "\n",
    "# Display the dataframe\n",
    "df"
   ]
  },
  {
   "cell_type": "code",
   "execution_count": null,
   "id": "91179198",
   "metadata": {
    "tags": []
   },
   "outputs": [],
   "source": [
    "# Array of periods for a 10 degree ampltiude\n",
    "period10 = ...\n",
    "\n",
    "df['10 degrees'] = period10\n",
    "\n",
    "length10 = len(period10)\n",
    "mu10 = np.mean(period10)\n",
    "sig10 = np.std(period10)\n",
    "sem10 = sp.sem(period10)\n",
    "print('T_10 =', \"{:.5f}\".format(mu10), '+/-', \"{:.5f}\".format(sem10), 's') \n",
    "print('Length:', length10)\n",
    "\n",
    "# Display the dataframe\n",
    "df"
   ]
  },
  {
   "cell_type": "code",
   "execution_count": null,
   "id": "f1635ba7",
   "metadata": {
    "tags": []
   },
   "outputs": [],
   "source": [
    "# Array of periods for a 15 degree ampltiude\n",
    "period15 = ...\n",
    "\n",
    "df['15 degrees'] = period15\n",
    "\n",
    "length15 = len(period15)\n",
    "mu15 = np.mean(period15)\n",
    "sig15 = np.std(period15)\n",
    "sem15 = sp.sem(period15)\n",
    "print('T_15 =', \"{:.5f}\".format(mu15), '+/-', \"{:.5f}\".format(sem15), 's') \n",
    "print('Length:', length15)\n",
    "\n",
    "# Display the dataframe\n",
    "df"
   ]
  },
  {
   "cell_type": "code",
   "execution_count": null,
   "id": "ae9f53f3",
   "metadata": {
    "tags": []
   },
   "outputs": [],
   "source": [
    "# Array of periods for a 20 degree ampltiude\n",
    "period20 = ...\n",
    "\n",
    "df['20 degrees'] = period20\n",
    "\n",
    "length20 = len(period20)\n",
    "mu20 = np.mean(period20)\n",
    "sig20 = np.std(period20)\n",
    "sem20 = sp.sem(period20)\n",
    "print('T_20 =', \"{:.5f}\".format(mu20), '+/-', \"{:.5f}\".format(sem20), 's') \n",
    "print('Length:', length20)\n",
    "\n",
    "# Display the dataframe\n",
    "df"
   ]
  },
  {
   "cell_type": "code",
   "execution_count": null,
   "id": "976f22a6",
   "metadata": {
    "tags": []
   },
   "outputs": [],
   "source": [
    "# Array of periods for a 25 degree ampltiude\n",
    "period25 = ...\n",
    "\n",
    "df['25 degrees'] = period25\n",
    "\n",
    "length25 = len(period25)\n",
    "mu25 = np.mean(period25)\n",
    "sig25 = np.std(period25)\n",
    "sem25 = sp.sem(period25)\n",
    "print('T_25 =', \"{:.5f}\".format(mu25), '+/-', \"{:.5f}\".format(sem25), 's') \n",
    "print('Length:', length25)\n",
    "\n",
    "# Display the dataframe\n",
    "df"
   ]
  },
  {
   "cell_type": "code",
   "execution_count": null,
   "id": "00e048cd",
   "metadata": {
    "tags": []
   },
   "outputs": [],
   "source": [
    "# Array of periods for a 30 degree ampltiude\n",
    "period30 = ...\n",
    "\n",
    "df['30 degrees'] = period30\n",
    "\n",
    "length30 = len(period30)\n",
    "mu30 = np.mean(period30)\n",
    "sig30 = np.std(period30)\n",
    "sem30 = sp.sem(period30)\n",
    "print('T_30 =', \"{:.5f}\".format(mu30), '+/-', \"{:.5f}\".format(sem30), 's') \n",
    "print('Length:', length30)\n",
    "\n",
    "# Display the dataframe\n",
    "df"
   ]
  },
  {
   "cell_type": "code",
   "execution_count": null,
   "id": "7a17d92b",
   "metadata": {
    "tags": []
   },
   "outputs": [],
   "source": [
    "# Array of periods for a 35 degree ampltiude\n",
    "period35 = ...\n",
    "\n",
    "df['35 degrees'] = period35\n",
    "\n",
    "length35 = len(period35)\n",
    "mu35 = np.mean(period35)\n",
    "sig35 = np.std(period35)\n",
    "sem35 = sp.sem(period35)\n",
    "print('T_35 =', \"{:.5f}\".format(mu35), '+/-', \"{:.5f}\".format(sem35), 's') \n",
    "print('Length:', length35)\n",
    "\n",
    "# Display the dataframe\n",
    "df"
   ]
  },
  {
   "cell_type": "code",
   "execution_count": null,
   "id": "1ef6ca17",
   "metadata": {
    "tags": []
   },
   "outputs": [],
   "source": [
    "# Array of periods for a 40 degree ampltiude\n",
    "period40 = ...\n",
    "\n",
    "df['40 degrees'] = period40\n",
    "\n",
    "length40 = len(period40)\n",
    "mu40 = np.mean(period40)\n",
    "sig40 = np.std(period40)\n",
    "sem40 = sp.sem(period40)\n",
    "print('T_40 =', \"{:.5f}\".format(mu40), '+/-', \"{:.5f}\".format(sem40), 's') \n",
    "print('Length:', length40)\n",
    "\n",
    "# Display the dataframe\n",
    "df"
   ]
  },
  {
   "cell_type": "code",
   "execution_count": null,
   "id": "b62e3d75",
   "metadata": {
    "tags": []
   },
   "outputs": [],
   "source": [
    "# Array of periods for a 45 degree ampltiude\n",
    "period45 = ...\n",
    "\n",
    "df['45 degrees'] = period45\n",
    "\n",
    "length45 = len(period45)\n",
    "mu45 = np.mean(period45)\n",
    "sig45 = np.std(period45)\n",
    "sem45 = sp.sem(period45)\n",
    "print('T_45 =', \"{:.5f}\".format(mu45), '+/-', \"{:.5f}\".format(sem45), 's') \n",
    "print('Length:', length45)\n",
    "\n",
    "# Display the dataframe\n",
    "df"
   ]
  },
  {
   "cell_type": "markdown",
   "id": "8f96b19a",
   "metadata": {},
   "source": [
    "<!-- END QUESTION -->\n",
    "\n",
    "***\n",
    "**<span style=\"color:blue\">Notes (optional):</span>**\n",
    "\n",
    "[//]: # (Please do not delete this comment or anything above it.  Anything below this comment can be deleted.)  \n",
    "\n",
    "Double click this cell and enter your text here.  When done, hit 'Shift' + 'Enter' to execute the cell. "
   ]
  },
  {
   "cell_type": "markdown",
   "id": "92600808",
   "metadata": {
    "deletable": false,
    "editable": false,
    "tags": []
   },
   "source": [
    "***\n",
    "Now that you have determined the average (mean) and standard error (uncertainty in the mean) for each of the oscillation amplitudes, we can construct arrays of these values and use them to plot the results. Execute the cell below to create these arrays."
   ]
  },
  {
   "cell_type": "code",
   "execution_count": null,
   "id": "1f6efc24",
   "metadata": {},
   "outputs": [],
   "source": [
    "period = np.array([mu05, mu10, mu15, mu20, mu25, mu30, mu35, mu40, mu45])\n",
    "errorBars = np.array([sem05, sem10, sem15, sem20, sem25, sem30, sem35, sem40, sem45])"
   ]
  },
  {
   "cell_type": "markdown",
   "id": "50bb3995",
   "metadata": {
    "deletable": false,
    "editable": false,
    "tags": []
   },
   "source": [
    "<!-- BEGIN QUESTION -->\n",
    "\n",
    "***\n",
    "**<span style=\"color:blue\">Question 2.2</span>** **<span style=\"color:red\">(5 marks)</span>**  \n",
    "\n",
    "The cell below is used to generate a scatter plot (with error bars) of the data you collected.  **Question 2.2** will be partially graded on the quality of the data you collect.  \n",
    "\n",
    "This plot is similar to the plot that you produced in **Part 1** of Lab #1, expect not you're (hopefully) working with a higher-quality dataset. For additional information about the 'Scatter' function, see **Appendix A** near the end of this notebook."
   ]
  },
  {
   "cell_type": "code",
   "execution_count": null,
   "id": "b19fd9f3",
   "metadata": {
    "tags": []
   },
   "outputs": [],
   "source": [
    "fig = PHYS121.Scatter(amplitude, period, yErrors = errorBars, xlabel = 'Amplitude', ylabel = 'Period', xUnits = 'degrees', yUnits = 'seconds')"
   ]
  },
  {
   "cell_type": "markdown",
   "id": "5e1fe2f5",
   "metadata": {
    "deletable": false,
    "editable": false,
    "tags": []
   },
   "source": [
    "<!-- END QUESTION -->\n",
    "\n",
    "<!-- BEGIN QUESTION -->\n",
    "\n",
    "***\n",
    "**<span style=\"color:blue\">Question 2.3</span>** **<span style=\"color:red\">(1 mark)</span>** \n",
    "\n",
    "Once you've collected all of your data, comment on the scatter plot above. Is there a clear dependence of the period on amplitude?  Are your observation consistent with Eq. (1) for the period of a pendulum?  How do today's results compare to the observations you made in **Part 1** of Lab #1?  In that experiment, you likely concluded that the oscillation period was independent of the amplitude.  "
   ]
  },
  {
   "cell_type": "markdown",
   "id": "4f1b8cde",
   "metadata": {},
   "source": [
    "***\n",
    "**<span style=\"color:blue\">Answer 2.3:</span>**\n",
    "\n",
    "[//]: # (Please do not delete this comment or anything above it.  Anything below this comment can be deleted.)  \n",
    "\n",
    "Double click this cell and enter your text here.  When done, hit 'Shift' + 'Enter' to execute the cell.  You may delete this text when entering your answer. "
   ]
  },
  {
   "cell_type": "markdown",
   "id": "e1d01066",
   "metadata": {
    "deletable": false,
    "editable": false,
    "tags": []
   },
   "source": [
    "<!-- END QUESTION -->\n",
    "\n",
    "<!-- BEGIN QUESTION -->\n",
    "\n",
    "***\n",
    "**<span style=\"color:blue\">Question 2.4</span>** **<span style=\"color:red\">(1 mark)</span>** \n",
    "\n",
    "What do you notice about the relative sizes of the error bars as the oscillation amplitude $\\theta_0$ increases? Is there a pattern? Consider why this is so - did new challenges arise as you increased the amplitude? What other factors may have contributed to this effect?"
   ]
  },
  {
   "cell_type": "markdown",
   "id": "ee61068a",
   "metadata": {},
   "source": [
    "***\n",
    "**<span style=\"color:blue\">Answer 2.4:</span>**\n",
    "\n",
    "[//]: # (Please do not delete this comment or anything above it.  Anything below this comment can be deleted.)  \n",
    "\n",
    "Double click this cell and enter your text here.  When done, hit 'Shift' + 'Enter' to execute the cell.  You may delete this text when entering your answer. "
   ]
  },
  {
   "cell_type": "markdown",
   "id": "9f48c74a",
   "metadata": {
    "deletable": false,
    "editable": false,
    "tags": []
   },
   "source": [
    "<!-- END QUESTION -->\n",
    "\n",
    "# <div style=\"background-color:rgba(255, 204, 255, 0.5); text-align:center; vertical-align: middle; padding:40px 0; margin-top:30px\"><span style=\"color:rgba(102, 0, 204, 1);\">Part 3 - Analysis of Results (10 minutes)</span></div>"
   ]
  },
  {
   "cell_type": "markdown",
   "id": "ea920551",
   "metadata": {
    "deletable": false,
    "editable": false,
    "tags": []
   },
   "source": [
    "<!-- BEGIN QUESTION -->\n",
    "\n",
    "***\n",
    "**<span style=\"color:blue\">Question 3.1</span>** **<span style=\"color:red\">(1 mark)</span>**   \n",
    "\n",
    "You should see that the period *increases* as the initial angle increases, contrary to Eq. (1). In Part 4, you will be guided through an explanation of the main reason for this discrepancy, but there are many other possible factors. In the box below, suggest a few ideas. Be sure to justify your answers. There is no single correct answer, here - don't worry if you're not exactly correct, the point is to develop intuition by thinking actively about the physics of the system. \n",
    "\n",
    "Note: if your data does *not* show that the $T$ increases with $\\theta_0$ and you don't have time to repeat the experiment, you may look at a neighbouring group's data when answering this question. If you do so, be sure to cite their names in your answer.\n"
   ]
  },
  {
   "cell_type": "markdown",
   "id": "2f726ef4",
   "metadata": {},
   "source": [
    "***\n",
    "**<span style=\"color:blue\">Answer 3.1:</span>**\n",
    "\n",
    "[//]: # (Please do not delete this comment or anything above it.  Anything below this comment can be deleted.)  \n",
    "\n",
    "Double click this cell and enter your text here.  When done, hit 'Shift' + 'Enter' to execute the cell.  You may delete this text when entering your answer. "
   ]
  },
  {
   "cell_type": "markdown",
   "id": "ecabe76b",
   "metadata": {
    "deletable": false,
    "editable": false,
    "tags": []
   },
   "source": [
    "<!-- END QUESTION -->\n",
    "\n",
    "# <div style=\"background-color:rgba(255, 204, 255, 0.5); text-align:center; vertical-align: middle; padding:40px 0; margin-top:30px\"><span style=\"color:rgba(102, 0, 204, 1);\">Part 4 - The Small Angle Approximation (25 minutes)</span></div>"
   ]
  },
  {
   "cell_type": "markdown",
   "id": "fe146441",
   "metadata": {
    "deletable": false,
    "editable": false,
    "tags": []
   },
   "source": [
    "****\n",
    "<span style=\"color:rgba(220, 50, 50, 1);\">**Note:**</span> this section contains some math which may be unfamiliar. Do not dispair! You won't be asked to calculate anything difficult.  We will only ask you one simple question! This section is meant to be an introduction to some of the new physics and math that can be used to understand some of your experimental discoveries!\n",
    "****\n",
    "\n",
    "\n",
    "Depending on how much math you've taken, you may heard of something called a \"Taylor series.\" The basic idea is that most functions can be written as infinite polynomials:\n",
    "\n",
    "$$ f(x) = a_0 + a_1\\,x + a_2\\,x^2 + \\cdots + a_n\\,x^n + \\cdots = \\sum_{n = 0}^{\\infty}a_n\\,x^n \\tag{2} $$ \n",
    "\n",
    "For anyone interested in learning more, [this video](https://www.youtube.com/watch?v=3d6DsjIBzJ4) from [**3Blue1Brown**](https://www.youtube.com/c/3blue1brown?app=desktop) provides an intuitive introduction to Taylor series. \n",
    "\n",
    "Taylor series find many applications in physics. They frequently show up for the simple fact that polynomials are relatively simple to work with, so that **writing a function as a Taylor series can turn a difficult problem into an easy problem.**\n",
    "\n",
    "If you're only considering values of $x$ which are very small (i.e. close to zero), you can usually get a good approximation by keeping only the first couple of terms in the Taylor series representation of $f(x)$.  This happens because a small number squared (or cubed) is much less than the original number. For example, we might write\n",
    "\n",
    "$$ f(x) \\approx a_0 + a_1\\,x  \\tag{3} $$\n",
    "\n",
    "where we have ignored of the higher powers of $x$ (like $x^2$, $x^3$, ...).  This is sometimes referred to as a **first-order approximation**. The derivation of Eq. (1) resulted from just such an approximation. \n",
    "\n",
    "<p>\n",
    "<center>\n",
    "<img src=\"https://raw.githubusercontent.com/UBC-Okanagan-Physics-Labs/PHYS-121-images/main/Lab-2/images/fbd.png\" alt=\"image info\" style=\"width: 35%; height: auto;\" /><br>\n",
    "<b>Fig. 2: Free-body diagram for the simple pendulum. </b></center>\n",
    "</p>\n",
    "\n",
    "From the free-body of Fig. 2, the force on the pendulum bob is given by \n",
    "\n",
    "$$ ma =  mg\\sin\\theta  \\tag{3} $$\n",
    "\n",
    "Because the pendulum bob is following a circular path, the acceleration can be expressed as $a = \\ell\\dfrac{d^2\\theta}{dt^2}$, where $\\ell$ is the length of the string.  Therefore, the motion of the pendulum is determined by:\n",
    "\n",
    "$$ \\frac{d^2\\theta}{dt^2} =  \\frac{g}{\\ell}\\sin\\theta  \\tag{4} $$\n",
    "\n",
    "which is an expression that we derivied in class at the start of term.  It is *possible* to solve Eq. (4), but it isn't easy to do! Fortunately, the sine function can be expressed as a Taylor series as follows\n",
    "\n",
    "$$ \\sin \\theta = \\theta - \\frac{\\theta^3}{3!} + \\frac{\\theta^5}{5!} - \\frac{\\theta^7}{7!} + \\cdots $$\n",
    "\n",
    "Eq. (1) results from taking only the first-order term: this is often called the **small-angle approximation**:\n",
    "\n",
    "$$ \\sin\\theta \\approx \\theta$$\n",
    "\n",
    "Figure 3 shows a geometric way to achieve the same result:\n",
    "\n",
    "<p>\n",
    "<center>\n",
    "<img src=\"https://raw.githubusercontent.com/UBC-Okanagan-Physics-Labs/PHYS-121-images/main/Lab-2/images/saa2.png\" alt=\"image info\" style=\"width: 45%; height: auto;\" /><br>\n",
    "<b>Fig. 3: Geometric demonstration of the small angle approximation. Consider what happens as the angle $2\\theta$ gets smaller: the length of the blue arc will approach the length of the red chord (in exactly the same way that the earth seems flat when you're standing on it). The length of the arc is $r\\theta$, and the length of the chord is $r\\sin\\theta.$ Thus, for small $\\theta$, $r\\sin\\theta \\approx \\theta.$ We can cancel the radius $r$ to obtain $\\sin\\theta \\approx \\theta.$ </b></center>\n",
    "</p>"
   ]
  },
  {
   "cell_type": "markdown",
   "id": "609ed2ee",
   "metadata": {
    "deletable": false,
    "editable": false,
    "tags": []
   },
   "source": [
    "***   \n",
    "Type shift+enter in the cell below to see $\\theta$, $\\theta - \\theta^3/3!$, and $\\sin\\theta$ all plotted as a function of $\\theta$ in a single graph."
   ]
  },
  {
   "cell_type": "code",
   "execution_count": null,
   "id": "8060a4f4",
   "metadata": {
    "deletable": false,
    "editable": false,
    "tags": []
   },
   "outputs": [],
   "source": [
    "theta = np.arange(0, 45, 0.5)\n",
    "\n",
    "order1 = np.radians(theta) # theta in radians\n",
    "order2 = np.radians(theta) - (np.radians(theta)**3)/6 # theta - theta^2/6 in radians\n",
    "exact = np.sin(np.radians(theta)) # sin(theta)\n",
    "\n",
    "fig, ax = plt.subplots(figsize = (7, 7))\n",
    "ax.plot(theta, exact, color = 'k', label = (r\"$\\sin\\theta$\"), linewidth = 3)\n",
    "ax.plot(theta, order1, 'r--', label = (r\"$\\theta$\"), linewidth = 3)\n",
    "ax.plot(theta, order2, 'c:', label = (r\"$\\theta - \\theta^3/6$\"), linewidth = 5)\n",
    "ax.legend()\n",
    "\n",
    "plt.xlim([0, 45])\n",
    "plt.ylim([0, 0.75])\n",
    "plt.xlabel(r\"$\\theta$\")\n",
    "plt.show()"
   ]
  },
  {
   "cell_type": "markdown",
   "id": "bda08f11",
   "metadata": {
    "deletable": false,
    "editable": false,
    "tags": []
   },
   "source": [
    "<!-- BEGIN QUESTION -->\n",
    "\n",
    "<!-- BEGIN QUESTION -->\n",
    "\n",
    "***\n",
    "**<span style=\"color:blue\">Question 4.1</span>**  **<span style=\"color:red\">(1 mark)</span>**  \n",
    "\n",
    "(a) Based on the plot above, over what range of angles (in degrees) is the approximation $\\sin\\theta = \\theta$ valid?  \n",
    "\n",
    "(b) Since $ T = 2\\pi(\\ell/g)^{1/2} $ was derived assuming $\\sin\\theta\\approx\\theta$, over what range of angles (in degrees) would you expect this expression to be valid?"
   ]
  },
  {
   "cell_type": "markdown",
   "id": "96040486",
   "metadata": {},
   "source": [
    "***\n",
    "**<span style=\"color:blue\">Answer 4.1:</span>**\n",
    "\n",
    "[//]: # (Please do not delete this comment or anything above it.  Anything below this comment can be deleted.)  \n",
    "\n",
    "Double click this cell and enter your text here.  When done, hit 'Shift' + 'Enter' to execute the cell.  You may delete this text when entering your answer. "
   ]
  },
  {
   "cell_type": "markdown",
   "id": "891b3bbd",
   "metadata": {
    "deletable": false,
    "editable": false,
    "tags": []
   },
   "source": [
    "<!-- END QUESTION -->\n",
    "\n",
    "***\n",
    "For anyone interested, the *exact* solution of Eq. (4) gives a period of \n",
    "\n",
    "$$ T = 2\\pi\\sqrt{\\frac{\\ell}{g}}\\left(1 + \\frac{1}{16}\\theta_0^2 + \\frac{11}{3027}\\theta_0^4 + \\frac{173}{737280}\\theta_0^6 +\\cdots \\right) $$\n",
    "\n",
    "where $\\theta$ is in radians."
   ]
  },
  {
   "cell_type": "markdown",
   "id": "e3e5704d",
   "metadata": {
    "deletable": false,
    "editable": false,
    "tags": []
   },
   "source": [
    "# <div style=\"background-color:rgba(255, 204, 255, 0.5); text-align:center; vertical-align: middle; padding:40px 0; margin-top:30px\"><span style=\"color:rgba(102, 0, 204, 1);\">Part 5 - Reflection & statement of contributions (25 minutes)</span></div>"
   ]
  },
  {
   "cell_type": "markdown",
   "id": "075198e5",
   "metadata": {
    "deletable": false,
    "editable": false,
    "tags": []
   },
   "source": [
    "<!-- BEGIN QUESTION -->\n",
    "\n",
    "Question 5.1 is used to reflect on the learning objectives stated at beginning of the notebook. \n",
    "***\n",
    "**<span style=\"color:blue\">Question 5.1</span>** **<span style=\"color:red\">(1 mark)</span>**   \n",
    "\n",
    "Compare the scatter plot of period versus amplitude that you produced in **Part 1** of Lab #1 to the plot produced in **Part 2** of this lab. In a few short sentences, describe how increasing the precision of your measurements led to the discovery of new physics and revealed a limitation of the model often used to analyze simple pendulums."
   ]
  },
  {
   "cell_type": "markdown",
   "id": "3d391037",
   "metadata": {},
   "source": [
    "***\n",
    "**<span style=\"color:blue\">Answer 5.1:</span>**\n",
    "\n",
    "[//]: # (Please do not delete this comment or anything above it.  Anything below this comment can be deleted.)  \n",
    "\n",
    "Double click this cell and enter your text here.  When done, hit 'Shift' + 'Enter' to execute the cell.  You may delete this text when entering your answer. "
   ]
  },
  {
   "cell_type": "markdown",
   "id": "fd11f297",
   "metadata": {
    "deletable": false,
    "editable": false,
    "tags": []
   },
   "source": [
    "<!-- END QUESTION -->\n",
    "\n",
    "***\n",
    "Below, you will briefly summarize the contributions that you and your partner made when completely this lab.  Please ensure that both partners have a chance to engage in all types of lab activities (developing the experimental methods/data collection strategies, hands-on interaction with the apparatus/data collection, and data processing/analysis in the Jupyter notebook).  Note that statements of contributions are common in science.  The figure below shows one example taken from a 2021 paper published in the journal *Nature Physics*.\n",
    "\n",
    "<p>\n",
    "<center>\n",
    "<img src=\"https://raw.githubusercontent.com/UBC-Okanagan-Physics-Labs/PHYS-121-images/main/general/images/contributions.jpg\" alt=\"image info\" style=\"width: 60%; height: auto;\" /><br>\n",
    "<b>Fig. 2: A sample statement of author contributions from a recent journal article.</b></center>\n",
    "</p>"
   ]
  },
  {
   "cell_type": "markdown",
   "id": "3c3676f7",
   "metadata": {
    "deletable": false,
    "editable": false,
    "tags": []
   },
   "source": [
    "<!-- BEGIN QUESTION -->\n",
    "\n",
    "***\n",
    "**<span style=\"color:blue\">Question 5.2(a):</span>**  \n",
    "\n",
    "Answer this question only if you worked with a partner to complete this lab.\n",
    "\n",
    "In two or three sentences describe the specific contributions of **Partner A** to this lab.  For example, worked with the experimental apparatus to collect data for Part 1 of the lab, entered and processed the data in the Jupyter notebook for Part 2 of the lab, ...  "
   ]
  },
  {
   "cell_type": "markdown",
   "id": "e68bdf55",
   "metadata": {},
   "source": [
    "***\n",
    "**<span style=\"color:blue\">Answer 5.2(a):</span>**\n",
    "\n",
    "[//]: # (Please do not delete this comment or anything above it.  Anything below this comment can be deleted.)  \n",
    "\n",
    "Double click this cell and enter your text here.  Please start be entering the name and student number of **Partner A**.  When done, hit 'Shift' + 'Enter' to execute the cell.  You may delete this text when entering your answer. "
   ]
  },
  {
   "cell_type": "markdown",
   "id": "f56f1cb9",
   "metadata": {
    "deletable": false,
    "editable": false,
    "tags": []
   },
   "source": [
    "<!-- END QUESTION -->\n",
    "\n",
    "<!-- BEGIN QUESTION -->\n",
    "\n",
    "***\n",
    "**<span style=\"color:blue\">Question 5.2(b):</span>**  \n",
    "\n",
    "Answer this question only if you worked with a partner to complete this lab.\n",
    "\n",
    "In two or three sentences describe the specific contributions of **Partner B** to this lab.  "
   ]
  },
  {
   "cell_type": "markdown",
   "id": "12f09d4c",
   "metadata": {},
   "source": [
    "***\n",
    "**<span style=\"color:blue\">Answer 5.2(b):</span>**\n",
    "\n",
    "[//]: # (Please do not delete this comment or anything above it.  Anything below this comment can be deleted.)  \n",
    "\n",
    "Double click this cell and enter your text here.  Please start be entering the name and student number of **Partner B**.  When done, hit 'Shift' + 'Enter' to execute the cell.  You may delete this text when entering your answer. "
   ]
  },
  {
   "cell_type": "markdown",
   "id": "b172cd26",
   "metadata": {
    "deletable": false,
    "editable": false,
    "tags": []
   },
   "source": [
    "<!-- END QUESTION -->\n",
    "\n",
    "<!-- BEGIN QUESTION -->\n",
    "\n",
    "***\n",
    "**<span style=\"color:blue\">Question 5.3:</span>**  \n",
    "\n",
    "We welcome your feedback on the PHYS 121 labs!  Please feel free to include any comments you have about this lab in the cell below.  Your comments will be taken into consideration when revising/improving the PHYS 121 labs.  You can suggest improvements, point out anything that was unclear, comment on the strengths and weaknesses of the lab, ...\n",
    "\n",
    "This question is optional and will have no impact on your lab grade."
   ]
  },
  {
   "cell_type": "markdown",
   "id": "da1ade3b",
   "metadata": {},
   "source": [
    "***\n",
    "**<span style=\"color:blue\">Answer 5.3:</span>**\n",
    "\n",
    "[//]: # (Please do not delete this comment or anything above it.  Anything below this comment can be deleted.)  \n",
    "\n",
    "Double click this cell and enter your text here.  When done, hit 'Shift' + 'Enter' to execute the cell.  You may delete this text when entering your answer. "
   ]
  },
  {
   "cell_type": "markdown",
   "id": "6cc19def",
   "metadata": {
    "deletable": false,
    "editable": false,
    "tags": []
   },
   "source": [
    "<!-- END QUESTION -->\n",
    "\n",
    "***\n",
    "Once you've completed this notebook:\n",
    "- Save your work.\n",
    "- Run 'grader.check_all()' to confirm that you've completed all required tasks.\n",
    "- Run 'grader.export()' to generate a .zip file containing all of the materials that you will submit.\n",
    "- Download the generated .zip file.\n",
    "- Upload the .zip file to the PHYS 121 Canvas gradebook.\n",
    "- **Do NOT change the number of the .zip file.**\n",
    "- **Do NOT modify the contents of the .zip file.**\n",
    "\n",
    "Here is a <a href = \"https://raw.githubusercontent.com/UBC-Okanagan-Physics-Labs/PHYS-121-images/main/general/gifs/Submission.gif\">GIF</a> showing how these steps are completed.  Once your completed notebook has been uploaded to the Canvas gradebook, you're done!"
   ]
  },
  {
   "cell_type": "markdown",
   "id": "4c39c834",
   "metadata": {
    "deletable": false,
    "editable": false,
    "tags": []
   },
   "source": [
    "---\n",
    "\n",
    "To double-check your work, the cell below will rerun all of the autograder tests."
   ]
  },
  {
   "cell_type": "code",
   "execution_count": null,
   "id": "fa1e01d8",
   "metadata": {
    "deletable": false,
    "editable": false,
    "tags": []
   },
   "outputs": [],
   "source": [
    "grader.check_all()"
   ]
  },
  {
   "cell_type": "markdown",
   "id": "6f054be0",
   "metadata": {
    "deletable": false,
    "editable": false,
    "tags": []
   },
   "source": [
    "## Submission\n",
    "\n",
    "Make sure you have run all cells in your notebook in order before running the cell below, so that all images/graphs appear in the output. The cell below will generate a zip file for you to submit. **Please save before exporting!**"
   ]
  },
  {
   "cell_type": "code",
   "execution_count": null,
   "id": "4cb1cbf6",
   "metadata": {
    "deletable": false,
    "editable": false,
    "tags": []
   },
   "outputs": [],
   "source": [
    "# Save your notebook first, then run this cell to export your submission.\n",
    "grader.export(files = ['PHYS121_DataLogger.txt'])"
   ]
  },
  {
   "cell_type": "markdown",
   "id": "e2d11263",
   "metadata": {
    "deletable": false,
    "editable": false,
    "tags": []
   },
   "source": [
    "# <div style=\"background-color:rgba(255, 204, 255, 0.5); text-align:center; vertical-align: middle; padding:40px 0; margin-top:30px\"><span style=\"color:rgba(102, 0, 204, 1);\">Part 6 - Playground (optional)</span></div>\n",
    "\n",
    "Feel free to add as many cells as you like below and use them as a playground for further independent investigations.  These cells won't be graded, so feel free to use them in any way that you like.  "
   ]
  },
  {
   "cell_type": "code",
   "execution_count": null,
   "id": "a63f8d54",
   "metadata": {},
   "outputs": [],
   "source": [
    "# Here's an empty code cell that you can use.  "
   ]
  },
  {
   "cell_type": "code",
   "execution_count": null,
   "id": "331697c5",
   "metadata": {},
   "outputs": [],
   "source": [
    "# Here's another empty code cell that you can use."
   ]
  },
  {
   "cell_type": "code",
   "execution_count": null,
   "id": "f19c7527",
   "metadata": {},
   "outputs": [],
   "source": [
    "# Here's yet another empty code cell that you can use.  \n",
    "# If you need more, you can add cells using the '+' icon in the menu bar at to the top of the screen."
   ]
  },
  {
   "cell_type": "markdown",
   "id": "6368c2c4",
   "metadata": {
    "deletable": false,
    "editable": false,
    "tags": []
   },
   "source": [
    "### <div style=\"background-color:rgba(255, 255, 102, 0.5); text-align:left; padding:20px 0; margin-top:20px\">$\\quad$Appendix A &ndash; The Scatter Function...</div>\n",
    "\n",
    "The function for generating scatter plots is called as follows:\n",
    "```python\n",
    "Scatter(xData, yData, yErrors = [], xlabel = 'x-axis', ylabel = 'y-axis', xUnits = '', yUnits = '', fill = False, show = True)\n",
    "```\n",
    "The 'xData' and 'yData' inputs are required, all other arguments are optional with default values set.  The function returns the a single output (the formatted plot):\n",
    "```python\n",
    "fig\n",
    "```\n",
    "\n",
    "The function will do a simple scatter plot if no 'yError' are included.  It will included error bars if 'yErrors' are passed to the function.  The 'fill' and 'show' arguments should generally be false.  \n",
    "\n",
    "If the 'xData' list is empty, as in:\n",
    "```python\n",
    "xData = []\n",
    "```\n",
    "then the x-axis will be the trial number.  For example, is 'xData' is empty and 'yData' has 10 elements, the x-axis will span 1 to 10.\n",
    "\n",
    "### Scatter Example Implmentation\n",
    "The code block below shows an implementation of 'Scatter'.\n",
    "```python\n",
    "import PHYS121\n",
    "theta = [10, 20, 30] # degrees\n",
    "T = [2.02, 1.95, 2.13] # s\n",
    "errT = [0.02, 0.02, 0.03] # s\n",
    "fig = PHYS121.Scatter(theta, T, errT, 'initial angle' , 'period', 'degrees', 's')\n",
    "```\n",
    "\n",
    "If you're interested in generating your own plots with customized formatting, see the following Python-based plotting tutorial: https://cmps-people.ok.ubc.ca/jbobowsk/Python/html/Jupyter%20Basic%20Plots.html.\n",
    "***"
   ]
  },
  {
   "cell_type": "markdown",
   "id": "6304bf57",
   "metadata": {
    "deletable": false,
    "editable": false,
    "tags": []
   },
   "source": [
    "<img src=\"https://raw.githubusercontent.com/UBC-Okanagan-Physics-Labs/PHYS-121-images/main/general/images/ubc-logo-full.jpg\" width=\"500\"/>"
   ]
  },
  {
   "cell_type": "markdown",
   "id": "4d13c6d4",
   "metadata": {},
   "source": [
    "Last update: February 1, 2024"
   ]
  }
 ],
 "metadata": {
  "kernelspec": {
   "display_name": "Python 3 (ipykernel)",
   "language": "python",
   "name": "python3"
  },
  "language_info": {
   "codemirror_mode": {
    "name": "ipython",
    "version": 3
   },
   "file_extension": ".py",
   "mimetype": "text/x-python",
   "name": "python",
   "nbconvert_exporter": "python",
   "pygments_lexer": "ipython3",
   "version": "3.10.6"
  },
  "otter": {
   "OK_FORMAT": true,
   "tests": {
    "name_and_student_number_1": {
     "name": "name_and_student_number_1",
     "points": null,
     "suites": [
      {
       "cases": [
        {
         "code": ">>> isinstance(last_name_1, str)\nTrue",
         "failure_message": "last_name_1 must be a string (i.e. surround your answer by either single or double quotes).",
         "hidden": false,
         "locked": false,
         "points": 0
        },
        {
         "code": ">>> isinstance(first_name_1, str)\nTrue",
         "failure_message": "first_name_1 must be a string (i.e. surround your answer by either single or double quotes).",
         "hidden": false,
         "locked": false,
         "points": 0
        },
        {
         "code": ">>> isinstance(student_number_1, str)\nTrue",
         "failure_message": "student_number_1 must be a string (i.e. surround your answer by either single or double quotes).",
         "hidden": false,
         "locked": false,
         "points": 0
        },
        {
         "code": ">>> test = True\n>>> if isinstance(student_number_1, str):\n...     test = len(student_number_1) == 8\n>>> test\nTrue",
         "failure_message": "student_number_1 must be a string of exactly 8 characters.",
         "hidden": false,
         "locked": false,
         "points": 0
        },
        {
         "code": ">>> test = True\n>>> if isinstance(student_number_1, str):\n...     test = student_number_1.isdigit()\n>>> test\nTrue",
         "failure_message": "student_number_1 must contain only interger digits (0, 1, 2, 3, ..., 9)",
         "hidden": false,
         "locked": false,
         "points": 0.5
        }
       ],
       "scored": true,
       "setup": "",
       "teardown": "",
       "type": "doctest"
      }
     ]
    },
    "name_and_student_number_2": {
     "name": "name_and_student_number_2",
     "points": null,
     "suites": [
      {
       "cases": [
        {
         "code": ">>> isinstance(last_name_2, str) or last_name_2 == ...\nTrue",
         "failure_message": "last_name_2 must be a string (i.e. surround your answer by either single or double quotes).",
         "hidden": false,
         "locked": false,
         "points": 0
        },
        {
         "code": ">>> isinstance(first_name_2, str) or first_name_2 == ...\nTrue",
         "failure_message": "first_name_2 must be a string (i.e. surround your answer by either single or double quotes).",
         "hidden": false,
         "locked": false,
         "points": 0
        },
        {
         "code": ">>> isinstance(student_number_2, str) or student_number_2 == ...\nTrue",
         "failure_message": "student_number_2 must be a string (i.e. surround your answer by either single or double quotes).",
         "hidden": false,
         "locked": false,
         "points": 0
        },
        {
         "code": ">>> test = True\n>>> if isinstance(student_number_2, str):\n...     test = len(student_number_2) == 8\n>>> test\nTrue",
         "failure_message": "student_number_2 must be a string of exactly 8 characters or be left as ...",
         "hidden": false,
         "locked": false,
         "points": 0
        },
        {
         "code": ">>> test = True\n>>> if isinstance(student_number_2, str):\n...     test = student_number_2.isdigit()\n>>> test\nTrue",
         "failure_message": "student_number_2 must contain only interger digits (0, 1, 2, 3, ..., 9) or be left as ...",
         "hidden": false,
         "locked": false,
         "points": 0.5
        }
       ],
       "scored": true,
       "setup": "",
       "teardown": "",
       "type": "doctest"
      }
     ]
    }
   }
  }
 },
 "nbformat": 4,
 "nbformat_minor": 5
}
